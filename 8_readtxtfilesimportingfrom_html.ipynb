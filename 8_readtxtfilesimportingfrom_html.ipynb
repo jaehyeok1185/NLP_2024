{
  "nbformat": 4,
  "nbformat_minor": 0,
  "metadata": {
    "colab": {
      "provenance": [],
      "include_colab_link": true
    },
    "kernelspec": {
      "name": "python3",
      "display_name": "Python 3"
    },
    "language_info": {
      "name": "python"
    },
    "widgets": {
      "application/vnd.jupyter.widget-state+json": {
        "c7663a091c3b4ddab0bc988547424a3c": {
          "model_module": "@jupyter-widgets/controls",
          "model_name": "HBoxModel",
          "model_module_version": "1.5.0",
          "state": {
            "_dom_classes": [],
            "_model_module": "@jupyter-widgets/controls",
            "_model_module_version": "1.5.0",
            "_model_name": "HBoxModel",
            "_view_count": null,
            "_view_module": "@jupyter-widgets/controls",
            "_view_module_version": "1.5.0",
            "_view_name": "HBoxView",
            "box_style": "",
            "children": [
              "IPY_MODEL_469c6c9c911841bb9f6c74cb41eee672",
              "IPY_MODEL_1cdc1ed52d5849439fa6db00dffc71ff"
            ],
            "layout": "IPY_MODEL_3e5c3871290a49a9a0701c2ec4ed23a6"
          }
        },
        "469c6c9c911841bb9f6c74cb41eee672": {
          "model_module": "@jupyter-widgets/controls",
          "model_name": "ImageModel",
          "model_module_version": "1.5.0",
          "state": {
            "_dom_classes": [],
            "_model_module": "@jupyter-widgets/controls",
            "_model_module_version": "1.5.0",
            "_model_name": "ImageModel",
            "_view_count": null,
            "_view_module": "@jupyter-widgets/controls",
            "_view_module_version": "1.5.0",
            "_view_name": "ImageView",
            "format": "png",
            "height": "600",
            "layout": "IPY_MODEL_d94fdd8a133a433487bbbaacb63ec82f",
            "width": "700"
          }
        },
        "1cdc1ed52d5849439fa6db00dffc71ff": {
          "model_module": "@jupyter-widgets/controls",
          "model_name": "VBoxModel",
          "model_module_version": "1.5.0",
          "state": {
            "_dom_classes": [],
            "_model_module": "@jupyter-widgets/controls",
            "_model_module_version": "1.5.0",
            "_model_name": "VBoxModel",
            "_view_count": null,
            "_view_module": "@jupyter-widgets/controls",
            "_view_module_version": "1.5.0",
            "_view_name": "VBoxView",
            "box_style": "",
            "children": [
              "IPY_MODEL_35aba5c01a4e41c287cafa02530c7a54",
              "IPY_MODEL_507f117b2fa3426bb06010ab7f009bf5",
              "IPY_MODEL_4043d9dd7c4442bfa0aae1357fb59e1f"
            ],
            "layout": "IPY_MODEL_a8ad3b06411348d2956be36bfd0f51ef"
          }
        },
        "3e5c3871290a49a9a0701c2ec4ed23a6": {
          "model_module": "@jupyter-widgets/base",
          "model_name": "LayoutModel",
          "model_module_version": "1.2.0",
          "state": {
            "_model_module": "@jupyter-widgets/base",
            "_model_module_version": "1.2.0",
            "_model_name": "LayoutModel",
            "_view_count": null,
            "_view_module": "@jupyter-widgets/base",
            "_view_module_version": "1.2.0",
            "_view_name": "LayoutView",
            "align_content": null,
            "align_items": null,
            "align_self": null,
            "border": null,
            "bottom": null,
            "display": null,
            "flex": null,
            "flex_flow": null,
            "grid_area": null,
            "grid_auto_columns": null,
            "grid_auto_flow": null,
            "grid_auto_rows": null,
            "grid_column": null,
            "grid_gap": null,
            "grid_row": null,
            "grid_template_areas": null,
            "grid_template_columns": null,
            "grid_template_rows": null,
            "height": null,
            "justify_content": null,
            "justify_items": null,
            "left": null,
            "margin": null,
            "max_height": null,
            "max_width": null,
            "min_height": null,
            "min_width": null,
            "object_fit": null,
            "object_position": null,
            "order": null,
            "overflow": null,
            "overflow_x": null,
            "overflow_y": null,
            "padding": null,
            "right": null,
            "top": null,
            "visibility": null,
            "width": null
          }
        },
        "d94fdd8a133a433487bbbaacb63ec82f": {
          "model_module": "@jupyter-widgets/base",
          "model_name": "LayoutModel",
          "model_module_version": "1.2.0",
          "state": {
            "_model_module": "@jupyter-widgets/base",
            "_model_module_version": "1.2.0",
            "_model_name": "LayoutModel",
            "_view_count": null,
            "_view_module": "@jupyter-widgets/base",
            "_view_module_version": "1.2.0",
            "_view_name": "LayoutView",
            "align_content": null,
            "align_items": null,
            "align_self": null,
            "border": null,
            "bottom": null,
            "display": null,
            "flex": null,
            "flex_flow": null,
            "grid_area": null,
            "grid_auto_columns": null,
            "grid_auto_flow": null,
            "grid_auto_rows": null,
            "grid_column": null,
            "grid_gap": null,
            "grid_row": null,
            "grid_template_areas": null,
            "grid_template_columns": null,
            "grid_template_rows": null,
            "height": null,
            "justify_content": null,
            "justify_items": null,
            "left": null,
            "margin": null,
            "max_height": null,
            "max_width": null,
            "min_height": null,
            "min_width": null,
            "object_fit": null,
            "object_position": null,
            "order": null,
            "overflow": null,
            "overflow_x": null,
            "overflow_y": null,
            "padding": null,
            "right": null,
            "top": null,
            "visibility": null,
            "width": null
          }
        },
        "35aba5c01a4e41c287cafa02530c7a54": {
          "model_module": "@jupyter-widgets/controls",
          "model_name": "ButtonModel",
          "model_module_version": "1.5.0",
          "state": {
            "_dom_classes": [],
            "_model_module": "@jupyter-widgets/controls",
            "_model_module_version": "1.5.0",
            "_model_name": "ButtonModel",
            "_view_count": null,
            "_view_module": "@jupyter-widgets/controls",
            "_view_module_version": "1.5.0",
            "_view_name": "ButtonView",
            "button_style": "",
            "description": "1",
            "disabled": false,
            "icon": "",
            "layout": "IPY_MODEL_2d4a9a05c9684dd0b918ca5dc5c19521",
            "style": "IPY_MODEL_eced43180e2b4198b2aeaa9fca9850b8",
            "tooltip": ""
          }
        },
        "507f117b2fa3426bb06010ab7f009bf5": {
          "model_module": "@jupyter-widgets/controls",
          "model_name": "ButtonModel",
          "model_module_version": "1.5.0",
          "state": {
            "_dom_classes": [],
            "_model_module": "@jupyter-widgets/controls",
            "_model_module_version": "1.5.0",
            "_model_name": "ButtonModel",
            "_view_count": null,
            "_view_module": "@jupyter-widgets/controls",
            "_view_module_version": "1.5.0",
            "_view_name": "ButtonView",
            "button_style": "",
            "description": "2",
            "disabled": false,
            "icon": "",
            "layout": "IPY_MODEL_2d4a9a05c9684dd0b918ca5dc5c19521",
            "style": "IPY_MODEL_1378390099b94f1e8bf51b2f59790fec",
            "tooltip": ""
          }
        },
        "4043d9dd7c4442bfa0aae1357fb59e1f": {
          "model_module": "@jupyter-widgets/controls",
          "model_name": "ButtonModel",
          "model_module_version": "1.5.0",
          "state": {
            "_dom_classes": [],
            "_model_module": "@jupyter-widgets/controls",
            "_model_module_version": "1.5.0",
            "_model_name": "ButtonModel",
            "_view_count": null,
            "_view_module": "@jupyter-widgets/controls",
            "_view_module_version": "1.5.0",
            "_view_name": "ButtonView",
            "button_style": "",
            "description": "3",
            "disabled": false,
            "icon": "",
            "layout": "IPY_MODEL_2d4a9a05c9684dd0b918ca5dc5c19521",
            "style": "IPY_MODEL_7158ef82bdf1442e8efd5cea86c264b8",
            "tooltip": ""
          }
        },
        "a8ad3b06411348d2956be36bfd0f51ef": {
          "model_module": "@jupyter-widgets/base",
          "model_name": "LayoutModel",
          "model_module_version": "1.2.0",
          "state": {
            "_model_module": "@jupyter-widgets/base",
            "_model_module_version": "1.2.0",
            "_model_name": "LayoutModel",
            "_view_count": null,
            "_view_module": "@jupyter-widgets/base",
            "_view_module_version": "1.2.0",
            "_view_name": "LayoutView",
            "align_content": null,
            "align_items": null,
            "align_self": null,
            "border": null,
            "bottom": null,
            "display": null,
            "flex": null,
            "flex_flow": null,
            "grid_area": null,
            "grid_auto_columns": null,
            "grid_auto_flow": null,
            "grid_auto_rows": null,
            "grid_column": null,
            "grid_gap": null,
            "grid_row": null,
            "grid_template_areas": null,
            "grid_template_columns": null,
            "grid_template_rows": null,
            "height": null,
            "justify_content": null,
            "justify_items": null,
            "left": null,
            "margin": null,
            "max_height": null,
            "max_width": null,
            "min_height": null,
            "min_width": null,
            "object_fit": null,
            "object_position": null,
            "order": null,
            "overflow": null,
            "overflow_x": null,
            "overflow_y": null,
            "padding": null,
            "right": null,
            "top": null,
            "visibility": null,
            "width": null
          }
        },
        "2d4a9a05c9684dd0b918ca5dc5c19521": {
          "model_module": "@jupyter-widgets/base",
          "model_name": "LayoutModel",
          "model_module_version": "1.2.0",
          "state": {
            "_model_module": "@jupyter-widgets/base",
            "_model_module_version": "1.2.0",
            "_model_name": "LayoutModel",
            "_view_count": null,
            "_view_module": "@jupyter-widgets/base",
            "_view_module_version": "1.2.0",
            "_view_name": "LayoutView",
            "align_content": null,
            "align_items": null,
            "align_self": null,
            "border": null,
            "bottom": null,
            "display": null,
            "flex": null,
            "flex_flow": null,
            "grid_area": null,
            "grid_auto_columns": null,
            "grid_auto_flow": null,
            "grid_auto_rows": null,
            "grid_column": null,
            "grid_gap": null,
            "grid_row": null,
            "grid_template_areas": null,
            "grid_template_columns": null,
            "grid_template_rows": null,
            "height": "30px",
            "justify_content": null,
            "justify_items": null,
            "left": null,
            "margin": null,
            "max_height": null,
            "max_width": null,
            "min_height": null,
            "min_width": null,
            "object_fit": null,
            "object_position": null,
            "order": null,
            "overflow": null,
            "overflow_x": null,
            "overflow_y": null,
            "padding": null,
            "right": null,
            "top": null,
            "visibility": null,
            "width": "50px"
          }
        },
        "eced43180e2b4198b2aeaa9fca9850b8": {
          "model_module": "@jupyter-widgets/controls",
          "model_name": "ButtonStyleModel",
          "model_module_version": "1.5.0",
          "state": {
            "_model_module": "@jupyter-widgets/controls",
            "_model_module_version": "1.5.0",
            "_model_name": "ButtonStyleModel",
            "_view_count": null,
            "_view_module": "@jupyter-widgets/base",
            "_view_module_version": "1.2.0",
            "_view_name": "StyleView",
            "button_color": null,
            "font_weight": ""
          }
        },
        "1378390099b94f1e8bf51b2f59790fec": {
          "model_module": "@jupyter-widgets/controls",
          "model_name": "ButtonStyleModel",
          "model_module_version": "1.5.0",
          "state": {
            "_model_module": "@jupyter-widgets/controls",
            "_model_module_version": "1.5.0",
            "_model_name": "ButtonStyleModel",
            "_view_count": null,
            "_view_module": "@jupyter-widgets/base",
            "_view_module_version": "1.2.0",
            "_view_name": "StyleView",
            "button_color": null,
            "font_weight": ""
          }
        },
        "7158ef82bdf1442e8efd5cea86c264b8": {
          "model_module": "@jupyter-widgets/controls",
          "model_name": "ButtonStyleModel",
          "model_module_version": "1.5.0",
          "state": {
            "_model_module": "@jupyter-widgets/controls",
            "_model_module_version": "1.5.0",
            "_model_name": "ButtonStyleModel",
            "_view_count": null,
            "_view_module": "@jupyter-widgets/base",
            "_view_module_version": "1.2.0",
            "_view_name": "StyleView",
            "button_color": null,
            "font_weight": ""
          }
        }
      }
    }
  },
  "cells": [
    {
      "cell_type": "markdown",
      "metadata": {
        "id": "view-in-github",
        "colab_type": "text"
      },
      "source": [
        "<a href=\"https://colab.research.google.com/github/jaehyeok1185/NLP_2024/blob/main/8_readtxtfilesimportingfrom_html.ipynb\" target=\"_parent\"><img src=\"https://colab.research.google.com/assets/colab-badge.svg\" alt=\"Open In Colab\"/></a>"
      ]
    },
    {
      "cell_type": "markdown",
      "source": [
        "## 🐹🍏  <font color = 'red'> **Step-by-Step to get your text file ready for further analysis as UTF-8 (Unicode Transformation Format)**</font>\n",
        "\n",
        "**On your machine**\n",
        "* **Mac**\n",
        "  - [If you want to copy sentences excerpted from Crime and Punishment by Fyodor Dostovesky, click here!](https://raw.githubusercontent.com/ms624atyale/Data_Misc/main/Crime_Punishment_ChOne_Part.txt)\n",
        "  - Copy content from your **ms word** or html and paste it to **TextEdit**.\n",
        "\n",
        "\n",
        "      1. Go to [Format] -> [Make Plain Text]</font>\n",
        "      \n",
        "      2. Hit [Save] -> Choose a directory -> Type in a file name under \"Save as\" -> Check Plain Text Encoding: Unicode (UTF-8)\n",
        "      (If no extension is provided, use .txt)\n",
        "\n",
        "      3. In the term \"UTF-8,\" the number 8 refers to the number of bits used to encode characters in the UTF-8 character\n",
        "      encoding scheme. UTF-8 is a variable-width encoding that can use 8, 16, or 24 bits to represent characters,\n",
        "      but the most commonly used range is the 8-bit representation. This means that characters in UTF-8 can be encoded\n",
        "      using 1 to 4 bytes, with the most common characters (those in the ASCII character set) represented using\n",
        "      a single byte (8 bits). UTF-8은 가변 폭 인코딩으로, 문자를 나타내는 데 8, 16 또는 24비트를 사용할 수 있지만, 가장 일반적으로\n",
        "      사용되는 범위는 8비트 표현입니다. 이는 UTF-8에서 문자를 1바이트에서 4바이트까지 인코딩할 수 있음을 의미하며, 가장 일반적인 문자(ASCII 문자 집합에 속하는 문자)는\n",
        "      1바이트(8비트)로 표현됩니다.\n",
        ">\n",
        "* **MS Word**\n",
        "  * [If you want to copy sentences excerpted from Crime and Punishment by Fyodor Dostovesky, click here!](https://raw.githubusercontent.com/ms624atyale/Data_Misc/main/Crime_Punishment_ChOne_Part.txt)\n",
        "  * Write something on **MS Word** or copy content from html document and paste it to **MS Word**.\n",
        "  \n",
        "        1.Go to [File] -> [Save As...] Choose [File Format] -> [Plain Text(.txt)]\n",
        "        \n",
        "        2. Hit [Save] -> [Other Encoding] -> Unicode(UTF-8) -> End lines with CR-Only (by default) or CR/LF\n",
        "        -> Document direction: [Left-to-right] -> Hit [OK]\n",
        ">\n",
        "\n",
        "* **PC**\n",
        "  * [If you want to copy sentences excerpted from Crime and Punishment by Fyodor Dostovesky, click here!](https://raw.githubusercontent.com/ms624atyale/Data_Misc/main/Crime_Punishment_ChOne_Part.txt)\n",
        "  * Copy content from your **ms word** or html and paste it to **WordPad 메모장**.\n",
        "  \n",
        "        1.Go to [File] -> [Save As...] Choose [Text Document]\n",
        "        \n",
        "        2. Hit [Save] -> Choose a directory -> Type in a file name under \"Save as\" -> Check Plain Text Encoding:\n",
        "        Unicode (UTF-8) (If no extension is provided, use .txt)\n",
        "\n",
        "        3. If you are given two options, UTF-8a and UTF-8b, choose UTF-8b (aka, UTF-8 without BOM),\n",
        "        which is the standard UTF-8. It is a safer choice for maximum compatibility, especially in\n",
        "        cross-platform applications.\n",
        ">\n",
        "**<font color = 'red'>💣 [Warning]** </font>\n",
        "* Do not select Rich Text Format (RTF), which is the default.\n",
        "\n",
        "* Note: Some programs give you multiple options for plain text. If this is the case in your program, make sure that you do _NOT_ select *Unicode (UTF-16).\n",
        "\n",
        ">\n",
        "\n",
        "**On Github**\n",
        "1. Create a data repository on Github (e.g., Temp_Data).\n",
        "2. Upload your text file on a data repository.\n",
        "> [Add file] -> [Upload files] -> \"Drag files here to add them to your repository or Choose your files.\n",
        "3. Hit \"Commit changes\"\n",
        "\n",
        "### 🐼🍎  <font color = 'green'> **Now you are ready to use codelines below. Good luck!**"
      ],
      "metadata": {
        "id": "xqIBAjzWtXyq"
      }
    },
    {
      "cell_type": "markdown",
      "source": [
        "## 📙 **Open & Close**\n",
        "\n",
        "| 모드     | 설명  |\n",
        "|:--------|:-:|\n",
        "| r or rt | 텍스트 모드로 읽기 |\n",
        "| w or wt | 텍스트 모드로 쓰기 |\n",
        "| a or at | 텍스트 모드로 파일 마지막에 추가하기 |\n",
        "| rb| binary 모드로 읽기 |\n",
        "| wb | binary 모드로 쓰기 |\n",
        "| ab| binary 모드로 마지막에 추가하기|\n",
        ">\n",
        "#### 🎲 파일을 열 때에는 내장함수 (open(인자1, 인자2))을 사용한다.\n",
        "  \n",
        "  - 첫번째 인자에 파일 포멧까지 적어준다.\n",
        "  - 첫번째 인자는 파일이름만 쓰거나 전체적인 directory을 d: / / 등으로 슬래시를 사용하여 표시할 수 있다.\n",
        "  - 예시\n",
        "      - file1 = open('이미지파일.jpg', 'rb')\n",
        "      - file2 = open('텍스트파일.txt', 'rt')\n",
        "\n",
        ">\n",
        "#### 🎲🎲   읽을 수 있는 모드로 파일을 먼저 호출 했으면, ➡️ 이 파일 안에 내용을 읽을 때에는 내장함수 read()를 사용한다. 파일변수 입력 후, Period 찍고, read() 내장함수를 입력한다. (예시: variable.read()).\n",
        "\n",
        "#### 🎲🎲🎲   파일을 닫을 때에는 열어놓은 파일 변수 입력 후, Period 찍고, close() 내장함수를 입력한다. (예시: variable.close())\n",
        "\n"
      ],
      "metadata": {
        "id": "k038ga9yzwc_"
      }
    },
    {
      "cell_type": "markdown",
      "source": [
        "####**<font color = 'brown'> 1. about URL** </font>\n",
        "  - http://google.com\n",
        "  - http://github.com\n",
        "  - http://gamil.com"
      ],
      "metadata": {
        "id": "dK1rys_JnMxK"
      }
    },
    {
      "cell_type": "code",
      "source": [
        "from urllib.request import urlopen\n",
        "url = 'https://google.com/'\n",
        "with urlopen(url) as f:\n",
        "  content = f.read().decode()\n",
        "  with open('google_html', 'w') as cf:\n",
        "    cf.write(content)"
      ],
      "metadata": {
        "id": "14QBueYgaxAy"
      },
      "execution_count": null,
      "outputs": []
    },
    {
      "cell_type": "code",
      "source": [
        "#@markdown ### 🐹 <font color = 'red'>**Student Activity 1** ⤵️\n",
        "\n",
        "#@markdown 👀🐾 **1. Simple way to read and save the content of the url of your chice.**\n",
        "\n",
        "#@markdown **e.g., Print hyper text markup language (html)**\n",
        "\n",
        "from urllib.request import urlopen\n",
        "\n",
        "url = 'https://google.com/'\n",
        "\n",
        "with urlopen(url) as f:\n",
        "  content = f.read().decode()\n",
        "  with open('google_html', 'w') as cf:\n",
        "    cf.write(content)"
      ],
      "metadata": {
        "id": "YLHknzh4pwVV"
      },
      "execution_count": null,
      "outputs": []
    },
    {
      "cell_type": "markdown",
      "source": [
        "## 📙 **Making a directory & uploading files on Colab**\n",
        "* Colab 작업 디렉토리에서 폴더를 생성하여 다른 곳에서 다운로드 받은 단/복수의 파일을 옮겨 넣는 방법\n",
        "  * 코랩에 기본으로 깔려 있는 sample_data 에 커서를 대면 활성화되면서 우측에 세로 점 3 개가 나타난다. 거기를 클릭하면 선택사항 -> [new folder]를 클릭한다.\n",
        "  * [new folder]를 drag해서 [sample_data] 쪽으로 끌어오면, 해당 폴더가 이동하여 폴더 레벨이 높아진다.\n",
        "  * [new folder]에 커서를 대면 활성화되면서 우측에 세로 점 3 개가 나타난다. 클릭해서 폴더명을 새이름으로 바꾼다. e.g., [Uename Folder] -> [exercise]\n",
        "  * 해당 폴더에 cursor를 접근시키면 폴더가 활성화되면서 우측에 세로 점 3 개가 나타난다. Upload 클릭해서 본인 컴퓨터에 다운로드 받은 복수의 파일을 모두 업로드 한다.\n"
      ],
      "metadata": {
        "id": "EazumxaG0c0a"
      }
    },
    {
      "cell_type": "markdown",
      "source": [
        "####**<font color = 'brown'> 3. Read text I**"
      ],
      "metadata": {
        "id": "79w9VyrTRPuU"
      }
    },
    {
      "cell_type": "code",
      "source": [
        "file=open('/content/exercise/crime&punishment_ChOne_Part.txt','rt')\n",
        "\n",
        "txt = file.read()\n",
        "print(txt)\n",
        "file.close()"
      ],
      "metadata": {
        "id": "3v-nFb9me3Dq"
      },
      "execution_count": null,
      "outputs": []
    },
    {
      "cell_type": "code",
      "source": [
        "#@markdown ### 🐹 <font color = 'red'>**Student Activity 2** ⤵️\n",
        "\n",
        "#@markdown 👀🐾 **Read and close a text file from the Colab directory.**\n",
        "\n",
        "file=open('/content/sample_data/Crime_Punishment_ChOne_Part.txt','rt')\n",
        "\n",
        "txt = file.read()\n",
        "print(txt)\n",
        "file.close()"
      ],
      "metadata": {
        "id": "nV9CfiZ2kdGo"
      },
      "execution_count": null,
      "outputs": []
    },
    {
      "cell_type": "markdown",
      "source": [
        "####**<font color = 'brown'> 3. Read text II**"
      ],
      "metadata": {
        "id": "xt9W0hyKwsG7"
      }
    },
    {
      "cell_type": "code",
      "source": [
        "import urllib.request\n",
        "url = \"https://raw.githubusercontent.com/ms624atyale/Temp_Data/main/Crime_Punishment_ChOne_Part.txt\"\n",
        "response = urllib.request.urlopen(url)\n",
        "content= response.read().decode('utf-8')\n",
        "print(content)"
      ],
      "metadata": {
        "colab": {
          "base_uri": "https://localhost:8080/"
        },
        "id": "5NS2IieLf4rG",
        "outputId": "cf0ef7ce-1401-49ed-f8ea-de91e5be57e6"
      },
      "execution_count": null,
      "outputs": [
        {
          "output_type": "stream",
          "name": "stdout",
          "text": [
            "He had successfully avoided meeting his landlady on the stairs. His closet of a room was under the roof of a high, five-floor house and was more like a cupboard than a place in which to live. The landlady who provided him with the room and with dinner and service lived on the floor below, and every time he went out he was obliged to pass her kitchen, the door of which was always open. And each time he passed, the young man had a sick, frightened feeling, which made him grimace and feel ashamed. He was hopelessly in debt to his landlady and was afraid of meeting her.\n",
            "\n",
            "This was not because he was cowardly and browbeaten, quite the contrary; but for some time past he had been in an overstrained irritable condition, verging on hypochondria. He had become so completely absorbed in himself and isolated from everyone else that he dreaded meeting not only his landlady, but anyone at all. He was crushed by poverty, but even the anxieties of his position had recently ceased to weigh upon him. He had given up attending to matters of practical importance; he had lost all desire to do so. In fact, nothing that any landlady could do held any terror for him. But to be stopped on the stairs, to be forced to listen to her trivial, irrelevant gossip, to pestering demands for payment, threats and complaints, all the while racking his brains for excuses, avoiding the issue, lying — no, he would rather creep down the stairs like a cat and slip out unseen.\n",
            "\n",
            "However, when he emerged onto the street that evening, he became acutely aware of his fears.\n",
            "\n",
            "“I want to attempt a thing like that and am frightened by these trifles,” he thought, with an odd smile. “Hm . . . yes, everything is in someone’s hands and they let it all slip out of cowardice, that’s an axiom. It would be interesting to know what it is people are most afraid of. Taking a new step, uttering a new word is what they fear most . . . But I am talking too much. It’s because I babble that I do nothing. Or perhaps it is that I babble because I do nothing. I’ve learned to babble this last month, lying for days on end in my corner thinking . . . just nonsense. Why am I going there now? Am I capable of that? Is that seriously possible? I’m not serious about it at all. It’s just a fantasy to amuse myself; a plaything! Yes, maybe it is a plaything.”\n",
            "\n",
            "The heat in the street was terrible: and the airlessness, the bustle, the plaster, the scaffolding, the bricks and the dust all around him, and that special Petersburg stench, so familiar to everyone who is unable to get out of town during the summer — all worked painfully upon the young man’s already overwrought nerves. The unbearable stench from the taverns, which are particularly numerous in that part of the town, and the drunken men whom he met continually, although it was a weekday, completed the revolting misery of the picture. An expression of the deepest disgust gleamed for a moment in the young man’s refined face. He was, by the way, exceptionally handsome, above average in height, slim, well-built, with beautiful dark eyes and dark brown hair. Soon, though, he sank into deep thought, or more accurately speaking into a complete blankness of mind; he walked along not observing what was around him and not caring to observe it. From time to time, because he used to talk to himself, he would mutter something, a habit to which he had just confessed. At these moments he would become conscious that his ideas were sometimes in a tangle and that he was very weak; for two days he had had almost nothing to eat.\n",
            "\n",
            "He was so badly dressed that even a man accustomed to shabbiness would have been ashamed to be seen in the street in such rags. In that part of town, however, scarcely any shortcoming in dress would have created surprise. Due to the proximity of the Haymarket, the number of establishments of a certain kind and the overwhelming numbers of craftsmen and workers crowded in these streets and alleys at the center of Petersburg, so many different types of people were to be seen in the streets that no figure, however strange, would have caused surprise. But there was such accumulated spite and contempt in the young man’s heart, that, in spite of all the cares of youth, he minded his rags least of all. It was a different matter when he met with acquaintances or with former fellow students, whom, indeed, he disliked meeting at any time. And yet when a drunken man who, for some unknown reason, was being taken somewhere in a huge cart dragged by a heavy cart-horse, suddenly shouted at him as he drove past, “Hey there, German hatter,” bellowing at the top of his voice and pointing at him — the young man stopped suddenly and clutched trembling at his hat. It was a tall round one from Zimmermann’s, but completely worn out, rusty with age, all torn and bespattered, brimless and bent on one side in a most hideous fashion. Not shame, however, but another feeling akin to terror had overtaken him.\n"
          ]
        }
      ]
    },
    {
      "cell_type": "code",
      "execution_count": null,
      "metadata": {
        "colab": {
          "base_uri": "https://localhost:8080/"
        },
        "id": "MxDqHEW_Fb0f",
        "outputId": "4afdc253-faac-4f5e-c58b-4c395624d4f5"
      },
      "outputs": [
        {
          "output_type": "stream",
          "name": "stdout",
          "text": [
            "He had successfully avoided meeting his landlady on the stairs. His closet of a room was under the roof of a high, five-floor house and was more like a cupboard than a place in which to live. The landlady who provided him with the room and with dinner and service lived on the floor below, and every time he went out he was obliged to pass her kitchen, the door of which was always open. And each time he passed, the young man had a sick, frightened feeling, which made him grimace and feel ashamed. He was hopelessly in debt to his landlady and was afraid of meeting her.\n",
            "\n",
            "This was not because he was cowardly and browbeaten, quite the contrary; but for some time past he had been in an overstrained irritable condition, verging on hypochondria. He had become so completely absorbed in himself and isolated from everyone else that he dreaded meeting not only his landlady, but anyone at all. He was crushed by poverty, but even the anxieties of his position had recently ceased to weigh upon him. He had given up attending to matters of practical importance; he had lost all desire to do so. In fact, nothing that any landlady could do held any terror for him. But to be stopped on the stairs, to be forced to listen to her trivial, irrelevant gossip, to pestering demands for payment, threats and complaints, all the while racking his brains for excuses, avoiding the issue, lying — no, he would rather creep down the stairs like a cat and slip out unseen.\n",
            "\n",
            "However, when he emerged onto the street that evening, he became acutely aware of his fears.\n",
            "\n",
            "“I want to attempt a thing like that and am frightened by these trifles,” he thought, with an odd smile. “Hm . . . yes, everything is in someone’s hands and they let it all slip out of cowardice, that’s an axiom. It would be interesting to know what it is people are most afraid of. Taking a new step, uttering a new word is what they fear most . . . But I am talking too much. It’s because I babble that I do nothing. Or perhaps it is that I babble because I do nothing. I’ve learned to babble this last month, lying for days on end in my corner thinking . . . just nonsense. Why am I going there now? Am I capable of that? Is that seriously possible? I’m not serious about it at all. It’s just a fantasy to amuse myself; a plaything! Yes, maybe it is a plaything.”\n",
            "\n",
            "The heat in the street was terrible: and the airlessness, the bustle, the plaster, the scaffolding, the bricks and the dust all around him, and that special Petersburg stench, so familiar to everyone who is unable to get out of town during the summer — all worked painfully upon the young man’s already overwrought nerves. The unbearable stench from the taverns, which are particularly numerous in that part of the town, and the drunken men whom he met continually, although it was a weekday, completed the revolting misery of the picture. An expression of the deepest disgust gleamed for a moment in the young man’s refined face. He was, by the way, exceptionally handsome, above average in height, slim, well-built, with beautiful dark eyes and dark brown hair. Soon, though, he sank into deep thought, or more accurately speaking into a complete blankness of mind; he walked along not observing what was around him and not caring to observe it. From time to time, because he used to talk to himself, he would mutter something, a habit to which he had just confessed. At these moments he would become conscious that his ideas were sometimes in a tangle and that he was very weak; for two days he had had almost nothing to eat.\n",
            "\n",
            "He was so badly dressed that even a man accustomed to shabbiness would have been ashamed to be seen in the street in such rags. In that part of town, however, scarcely any shortcoming in dress would have created surprise. Due to the proximity of the Haymarket, the number of establishments of a certain kind and the overwhelming numbers of craftsmen and workers crowded in these streets and alleys at the center of Petersburg, so many different types of people were to be seen in the streets that no figure, however strange, would have caused surprise. But there was such accumulated spite and contempt in the young man’s heart, that, in spite of all the cares of youth, he minded his rags least of all. It was a different matter when he met with acquaintances or with former fellow students, whom, indeed, he disliked meeting at any time. And yet when a drunken man who, for some unknown reason, was being taken somewhere in a huge cart dragged by a heavy cart-horse, suddenly shouted at him as he drove past, “Hey there, German hatter,” bellowing at the top of his voice and pointing at him — the young man stopped suddenly and clutched trembling at his hat. It was a tall round one from Zimmermann’s, but completely worn out, rusty with age, all torn and bespattered, brimless and bent on one side in a most hideous fashion. Not shame, however, but another feeling akin to terror had overtaken him.\n"
          ]
        }
      ],
      "source": [
        "#@markdown ### 🐹 <font color = 'brown'>**Student Activity 3** ⤵️\n",
        "\n",
        "#@markdown 👀🐾 **Read the content of the url of your choice.**\n",
        "#@markdown **e.g., url with .txt**\n",
        "\n",
        "import urllib.request\n",
        "url = \"https://raw.githubusercontent.com/ms624atyale/Temp_Data/main/Crime_Punishment_ChOne_Part.txt\"\n",
        "response = urllib.request.urlopen(url)\n",
        "content= response.read().decode('utf-8')\n",
        "print(content)\n"
      ]
    },
    {
      "cell_type": "code",
      "source": [
        "#@markdown 🐹🐾 **Print text with \\n (lines)**\n",
        "#>\n",
        "#@markdown File name: Data_Misc Rep. on ms624atyale ▶️ Crime_Punishment_ChOne_Part.txt\n",
        "from urllib.request import urlopen\n",
        "\n",
        "url = \"https://raw.githubusercontent.com/ms624atyale/Temp_Data/main/Crime_Punishment_ChOne_Part.txt\"\n",
        "\n",
        "with urlopen(url) as f:\n",
        "  content =f.read().decode()\n",
        "  with open('crime_punish_copied.html','wt') as cf:\n",
        "    cf.write(content)\n",
        "\n",
        "file = open(\"/content/crime_punish_copied.html\", \"rt\")\n",
        "file.read()"
      ],
      "metadata": {
        "colab": {
          "base_uri": "https://localhost:8080/",
          "height": 157
        },
        "id": "5qEQi0fzsyiz",
        "outputId": "5f0c16d2-dabb-4dbb-81bf-632ae7ce350f"
      },
      "execution_count": null,
      "outputs": [
        {
          "output_type": "execute_result",
          "data": {
            "text/plain": [
              "'He had successfully avoided meeting his landlady on the stairs. His closet of a room was under the roof of a high, five-floor house and was more like a cupboard than a place in which to live. The landlady who provided him with the room and with dinner and service lived on the floor below, and every time he went out he was obliged to pass her kitchen, the door of which was always open. And each time he passed, the young man had a sick, frightened feeling, which made him grimace and feel ashamed. He was hopelessly in debt to his landlady and was afraid of meeting her.\\n\\nThis was not because he was cowardly and browbeaten, quite the contrary; but for some time past he had been in an overstrained irritable condition, verging on hypochondria. He had become so completely absorbed in himself and isolated from everyone else that he dreaded meeting not only his landlady, but anyone at all. He was crushed by poverty, but even the anxieties of his position had recently ceased to weigh upon him. He had given up attending to matters of practical importance; he had lost all desire to do so. In fact, nothing that any landlady could do held any terror for him. But to be stopped on the stairs, to be forced to listen to her trivial, irrelevant gossip, to pestering demands for payment, threats and complaints, all the while racking his brains for excuses, avoiding the issue, lying — no, he would rather creep down the stairs like a cat and slip out unseen.\\n\\nHowever, when he emerged onto the street that evening, he became acutely aware of his fears.\\n\\n“I want to attempt a thing like that and am frightened by these trifles,” he thought, with an odd smile. “Hm . . . yes, everything is in someone’s hands and they let it all slip out of cowardice, that’s an axiom. It would be interesting to know what it is people are most afraid of. Taking a new step, uttering a new word is what they fear most . . . But I am talking too much. It’s because I babble that I do nothing. Or perhaps it is that I babble because I do nothing. I’ve learned to babble this last month, lying for days on end in my corner thinking . . . just nonsense. Why am I going there now? Am I capable of that? Is that seriously possible? I’m not serious about it at all. It’s just a fantasy to amuse myself; a plaything! Yes, maybe it is a plaything.”\\n\\nThe heat in the street was terrible: and the airlessness, the bustle, the plaster, the scaffolding, the bricks and the dust all around him, and that special Petersburg stench, so familiar to everyone who is unable to get out of town during the summer — all worked painfully upon the young man’s already overwrought nerves. The unbearable stench from the taverns, which are particularly numerous in that part of the town, and the drunken men whom he met continually, although it was a weekday, completed the revolting misery of the picture. An expression of the deepest disgust gleamed for a moment in the young man’s refined face. He was, by the way, exceptionally handsome, above average in height, slim, well-built, with beautiful dark eyes and dark brown hair. Soon, though, he sank into deep thought, or more accurately speaking into a complete blankness of mind; he walked along not observing what was around him and not caring to observe it. From time to time, because he used to talk to himself, he would mutter something, a habit to which he had just confessed. At these moments he would become conscious that his ideas were sometimes in a tangle and that he was very weak; for two days he had had almost nothing to eat.\\n\\nHe was so badly dressed that even a man accustomed to shabbiness would have been ashamed to be seen in the street in such rags. In that part of town, however, scarcely any shortcoming in dress would have created surprise. Due to the proximity of the Haymarket, the number of establishments of a certain kind and the overwhelming numbers of craftsmen and workers crowded in these streets and alleys at the center of Petersburg, so many different types of people were to be seen in the streets that no figure, however strange, would have caused surprise. But there was such accumulated spite and contempt in the young man’s heart, that, in spite of all the cares of youth, he minded his rags least of all. It was a different matter when he met with acquaintances or with former fellow students, whom, indeed, he disliked meeting at any time. And yet when a drunken man who, for some unknown reason, was being taken somewhere in a huge cart dragged by a heavy cart-horse, suddenly shouted at him as he drove past, “Hey there, German hatter,” bellowing at the top of his voice and pointing at him — the young man stopped suddenly and clutched trembling at his hat. It was a tall round one from Zimmermann’s, but completely worn out, rusty with age, all torn and bespattered, brimless and bent on one side in a most hideous fashion. Not shame, however, but another feeling akin to terror had overtaken him.'"
            ],
            "application/vnd.google.colaboratory.intrinsic+json": {
              "type": "string"
            }
          },
          "metadata": {},
          "execution_count": 7
        }
      ]
    },
    {
      "cell_type": "code",
      "source": [
        "#@markdown 🐹🐾 **Delete lines (i.e., 줄 생략해서 Space로 대체하기)**\n",
        "#>\n",
        "#@markdown File name: Data_Misc Rep. on ms624atyale ▶️ crime_punish_ch_one.txt\n",
        "from urllib.request import urlopen\n",
        "\n",
        "url = \"https://raw.githubusercontent.com/ms624atyale/Temp_Data/main/crime_punish_ch_one.txt\"\n",
        "\n",
        "with urlopen(url) as f:\n",
        "  doc =f.read().decode()\n",
        "  with open('crime_punish_copied.html','wt') as cf:\n",
        "    cf.write(doc)\n",
        "\n",
        "file = open(\"/content/crime_punish_copied.html\", \"rt\")\n",
        "file.read().replace(\"\\n\",\" \")"
      ],
      "metadata": {
        "colab": {
          "base_uri": "https://localhost:8080/",
          "height": 157
        },
        "id": "XhALkXH6pxdL",
        "outputId": "8fa16bb5-e63f-42b2-e807-913a4f281aa7"
      },
      "execution_count": null,
      "outputs": [
        {
          "output_type": "execute_result",
          "data": {
            "text/plain": [
              "'PART ONE  CHAPTER ONE  ON AN EXCEPTIONALLY HOT evening early in July a young man came out of the tiny room which he rented from tenants in S. Place and walked slowly, as though in hesitation, towards K. Bridge.  He had successfully avoided meeting his landlady on the stairs. His closet of a room was under the roof of a high, five-floor house and was more like a cupboard than a place in which to live. The landlady who provided him with the room and with dinner and service lived on the floor below, and every time he went out he was obliged to pass her kitchen, the door of which was always open. And each time he passed, the young man had a sick, frightened feeling, which made him grimace and feel ashamed. He was hopelessly in debt to his landlady and was afraid of meeting her.  This was not because he was cowardly and browbeaten, quite the contrary; but for some time past he had been in an overstrained irritable condition, verging on hypochondria. He had become so completely absorbed in himself and isolated from everyone else that he dreaded meeting not only his landlady, but anyone at all. He was crushed by poverty, but even the anxieties of his position had recently ceased to weigh upon him. He had given up attending to matters of practical importance; he had lost all desire to do so. In fact, nothing that any landlady could do held any terror for him. But to be stopped on the stairs, to be forced to listen to her trivial, irrelevant gossip, to pestering demands for payment, threats and complaints, all the while racking his brains for excuses, avoiding the issue, lying — no, he would rather creep down the stairs like a cat and slip out unseen.  However, when he emerged onto the street that evening, he became acutely aware of his fears.  “I want to attempt a thing like that and am frightened by these trifles,” he thought, with an odd smile. “Hm . . . yes, everything is in someone’s hands and they let it all slip out of cowardice, that’s an axiom. It would be interesting to know what it is people are most afraid of. Taking a new step, uttering a new word is what they fear most . . . But I am talking too much. It’s because I babble that I do nothing. Or perhaps it is that I babble because I do nothing. I’ve learned to babble this last month, lying for days on end in my corner thinking . . . just nonsense. Why am I going there now? Am I capable of that? Is that seriously possible? I’m not serious about it at all. It’s just a fantasy to amuse myself; a plaything! Yes, maybe it is a plaything.”  The heat in the street was terrible: and the airlessness, the bustle, the plaster, the scaffolding, the bricks and the dust all around him, and that special Petersburg stench, so familiar to everyone who is unable to get out of town during the summer — all worked painfully upon the young man’s already overwrought nerves. The unbearable stench from the taverns, which are particularly numerous in that part of the town, and the drunken men whom he met continually, although it was a weekday, completed the revolting misery of the picture. An expression of the deepest disgust gleamed for a moment in the young man’s refined face. He was, by the way, exceptionally handsome, above average in height, slim, well-built, with beautiful dark eyes and dark brown hair. Soon, though, he sank into deep thought, or more accurately speaking into a complete blankness of mind; he walked along not observing what was around him and not caring to observe it. From time to time, because he used to talk to himself, he would mutter something, a habit to which he had just confessed. At these moments he would become conscious that his ideas were sometimes in a tangle and that he was very weak; for two days he had had almost nothing to eat.  He was so badly dressed that even a man accustomed to shabbiness would have been ashamed to be seen in the street in such rags. In that part of town, however, scarcely any shortcoming in dress would have created surprise. Due to the proximity of the Haymarket, the number of establishments of a certain kind and the overwhelming numbers of craftsmen and workers crowded in these streets and alleys at the center of Petersburg, so many different types of people were to be seen in the streets that no figure, however strange, would have caused surprise. But there was such accumulated spite and contempt in the young man’s heart, that, in spite of all the cares of youth, he minded his rags least of all. It was a different matter when he met with acquaintances or with former fellow students, whom, indeed, he disliked meeting at any time. And yet when a drunken man who, for some unknown reason, was being taken somewhere in a huge cart dragged by a heavy cart-horse, suddenly shouted at him as he drove past, “Hey there, German hatter,” bellowing at the top of his voice and pointing at him — the young man stopped suddenly and clutched trembling at his hat. It was a tall round one from Zimmermann’s, but completely worn out, rusty with age, all torn and bespattered, brimless and bent on one side in a most hideous fashion. Not shame, however, but another feeling akin to terror had overtaken him.  “I knew it,” he muttered in confusion, “I thought so! That’s the worst of all! A stupid thing like this, the most trivial detail might spoil the whole plan. Yes, my hat is too noticeable . . . It looks absurd and that makes it noticeable . . . With my rags I ought to wear a cap, any old pancake, but not this grotesque thing. Nobody wears hats like this, it would be noticed a mile off, it would be remembered... What matters is that people would remember it, and that would give them a clue. For this business I should be as unnoticeable as possible . . . Trifles, trifles are what matter! It’s just such trifles that always ruin everything . . . ”  He did not have far to go; he knew indeed how many steps it was from the gate of his house: exactly seven hundred and thirty. He had counted them once when he had been lost in dreams. At the time he had put no faith in those dreams and was only tantalizing himself with their hideous insolence. Now, a month later, he had begun to look upon them differently, and, in spite of the monologues in which he jeered at his own impotence and indecision, he had even, involuntarily as it were, come to regard this “hideous” dream as an exploit to be attempted, although he still did not quite believe in this himself. He was now definitely going for a “rehearsal” of this undertaking of his, and at every step he grew more and more excited.  With a sinking heart and a nervous tremor, he went up to a huge house which on one side looked on to the canal, and on the other into the street. This house was let out in tiny apartments and was inhabited by working people of all kinds — tailors, locksmiths, cooks, Germans of all sorts, girls picking up a living as best they could, petty clerks, etc. There was a continual coming and going through the two gates and in the two courtyards of the house. Three or four door-keepers were employed in the building. The young man was very glad not to meet any of them, and at once slipped unnoticed through the door on the right, and up the staircase. It was a back staircase, dark and narrow, but he was familiar with it already, and knew his way, and he liked all these surroundings: in such darkness even the most inquisitive eyes were not to be feared.  “If I am so scared now, what would it be if it somehow came to pass that I were really going to do it?” he could not help asking himself as he reached the fourth floor. There his progress was barred by some porters who were moving furniture out of an apartment. He knew that the apartment had been occupied by a German clerk in the civil service, and his family. This German was moving out then, and so the fourth floor on this staircase would be vacant except for the old woman. “That’s a good thing anyway,” he thought to himself, as he rang the bell of the old woman’s flat. The bell gave a faint tinkle as though it were made of tin and not of copper. The little apartments in such houses always have bells that ring like that. He had forgotten the note of that bell, and now its peculiar tinkle seemed to remind him of something and to bring it clearly before him . . . He gave a start, his nerves were terribly overstrained by now. In a little while, the door was opened a tiny crack: the old woman eyed her visitor with evident distrust through the crack, and nothing could be seen but her little eyes, glittering in the darkness. But, seeing a number of people on the landing, she grew bolder, and opened the door wide. The young man stepped into the dark entryway, which was partitioned off from the tiny kitchen. The old woman stood facing him in silence and looking inquiringly at him. She was a diminutive, withered old woman of sixty, with sharp mean eyes and a sharp little nose. Her colorless, somewhat grizzled hair was thickly smeared with oil, and she wore no kerchief over it. Round her thin long neck, which looked like a hen’s leg, was knotted some sort of flannel rag, and, in spite of the heat, there hung flapping on her shoulders a tattered fur cape, yellow with age. The old woman coughed and groaned at every instant. The young man must have looked at her with a rather peculiar expression, for a gleam of mistrust came into her eyes again.  “Raskolnikov, a student, I came here a month ago,” the young man made haste to mutter, with a half bow, remembering that he ought to be more polite.  “I remember, sir, I remember quite well your coming here,” the old woman said distinctly, still keeping her inquiring eyes on his face.  “And here . . . I am again on the same errand,” Raskolnikov continued, a little disconcerted and surprised at the old woman’s mistrust. “Perhaps she is always like that though, only I did not notice it the other time,” he thought with an uneasy feeling.  The old woman paused, as though hesitating; then stepped to the side, and pointing to the door of the room, she said, letting her visitor pass in front of her:  “Step in, sir.”  The little room the young man walked into, with yellow paper on the walls, geraniums and muslin curtains in the windows, was brightly lit up at that moment by the setting sun.  “So the sun will shine like this then too!” flashed as it were by chance through Raskolnikov’s mind, and with a rapid glance he scanned everything in the room, trying as far as possible to notice and remember its arrangement. But there was nothing special in the room. The furniture, all very old and made of yellow wood, consisted of a sofa with a huge bent wooden back, an oval table in front of the sofa, a dressing-table with a mirror fixed on it between the windows, chairs along the walls and two or three cheap prints in yellow frames, representing German maidens with birds in their hands — that was all. In the corner a light was burning in front of a small icon. Everything was very clean; the floor and the furniture were brightly polished; everything shone.  “Lizaveta’s work,” thought the young man. There was not a speck of dust to be seen in the whole apartment.  “It’s in the houses of spiteful old widows that one finds such cleanliness,” Raskolnikov thought again, and he stole a curious glance at the cotton curtain over the door leading into another tiny room, in which stood the old woman’s bed and chest of drawers and into which he had never looked before. These two rooms made up the whole apartment.  “What do you want?” the old woman said severely, coming into the room and, as before, standing in front of him so as to look him straight in the face.  “I’ve brought something to pawn here,” and he drew out of his pocket an old-fashioned flat silver watch, on the back of which was engraved a globe; the chain was of steel.  “But the time is up for your last pledge. The month was up the day before yesterday.”  “I will bring you the interest for another month; wait a little.”  “That’s for me to do as I please, sir, to wait or to sell your pledge at once.”  “How much will you give me for the watch, Aliona Ivanovna?”  “You come with such trifles, sir, it’s scarcely worth anything. I gave you two rubles last time for your ring and one could buy it quite new at a jeweler’s for a ruble and a half.”  “Give me four rubles for it, I will redeem it, it was my father’s. I will be getting some money soon.”  “A ruble and a half, and interest in advance, if you like!”  “A ruble and a half!” cried the young man.  “As you wish” — and the old woman handed him back the watch. The young man took it, and was so angry that he was on the point of going away; but checked himself at once, remembering that there was nowhere else he could go, and that he had had another reason for coming.  “Hand it over,” he said roughly.  The old woman fumbled in her pocket for her keys, and disappeared behind the curtain into the other room. The young man, left standing alone in the middle of the room, listened inquisitively, thinking. He could hear her unlocking the chest of drawers.  “It must be the top drawer,” he reflected. “So she carries the keys in a pocket on the right. All in one bunch on a steel ring . . . And there’s one key there, three times as big as all the others, with deep notches; that can’t be the key for the chest of drawers . . . then there must be some other chest or b-box . . . that’s worth knowing. Strong-boxes always have keys like that . . . but how degrading it all is.”  The old woman came back.  “Here, sir: as we say ten kopecks the ruble a month, so I must take fifteen kopecks from a ruble and a half for the month in advance. But for the two rubles I lent you before, you owe me now twenty kopecks on the same reckoning in advance. That makes thirty-five kopecks altogether. So I must give you a ruble and fifteen kopecks for the watch. Here it is.”  “What! Only a ruble and fifteen kopecks now!”  “Exactly.”  The young man did not dispute it and took the money. He looked at the old woman, and was in no hurry to get away, as though there was still something he wanted to say or to do, but he did not himself quite know what.  “I may be bringing you something else in a day or two, Aliona Ivanovna — a valuable thing, silver, a cigarette box, as soon as I get it back from a friend . . . ” he broke off in confusion.  “Well, we will talk about it then, sir.”  “Goodbye — are you always at home alone, your sister is not here with you?” he asked her as casually as possible as he went out into the passage.  “What business is she of yours, sir?”  “Oh, nothing particular, I simply asked. You are too quick . . . Good-day, Aliona Ivanovna.”  Raskolnikov went out in complete confusion. This confusion became more and more intense. As he went down the stairs, he even stopped short, two or three times, as though suddenly struck by some thought. When he was in the street he cried out, “Oh, God, how loathsome it all is! and can I, can I possibly . . . No, it’s nonsense, it’s absurd!” he added resolutely. “And how could such an atrocious thing come into my head? What filthy things my heart is capable of. Yes, filthy above all, disgusting, loathsome, loathsome! — and for a whole month I’ve been . . . ” But no words, no exclamations, could express his agitation. The feeling of intense repulsion, which had begun to oppress and torture his heart while he was on his way to the old woman, had by now reached such a pitch and had taken such a definite form that he did not know what to do with himself to escape from his wretchedness. He walked along the pavement like a drunken man, oblivious of the passersby, and jostling against them, and only came to his senses when he was in the next street. Looking round, he noticed that he was standing close to a tavern which was entered by steps leading from the pavement to the basement. At that instant two drunken men came out of the door and, abusing and supporting one another, they mounted the steps. Without stopping to think, Raskolnikov went down the steps at once. Until that moment he had never been into a tavern, but now he felt dizzy and was tormented by a burning thirst. He longed for a drink of cold beer, and attributed his sudden weakness to hunger. He sat down at a sticky little table in a dark and dirty corner; ordered some beer, and eagerly drank off the first glassful. At once he felt relief; and his thoughts became clear.  “All that’s nonsense,” he said hopefully, “and there is nothing in it all to worry about! It’s simply physical weakness. Just a glass of beer, a piece of dry bread — and in one moment the brain is ber, the mind is clearer and the will is firm! Pah, how utterly petty it all is!”  But, though he spat this out so scornfully, he was by now looking cheerful as though he were suddenly set free from a terrible burden: and he gazed round in a friendly way at the people in the room. But even at that moment he had a dim foreboding that this happier frame of mind was also not normal.  There were few people at the time in the tavern. Besides the two drunken men he had met on the steps, a group consisting of about five men, with a girl and a concertina, had gone out at the same time. Their departure left the room quiet and rather empty. The persons remaining were a man who appeared to be an artisan, drunk, but not extremely so, sitting with a beer, and his companion, a huge, stout man with a gray beard, in a short full-skirted coat. He was very drunk and had dozed off on the bench; every now and then, as if in his sleep, he began cracking his fingers, with his arms wide apart and the upper part of his body bouncing about on the bench, while he hummed some meaningless refrain, trying to recall some such lines as these: —  “His wife a year he stroked and loved  His wife a — a year he — stroked and loved.” —  Or suddenly waking up again: —  “Walking along the crowded row  He met the one he used to know.” —  But no-one shared his enjoyment: his silent companion looked at all these outbursts with hostility and mistrust. There was another man in the room who looked somewhat like a retired government clerk. He was sitting apart, sipping now and then from his mug and looking round at the company. He, too, appeared to be somewhat excited.'"
            ],
            "application/vnd.google.colaboratory.intrinsic+json": {
              "type": "string"
            }
          },
          "metadata": {},
          "execution_count": 8
        }
      ]
    },
    {
      "cell_type": "markdown",
      "source": [
        "#🐼🍎 <font color = 'purple'>**Before we go futher...**"
      ],
      "metadata": {
        "id": "m3LOTqSQSeGJ"
      }
    },
    {
      "cell_type": "code",
      "source": [
        "#@markdown # 📚 **Python Libraries & Pipeline for tokenization**\n",
        "from IPython.display import display\n",
        "import ipywidgets as widgets\n",
        "import requests\n",
        "\n",
        "def on_button_click(button):\n",
        "    sn = int(button.description) - 1\n",
        "    image.value = requests.get(urls[sn]).content\n",
        "\n",
        "urls = [ \"https://raw.githubusercontent.com/junkyuhufs/workshop/main/slide.07.png\",\n",
        "         \"https://raw.githubusercontent.com/junkyuhufs/workshop/main/slide.08.png\",\n",
        "         \"https://raw.githubusercontent.com/junkyuhufs/workshop/main/slide.11.png\"\n",
        "]\n",
        "\n",
        "button_layout = widgets.Layout(width='50px', height='30px')\n",
        "\n",
        "buttons = [widgets.Button(description=str(i), layout=button_layout) for i in range(1, 4)]\n",
        "for button in buttons:\n",
        "    button.on_click(on_button_click)\n",
        "\n",
        "image = widgets.Image(value=requests.get(urls[0]).content, width=\"700\", height=\"600\")\n",
        "\n",
        "display(widgets.HBox([image, widgets.VBox(buttons)]))"
      ],
      "metadata": {
        "id": "CJmubsJQSexp",
        "outputId": "b254da00-23ff-4ba8-8785-2410e7cef503",
        "colab": {
          "base_uri": "https://localhost:8080/",
          "height": 416,
          "referenced_widgets": [
            "c7663a091c3b4ddab0bc988547424a3c",
            "469c6c9c911841bb9f6c74cb41eee672",
            "1cdc1ed52d5849439fa6db00dffc71ff",
            "3e5c3871290a49a9a0701c2ec4ed23a6",
            "d94fdd8a133a433487bbbaacb63ec82f",
            "35aba5c01a4e41c287cafa02530c7a54",
            "507f117b2fa3426bb06010ab7f009bf5",
            "4043d9dd7c4442bfa0aae1357fb59e1f",
            "a8ad3b06411348d2956be36bfd0f51ef",
            "2d4a9a05c9684dd0b918ca5dc5c19521",
            "eced43180e2b4198b2aeaa9fca9850b8",
            "1378390099b94f1e8bf51b2f59790fec",
            "7158ef82bdf1442e8efd5cea86c264b8"
          ]
        }
      },
      "execution_count": null,
      "outputs": [
        {
          "output_type": "display_data",
          "data": {
            "text/plain": [
              "HBox(children=(Image(value=b'\\x89PNG\\r\\n\\x1a\\n\\x00\\x00\\x00\\rIHDR\\x00\\x00\\x03+\\x00\\x00\\x01\\xc8\\x08\\x06\\x00\\x00\\…"
            ],
            "application/vnd.jupyter.widget-view+json": {
              "version_major": 2,
              "version_minor": 0,
              "model_id": "c7663a091c3b4ddab0bc988547424a3c"
            }
          },
          "metadata": {}
        }
      ]
    }
  ]
}