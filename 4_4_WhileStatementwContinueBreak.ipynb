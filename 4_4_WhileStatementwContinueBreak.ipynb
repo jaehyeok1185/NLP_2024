{
  "nbformat": 4,
  "nbformat_minor": 0,
  "metadata": {
    "colab": {
      "provenance": [],
      "include_colab_link": true
    },
    "kernelspec": {
      "name": "python3",
      "display_name": "Python 3"
    },
    "language_info": {
      "name": "python"
    }
  },
  "cells": [
    {
      "cell_type": "markdown",
      "metadata": {
        "id": "view-in-github",
        "colab_type": "text"
      },
      "source": [
        "<a href=\"https://colab.research.google.com/github/jaehyeok1185/NLP_2024/blob/main/4_4_WhileStatementwContinueBreak.ipynb\" target=\"_parent\"><img src=\"https://colab.research.google.com/assets/colab-badge.svg\" alt=\"Open In Colab\"/></a>"
      ]
    },
    {
      "cell_type": "markdown",
      "source": [
        "# 🅰️ ➿ **While statement 🔄 Loop**\n",
        "\n",
        "- It executes repeatedly a block of code <font color = 'red'> as long as a certain condition is true.\n",
        "  - It creates loops where you want to perform a task repeatedly <font color = 'red'> until a specified condition becomes false."
      ],
      "metadata": {
        "id": "DR869DSG8AZi"
      }
    },
    {
      "cell_type": "markdown",
      "source": [
        "While Statement 1"
      ],
      "metadata": {
        "id": "6nqSBDMttgFS"
      }
    },
    {
      "cell_type": "markdown",
      "source": [
        "#### ⏳ <font color = 'blue'> Using the same variable name for simplicity and clarity is preferred, especially in situations like loops where the purpose of the variable is clear and consistent.\n",
        "\n",
        "e.g., count +=1\n",
        "- In Python, the assignment statement counter += 1 is a shorthand notation for counter = counter + 1. Here, the variable counter is being incremented by 1, and the result is assigned back to the same variable counter."
      ],
      "metadata": {
        "id": "N-4xWtfuZl6O"
      }
    },
    {
      "cell_type": "code",
      "source": [
        "counter = 1\n",
        "\n",
        "while counter <= 51:\n",
        "    print(counter)\n",
        "    counter += 1\n",
        "\n",
        "    print(\"Loop finished!\")"
      ],
      "metadata": {
        "collapsed": true,
        "id": "R3bIOu9uSRng",
        "outputId": "01318be2-6e21-4f2e-e163-27de2b02e0df",
        "colab": {
          "base_uri": "https://localhost:8080/"
        }
      },
      "execution_count": 7,
      "outputs": [
        {
          "output_type": "stream",
          "name": "stdout",
          "text": [
            "1\n",
            "Loop finished!\n",
            "2\n",
            "Loop finished!\n",
            "3\n",
            "Loop finished!\n",
            "4\n",
            "Loop finished!\n",
            "5\n",
            "Loop finished!\n",
            "6\n",
            "Loop finished!\n",
            "7\n",
            "Loop finished!\n",
            "8\n",
            "Loop finished!\n",
            "9\n",
            "Loop finished!\n",
            "10\n",
            "Loop finished!\n",
            "11\n",
            "Loop finished!\n",
            "12\n",
            "Loop finished!\n",
            "13\n",
            "Loop finished!\n",
            "14\n",
            "Loop finished!\n",
            "15\n",
            "Loop finished!\n",
            "16\n",
            "Loop finished!\n",
            "17\n",
            "Loop finished!\n",
            "18\n",
            "Loop finished!\n",
            "19\n",
            "Loop finished!\n",
            "20\n",
            "Loop finished!\n",
            "21\n",
            "Loop finished!\n",
            "22\n",
            "Loop finished!\n",
            "23\n",
            "Loop finished!\n",
            "24\n",
            "Loop finished!\n",
            "25\n",
            "Loop finished!\n",
            "26\n",
            "Loop finished!\n",
            "27\n",
            "Loop finished!\n",
            "28\n",
            "Loop finished!\n",
            "29\n",
            "Loop finished!\n",
            "30\n",
            "Loop finished!\n",
            "31\n",
            "Loop finished!\n",
            "32\n",
            "Loop finished!\n",
            "33\n",
            "Loop finished!\n",
            "34\n",
            "Loop finished!\n",
            "35\n",
            "Loop finished!\n",
            "36\n",
            "Loop finished!\n",
            "37\n",
            "Loop finished!\n",
            "38\n",
            "Loop finished!\n",
            "39\n",
            "Loop finished!\n",
            "40\n",
            "Loop finished!\n",
            "41\n",
            "Loop finished!\n",
            "42\n",
            "Loop finished!\n",
            "43\n",
            "Loop finished!\n",
            "44\n",
            "Loop finished!\n",
            "45\n",
            "Loop finished!\n",
            "46\n",
            "Loop finished!\n",
            "47\n",
            "Loop finished!\n",
            "48\n",
            "Loop finished!\n",
            "49\n",
            "Loop finished!\n",
            "50\n",
            "Loop finished!\n",
            "51\n",
            "Loop finished!\n"
          ]
        }
      ]
    },
    {
      "cell_type": "code",
      "source": [
        "counter = 1  # Initialize a counter variable\n",
        "\n",
        "while counter <= 5:  # Condition: Continue while counter is less than or equal to 5\n",
        "    print(counter)  # Print the current value of the counter\n",
        "    counter += 1  # Increment the counter by 1 in each iteration (i.e., counter = counter +1)\n",
        "\n",
        "\n",
        "print(\"Loop finished!\")"
      ],
      "metadata": {
        "colab": {
          "base_uri": "https://localhost:8080/"
        },
        "id": "HBQ4o4AitM6k",
        "outputId": "27a70feb-c1c6-47f6-cc64-112199fbbf3b"
      },
      "execution_count": null,
      "outputs": [
        {
          "output_type": "stream",
          "name": "stdout",
          "text": [
            "1\n",
            "2\n",
            "3\n",
            "4\n",
            "5\n",
            "Loop finished!\n"
          ]
        }
      ]
    },
    {
      "cell_type": "markdown",
      "source": [
        "One more exercise for a shorthand notation"
      ],
      "metadata": {
        "id": "JcyhHJ87afoP"
      }
    },
    {
      "cell_type": "code",
      "source": [
        "x = 5\n",
        "x *= 2  # Equivalent to: x = x * 2\n",
        "print(x)  # Output: 10"
      ],
      "metadata": {
        "colab": {
          "base_uri": "https://localhost:8080/"
        },
        "id": "w-X5NPBWagIV",
        "outputId": "81c6a990-4c33-41ed-ae29-531a02022c29"
      },
      "execution_count": null,
      "outputs": [
        {
          "output_type": "stream",
          "name": "stdout",
          "text": [
            "10\n"
          ]
        }
      ]
    }
  ]
}