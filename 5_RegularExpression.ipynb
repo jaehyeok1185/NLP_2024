{
  "nbformat": 4,
  "nbformat_minor": 0,
  "metadata": {
    "colab": {
      "provenance": [],
      "include_colab_link": true
    },
    "kernelspec": {
      "name": "python3",
      "display_name": "Python 3"
    },
    "language_info": {
      "name": "python"
    }
  },
  "cells": [
    {
      "cell_type": "markdown",
      "metadata": {
        "id": "view-in-github",
        "colab_type": "text"
      },
      "source": [
        "<a href=\"https://colab.research.google.com/github/jaehyeok1185/NLP_2024/blob/main/5_RegularExpression.ipynb\" target=\"_parent\"><img src=\"https://colab.research.google.com/assets/colab-badge.svg\" alt=\"Open In Colab\"/></a>"
      ]
    },
    {
      "cell_type": "code",
      "execution_count": null,
      "metadata": {
        "id": "WhmHjz8Yy0of"
      },
      "outputs": [],
      "source": []
    },
    {
      "cell_type": "markdown",
      "source": [
        "## <font color = 'brown'> **Regular Expression (re)** </font> 정규표현식\n",
        "\n",
        "- 파이썬에서 사용되는 정규표현식 (Regular expressions)은 특정한 규칙을 가진 문자열의 집합을 표현하는 데 사용하는 형식 언어이다.\n",
        "- 정규표현식은 문자열에서 특정한 패턴을 검색하거나 매치하는 데 사용되는 문자열 검색과 치환을 위해 사용되는 기술이다.\n",
        "- 문자열에서 패턴을 정의하고, 그 패턴과 일치하는 부분을 찾거나 변경할 수 있다.\n",
        "- 파이썬 프로그래밍 내장 모듈이다. 복잡한 문자열 처리 작업에 유용하다.\n",
        "- 메타 문자 (Meta characters(특수문자))는 문자가 가진 원래의 의미가 아닌 특별한 용도로 사용되는 문자이다. 정규표현식에서 사용되는 메타 문자는 . ^ $ * + ? \\ | ( ) { } [ ] 이 있다.\n",
        "\n",
        "## <font color = 'brown'> **re**\n",
        "  - Python의 내장 모듈로서, 정규 표현식을 지원하는 라이브러리다. 정규 표현식은 문자열 패턴을 검색, 매치, 치환하거나 조작하는 데 사용됩니다. re 모듈은 문자열을 다룰 때 패턴 매칭과 관련된 작업을 수행하는 데 도움을 준다. 이 모듈을 사용하면 텍스트 데이터에서 원하는 패턴을 검색하거나 추출할 수 있다."
      ],
      "metadata": {
        "id": "xzwuO6jCeINh"
      }
    },
    {
      "cell_type": "markdown",
      "source": [
        "🐹 🐾 Common **escape characters** include:\n",
        "\n",
        "- **\\n**: Represents a newline character. It is used to start a new line in a string.\n",
        "- **\\t**: Represents a tab character. It is used to insert a horizontal tab into a string.\n",
        "- **two consecutive backslashes**: Represents a literal backslash character. This is used to include a backslash in a string.\n",
        "- **\\ '**: Represents a single quotation mark (apostrophe). It is used to include a single quotation mark within a string enclosed in single quotes.\n",
        "- **\\ \"**: Represents a double quotation mark. It is used to include a double quotation mark within a string enclosed in double quotes.\n",
        "- **\\r**: Represents a carriage return. It is used to move the cursor to the beginning of the line.\n",
        "- **\\b**: Represents a backspace character. It is used to erase the previous character.\n",
        "\n",
        ">\n",
        "_Just for your reference_: **아래는 집에 가서 그냥 읽어보기**⤵️\n",
        "\n",
        "\n",
        "\n",
        "\n",
        "\n",
        "\n",
        "    \\v: Represents a vertical tab character. It is used to insert a vertical tab. It is rarely used.\n",
        "    \\v는 세로 탭(vertical tab) 문자를 나타내는 이스케이프 시퀀스다. 세로 탭은 일반적으로 텍스트 출력 중에 특정 위치로 이동하거나 세로로 텍스트를 정렬하는 데 사용된다. 정규 표현식에서 \\v를 사용하여 세로 탭 문자를 매치할 수 있습니다. 예를 들어, 정규 표현식에서 \\s+는 하나 이상의 연속된 공백 문자를 매치하는 패턴을 나타내며, \\f나 \\v를 사용하여 폼 피드나 세로 탭 문자를 매치할 수 있다. 이러한 이스케이프 시퀀스는 텍스트 데이터에서 특정 종류의 공백 문자를 처리하거나 추출할 때 유용하다.\n",
        "\n",
        "\n",
        "    \\f: Represents a form feed character. It is used to advance the cursor to the next page or form.\n",
        "    \\f는 폼 피드(form feed) 문자를 나타내는 이스케이프 시퀀스다. 폼 피드는 종이 프린터나 출력 장치에서 다음 페이지로 넘어가거나 특정 위치로 이동하는 데 사용되는 제어 문자 중 하나다. 정규 표현식에서 \\f를 사용하여 폼 피드 문자를 매치할 수 있다."
      ],
      "metadata": {
        "id": "kpWi1XZKLCX3"
      }
    },
    {
      "cell_type": "markdown",
      "source": [
        "\n",
        "\n",
        "1️⃣ 정규 표현식 문법 ⤵️\n",
        "\n",
        "정규 표현식을 위해 사용되는 문법 중 meta characters(특수문자)들은 아래와 같다.\n",
        ">\n",
        "\n",
        "|Symbol | Meaning|\n",
        "|--|--|\n",
        "|. | 한 개의 임의의 문자 (줄바꿈 문자인 \\n는 제외)|\n",
        "|? | 앞의 문자가 존재할 수도 있고, 존재하지 않을 수도 있음 (문자가 0개 또는 1개)|\n",
        "|* | 앞의 문자가 무한개로 존재할 수도 있고, 존재하지 않을 수도 있음 (문자가 0개 이상)|\n",
        "|+ | 앞의 문자가 최소 한 개 이상 존재 (문자가 1개 이상)|\n",
        "|^ | 뒤의 문자열로 문자열이 시작|\n",
        "|$ | 앞의 문자열로 문자열이 끝남|\n",
        "\n",
        "\n"
      ],
      "metadata": {
        "id": "l6DD0rHNy1Yn"
      }
    },
    {
      "cell_type": "markdown",
      "source": [
        "🐹 🐾 **정규표현식 패턴은 _문자열_ 형태로 표현한다.**\n",
        "\n",
        "🐳💧 <font color = 'red'>**접두어 r 은 Raw 문자열을 나타내며, 이스케이프 문자(e.g., \\n, \\t, \\\\) 를 해석하지 않고 그대로 문자열로 표현하도록 힌다.**\n",
        "- The 'r' (raw) prefix is commonly used with regular expressions to simplify the handling of backslashes, but there are situations where you might see 'r' used without any escape characters (backslashes) in the regular expression. This can be due to a few reasons:\n",
        "\n",
        "    - <font color = 'blue'>**Consistency**</font>: Some programmers choose to consistently use the 'r' prefix for all regular expressions, even when the pattern doesn't contain any backslashes. This practice can make the code more uniform and easier to read.\n",
        "\n",
        "    - <font color = 'blue'>**Future-Proofing**</font>: Using 'r' for all regular expressions, regardless of whether they contain escape characters, can help prevent issues if the regular expression pattern is later modified to include backslashes. It ensures that backslashes are treated as literal characters from the start.\n",
        "\n",
        "    - <font color = 'blue'>**Code Maintenance**</font>: Code maintenance and readability are important. When you revisit your code in the future, you may not remember the specific details of each regular expression. Using 'r' consistently helps avoid potential pitfalls if you or someone else later modify the pattern.\n",
        "\n",
        "    - <font color = 'blue'>**Compatibility**</font>: It may also be a matter of compatibility across different parts of the code or between different regular expression libraries. Using 'r' consistently ensures that regular expressions are handled consistently throughout the codebase.\n",
        "\n"
      ],
      "metadata": {
        "id": "N-_A8t716QpE"
      }
    },
    {
      "cell_type": "code",
      "source": [
        "#1. mata character Period . (뜻: 한 개의 임의의 문자) 예시 (cf., #19. r\"\\.\")\n",
        "\n",
        "import re\n",
        "\n",
        "text = \"cat, hat, bat, sat, mat, combat, unbated\"\n",
        "pattern = r\".at\"  # .은 어떤 문자든 하나를 나타냄\n",
        "\n",
        "matches = re.findall(pattern, text)\n",
        "\n",
        "for i in matches:\n",
        "    print(\"Match:\", i)\n",
        "\n",
        "print('\\n')\n",
        "\n",
        "for match in matches:\n",
        "    print(\"Match:\", match)"
      ],
      "metadata": {
        "colab": {
          "base_uri": "https://localhost:8080/"
        },
        "id": "jxsLTn4rrNn0",
        "outputId": "a607be02-07cc-4a08-a96f-73fbfa6fbe68"
      },
      "execution_count": null,
      "outputs": [
        {
          "output_type": "stream",
          "name": "stdout",
          "text": [
            "Match: cat\n",
            "Match: hat\n",
            "Match: bat\n",
            "Match: sat\n",
            "Match: mat\n",
            "Match: bat\n",
            "Match: bat\n",
            "\n",
            "\n",
            "Match: cat\n",
            "Match: hat\n",
            "Match: bat\n",
            "Match: sat\n",
            "Match: mat\n",
            "Match: bat\n",
            "Match: bat\n"
          ]
        }
      ]
    },
    {
      "cell_type": "code",
      "source": [
        "#1a 💣💊COMPARE\n",
        "#TypeError: expected string, not a list (💊Just try to understand 'string' at the beginners' level.)\n",
        "text3 = ['cat', 'hat', 'bat', 'sat', 'mat', 'combat', 'unbated']\n",
        "pattern = r\".at\"  # .은 어떤 문자든 하나를 나타냄\n",
        "\n",
        "matches = re.findall(pattern, text3)\n",
        "\n",
        "for i in matches:\n",
        "    print(\"Match:\", i)"
      ],
      "metadata": {
        "id": "r3OyJWyPIt-1",
        "outputId": "8a26ec58-8991-4075-df23-b10fd5d63546",
        "colab": {
          "base_uri": "https://localhost:8080/",
          "height": 332
        }
      },
      "execution_count": null,
      "outputs": [
        {
          "output_type": "error",
          "ename": "TypeError",
          "evalue": "expected string or bytes-like object",
          "traceback": [
            "\u001b[0;31m---------------------------------------------------------------------------\u001b[0m",
            "\u001b[0;31mTypeError\u001b[0m                                 Traceback (most recent call last)",
            "\u001b[0;32m<ipython-input-17-03107d76ae36>\u001b[0m in \u001b[0;36m<cell line: 6>\u001b[0;34m()\u001b[0m\n\u001b[1;32m      4\u001b[0m \u001b[0mpattern\u001b[0m \u001b[0;34m=\u001b[0m \u001b[0;34mr\".at\"\u001b[0m  \u001b[0;31m# .은 어떤 문자든 하나를 나타냄\u001b[0m\u001b[0;34m\u001b[0m\u001b[0;34m\u001b[0m\u001b[0m\n\u001b[1;32m      5\u001b[0m \u001b[0;34m\u001b[0m\u001b[0m\n\u001b[0;32m----> 6\u001b[0;31m \u001b[0mmatches\u001b[0m \u001b[0;34m=\u001b[0m \u001b[0mre\u001b[0m\u001b[0;34m.\u001b[0m\u001b[0mfindall\u001b[0m\u001b[0;34m(\u001b[0m\u001b[0mpattern\u001b[0m\u001b[0;34m,\u001b[0m \u001b[0mtext3\u001b[0m\u001b[0;34m)\u001b[0m\u001b[0;34m\u001b[0m\u001b[0;34m\u001b[0m\u001b[0m\n\u001b[0m\u001b[1;32m      7\u001b[0m \u001b[0;34m\u001b[0m\u001b[0m\n\u001b[1;32m      8\u001b[0m \u001b[0;32mfor\u001b[0m \u001b[0mi\u001b[0m \u001b[0;32min\u001b[0m \u001b[0mmatches\u001b[0m\u001b[0;34m:\u001b[0m\u001b[0;34m\u001b[0m\u001b[0;34m\u001b[0m\u001b[0m\n",
            "\u001b[0;32m/usr/lib/python3.10/re.py\u001b[0m in \u001b[0;36mfindall\u001b[0;34m(pattern, string, flags)\u001b[0m\n\u001b[1;32m    238\u001b[0m \u001b[0;34m\u001b[0m\u001b[0m\n\u001b[1;32m    239\u001b[0m     Empty matches are included in the result.\"\"\"\n\u001b[0;32m--> 240\u001b[0;31m     \u001b[0;32mreturn\u001b[0m \u001b[0m_compile\u001b[0m\u001b[0;34m(\u001b[0m\u001b[0mpattern\u001b[0m\u001b[0;34m,\u001b[0m \u001b[0mflags\u001b[0m\u001b[0;34m)\u001b[0m\u001b[0;34m.\u001b[0m\u001b[0mfindall\u001b[0m\u001b[0;34m(\u001b[0m\u001b[0mstring\u001b[0m\u001b[0;34m)\u001b[0m\u001b[0;34m\u001b[0m\u001b[0;34m\u001b[0m\u001b[0m\n\u001b[0m\u001b[1;32m    241\u001b[0m \u001b[0;34m\u001b[0m\u001b[0m\n\u001b[1;32m    242\u001b[0m \u001b[0;32mdef\u001b[0m \u001b[0mfinditer\u001b[0m\u001b[0;34m(\u001b[0m\u001b[0mpattern\u001b[0m\u001b[0;34m,\u001b[0m \u001b[0mstring\u001b[0m\u001b[0;34m,\u001b[0m \u001b[0mflags\u001b[0m\u001b[0;34m=\u001b[0m\u001b[0;36m0\u001b[0m\u001b[0;34m)\u001b[0m\u001b[0;34m:\u001b[0m\u001b[0;34m\u001b[0m\u001b[0;34m\u001b[0m\u001b[0m\n",
            "\u001b[0;31mTypeError\u001b[0m: expected string or bytes-like object"
          ]
        }
      ]
    },
    {
      "cell_type": "code",
      "source": [
        "#1b 💣💊COMPARE\n",
        "text2 = \"at, cat, at,at, hat, bat, sat, mat, combat, unbated\"\n",
        "pattern = r\".at\"  # .은 어떤 문자든 하나를 나타냄\n",
        "\n",
        "matches = re.findall(pattern, text2)\n",
        "\n",
        "#try print() codeline first.\n",
        "print(match) #'bat' of 'unbated'\n",
        "print('\\n')\n",
        "\n",
        "#try to use for statement.\n",
        "for i in matches:\n",
        "    print(\"Match:\", i)"
      ],
      "metadata": {
        "colab": {
          "base_uri": "https://localhost:8080/"
        },
        "id": "bJAyFarmtPRK",
        "outputId": "f53802c4-ee13-40d5-ddc3-dc5ec986797e"
      },
      "execution_count": null,
      "outputs": [
        {
          "output_type": "stream",
          "name": "stdout",
          "text": [
            "bat\n",
            "\n",
            "\n",
            "Match: cat\n",
            "Match:  at\n",
            "Match: ,at\n",
            "Match: hat\n",
            "Match: bat\n",
            "Match: sat\n",
            "Match: mat\n",
            "Match: bat\n",
            "Match: bat\n"
          ]
        }
      ]
    },
    {
      "cell_type": "code",
      "source": [
        "#2. mata character Question mark ? (뜻: ?는 ?의 앞에 나오는 문자/요소가 0번 혹은 1번 나타날 수 있음) 예시\n",
        "\n",
        "import re\n",
        "\n",
        "text = \"color or colour?\"\n",
        "pattern = r\"colou?r\"  # u는 0 또는 1번 나타날 수 있음\n",
        "\n",
        "matches = re.findall(pattern, text)\n",
        "\n",
        "for i in matches:\n",
        "    print(\"Match:\", i)"
      ],
      "metadata": {
        "colab": {
          "base_uri": "https://localhost:8080/"
        },
        "id": "Ol84ySQ5uwu6",
        "outputId": "7f0a75b6-8f29-4266-efb1-619950a11fbc"
      },
      "execution_count": null,
      "outputs": [
        {
          "output_type": "stream",
          "name": "stdout",
          "text": [
            "Match: color\n",
            "Match: colour\n"
          ]
        }
      ]
    },
    {
      "cell_type": "code",
      "source": [
        "#2a 💣💊COMPARE\n",
        "text2 = \"color, colour, or coloer?\"\n",
        "pattern = r\"colou?r\"  # u는 0 또는 1번 나타날 수 있음.\n",
        "\n",
        "matches = re.findall(pattern, text2)\n",
        "\n",
        "for i in matches:\n",
        "    print(\"Match:\", i)"
      ],
      "metadata": {
        "colab": {
          "base_uri": "https://localhost:8080/"
        },
        "id": "8qhAtXYRvr-O",
        "outputId": "e4c3c566-6973-4423-98be-d16b25d86a16"
      },
      "execution_count": null,
      "outputs": [
        {
          "output_type": "stream",
          "name": "stdout",
          "text": [
            "Match: color\n",
            "Match: colour\n"
          ]
        }
      ]
    },
    {
      "cell_type": "code",
      "source": [
        "#3. mata character Asterisk * (뜻: *는 *의 앞의 문자/요소가 0회 이상 나타날 수 있음) 예시\n",
        "\n",
        "import re\n",
        "\n",
        "text = \"ab, ac, abc, abbc, aabbc, abbbbbbbbbbbbbbc, abkc\"\n",
        "pattern = r\"ab*c\"  # b가 0회 이상 반복될 수 있음. r은 Raw 문자열을 나타내며, 이스케이프 문자를 해석하지 않고 그대로 문자열로 표현하도록 힌디.\n",
        "\n",
        "matches = re.findall(pattern, text)\n",
        "\n",
        "for i in matches:\n",
        "    print(\"Match:\", i)"
      ],
      "metadata": {
        "colab": {
          "base_uri": "https://localhost:8080/"
        },
        "id": "SnBzH50SwV9O",
        "outputId": "9345c42b-2774-48f3-c658-768d489c2820"
      },
      "execution_count": null,
      "outputs": [
        {
          "output_type": "stream",
          "name": "stdout",
          "text": [
            "Match: ac\n",
            "Match: abc\n",
            "Match: abbc\n",
            "Match: abbc\n",
            "Match: abbbbbbbbbbbbbbc\n"
          ]
        }
      ]
    },
    {
      "cell_type": "code",
      "source": [
        "#4. mata character + (뜻: +는 +의 앞의 요소/문자가 1회 이상 나타나야 함을 나타냄) 예시\n",
        "\n",
        "import re\n",
        "\n",
        "text = \"cat, caat, caaat, caot, sat, set, \"\n",
        "pattern = r\"ca+t\"  # a가 1회 이상 반복되어야 함\n",
        "\n",
        "matches = re.findall(pattern, text)\n",
        "\n",
        "for i in matches:\n",
        "    print(\"Match:\", i)"
      ],
      "metadata": {
        "colab": {
          "base_uri": "https://localhost:8080/"
        },
        "id": "9jnXicDE2NUd",
        "outputId": "1d36c141-ac63-4268-85a3-4cc4b8a1b677"
      },
      "execution_count": null,
      "outputs": [
        {
          "output_type": "stream",
          "name": "stdout",
          "text": [
            "Match: cat\n",
            "Match: caat\n",
            "Match: caaat\n"
          ]
        }
      ]
    },
    {
      "cell_type": "markdown",
      "source": [
        "###💘 Student's activity playing with r '+'"
      ],
      "metadata": {
        "id": "r_JcNyDPPTJ7"
      }
    },
    {
      "cell_type": "code",
      "source": [
        "#4a 💣💊COMPARE\n",
        "\n",
        "import re\n",
        "\n",
        "text = \"cat, caat, caaat, sat, set\"\n",
        "pattern = r\"a+t\"  # a가 1회 이상 반복되어야 함\n",
        "\n",
        "matches = re.findall(pattern, text)\n",
        "\n",
        "for i in matches:\n",
        "    print(\"Match:\", i)"
      ],
      "metadata": {
        "colab": {
          "base_uri": "https://localhost:8080/"
        },
        "id": "jONOvsgz21_N",
        "outputId": "fbb468aa-d82b-427c-d220-b5605313c8a1"
      },
      "execution_count": null,
      "outputs": [
        {
          "output_type": "stream",
          "name": "stdout",
          "text": [
            "Match: at\n",
            "Match: aat\n",
            "Match: aaat\n",
            "Match: at\n"
          ]
        }
      ]
    },
    {
      "cell_type": "code",
      "source": [
        "#5. mata character $ (뜻: $는 문자열의 끝을 나타내는 메타 문자, 즉 해당 패턴이 문자열의 끝 부분과 일치해야 함) 예시\n",
        "\n",
        "import re\n",
        "\n",
        "text = \"Python is a popular programming language. Python is versatile.\"\n",
        "pattern = r'versatile.$'\n",
        "\n",
        "matches = re.findall(pattern, text)\n",
        "\n",
        "for i in matches:\n",
        "    print(\"Match:\", i)"
      ],
      "metadata": {
        "colab": {
          "base_uri": "https://localhost:8080/"
        },
        "id": "pB4b3UZlxgKJ",
        "outputId": "2ce80aae-12d3-486a-ffb3-2a257bacc20d"
      },
      "execution_count": null,
      "outputs": [
        {
          "output_type": "stream",
          "name": "stdout",
          "text": [
            "Match: versatile.\n"
          ]
        }
      ]
    },
    {
      "cell_type": "markdown",
      "source": [
        "###💘 Student's activity playing with r '$'"
      ],
      "metadata": {
        "id": "zC1fXyd-L7pB"
      }
    },
    {
      "cell_type": "code",
      "source": [
        "#5a. mata character $ (뜻: $는 문자열의 끝을 나타내는 메타 문자, 즉 해당 패턴이 문자열의 끝 부분과 일치해야 함) 예시\n",
        "\n",
        "import re\n",
        "\n",
        "text = \"Python is a popular programming language. Python is versatile.\"\n",
        "pattern = r'e.$'\n",
        "\n",
        "matches = re.findall(pattern, text)\n",
        "\n",
        "for i in matches:\n",
        "    print(\"Match:\", i)"
      ],
      "metadata": {
        "id": "ybo_deXHM5II",
        "outputId": "62c81f03-7d11-456b-a2c7-8095d0bcdad8",
        "colab": {
          "base_uri": "https://localhost:8080/"
        }
      },
      "execution_count": null,
      "outputs": [
        {
          "output_type": "stream",
          "name": "stdout",
          "text": [
            "Match: e.\n"
          ]
        }
      ]
    },
    {
      "cell_type": "code",
      "source": [
        "#5b. 💊COMPARE\n",
        "\n",
        "import re\n",
        "\n",
        "text = \"Python is a popular programming language. Python is versatile.\"\n",
        "pattern = r'tile.$'\n",
        "\n",
        "matches = re.findall(pattern, text)\n",
        "\n",
        "for i in matches:\n",
        "    print(\"Match:\", i)"
      ],
      "metadata": {
        "id": "8NhSsPtw79gh",
        "outputId": "21bf2ba0-510a-42e7-85d3-d7e05a34cf26",
        "colab": {
          "base_uri": "https://localhost:8080/"
        }
      },
      "execution_count": null,
      "outputs": [
        {
          "output_type": "stream",
          "name": "stdout",
          "text": [
            "Match: tile.\n"
          ]
        }
      ]
    },
    {
      "cell_type": "code",
      "source": [
        "#5c. 💣💊COMPARE\n",
        "\n",
        "import re\n",
        "\n",
        "text = \"Python is a popular programming language. Python is versatile.\"\n",
        "pattern = r'language.$'\n",
        "\n",
        "matches = re.findall(pattern, text)\n",
        "\n",
        "for i in matches:\n",
        "    print(\"Match:\", i)\n",
        "\n",
        "#💊 \"language.\"는 문자열의 <끝>이 아니다. 따라서 출력값이 안나온다. 코드 셀은 NameError 없이 실행된다."
      ],
      "metadata": {
        "id": "qdiO4w2-yl89"
      },
      "execution_count": null,
      "outputs": []
    },
    {
      "cell_type": "code",
      "source": [
        "#6. mata character ^ (뜻: ^는 패턴의 시작 부분을 나타냄. 즉, 패턴을 사용하여 문자열을 검색하거나 매치할 때, 해당 패턴이 <문자열의 시작 부분과 일치> 해야함) 예시\n",
        "import re\n",
        "\n",
        "text = \"Python is a programming language. Python is versatile. We all love Python.\"\n",
        "pattern = r'^Python' #^를 사용하여 문자열의 시작 부분에서 특정 단어(e.g., 두개 Python 단어 중 <\"Python\" at the beginning of a string or a line>)를 검색하는 예제\n",
        "\n",
        "matches = re.findall(pattern, text)\n",
        "\n",
        "for i in matches:\n",
        "    print(\"Match:\", i)"
      ],
      "metadata": {
        "colab": {
          "base_uri": "https://localhost:8080/"
        },
        "id": "o1Ystg4EzO84",
        "outputId": "7f9e2625-9ffd-4315-aee3-5f5204ae1f8c"
      },
      "execution_count": null,
      "outputs": [
        {
          "output_type": "stream",
          "name": "stdout",
          "text": [
            "Match: Python\n"
          ]
        }
      ]
    },
    {
      "cell_type": "markdown",
      "source": [
        "###💘 Student's activity playing with r '^'"
      ],
      "metadata": {
        "id": "R12WoavvOT9h"
      }
    },
    {
      "cell_type": "code",
      "source": [
        "#6a 💣💊COMPARE\n",
        "\n",
        "import re\n",
        "\n",
        "text = \"Python is a programming language. Python is versatile. We all love Python.\"\n",
        "pattern = r'^is' #^를 사용하여 문자열의 시작 부분에서 특정 단어(e.g., Python)를 검색하는 예제\n",
        "\n",
        "matches = re.findall(pattern, text)\n",
        "\n",
        "for i in matches:\n",
        "    print(\"Match:\", i)\n",
        "\n",
        "#\"is\"는 at the beginning of string 이 아니라서 출력값이 안나온다. 코드 셀은 NameError 없이 실행된다."
      ],
      "metadata": {
        "id": "P11daD1282TS"
      },
      "execution_count": null,
      "outputs": []
    },
    {
      "cell_type": "markdown",
      "source": [],
      "metadata": {
        "id": "VqfLpxIKUS9j"
      }
    },
    {
      "cell_type": "markdown",
      "source": [
        "|Symbol | Meaning|\n",
        "|--|--|\n",
        "|{숫자}|   숫자만큼 반복\n",
        "|{숫자1, 숫자2}| 숫자1 이상 숫자2 까지 반복. ?, *, +를 이것으로 대체할 수 있음|\n",
        "|{숫자,}| 숫자 이상만큼 반복\n",
        "|[ ] |   대괄호 안의 문자들 중 한 개의 문자와 매치|\n",
        "||.      [amk]라고 한다면 a 또는 m 또는 k 중 하나라도 존재하면 매치를 의미|\n",
        "||       [a-z]와 같이 범위를 지정할 수도 있음|\n",
        "||       [a-zA-Z]는 알파벳 전체를 의미하는 범위이며, 문자열에 알파벳이 존재하면 매치를 의미|\n",
        "|[^문자]|  해당 문자를 <제외>한 문자를 매치\n",
        "| 1 | A1B와 같이 쓰이며 A 또는 B의 의미| (cf.: a vertical line is replace by 1 to get the system work)"
      ],
      "metadata": {
        "id": "Rp-Ay64d-Es8"
      }
    },
    {
      "cell_type": "markdown",
      "source": [],
      "metadata": {
        "id": "nJXnqUB2UU8Y"
      }
    },
    {
      "cell_type": "code",
      "source": [
        "#7. {숫자} (뜻: {}를 사용하여 숫자를 지정하는 것은 정규 표현식에서 특정 패턴이 몇 번 나타날지 지정하는 방법 중 하나) 예시\n",
        "# ⭐ IMPORTANT: \"\\d\"는 숫자를 나타냄 (REFER to More on re #21부터)\n",
        "\n",
        "import re\n",
        "\n",
        "text = \"123 4567 89 12345\"\n",
        "pattern = r\"\\d{3}\"  #\\d Matches any single digit character from 0 to 9. 세 자리(3-digit) 숫자가 반복되는 패턴\n",
        "\n",
        "matches = re.findall(pattern, text)\n",
        "\n",
        "for i in matches:\n",
        "    print(\"Match:\", i)"
      ],
      "metadata": {
        "colab": {
          "base_uri": "https://localhost:8080/"
        },
        "id": "vr5AK9reRFxX",
        "outputId": "059e044c-98aa-4780-b9c2-d4c4075504a4"
      },
      "execution_count": null,
      "outputs": [
        {
          "output_type": "stream",
          "name": "stdout",
          "text": [
            "Match: 123\n",
            "Match: 456\n",
            "Match: 123\n"
          ]
        }
      ]
    },
    {
      "cell_type": "code",
      "source": [
        "#8. {숫자, 숫자} (뜻: 첫번째 숫자에서 두번째 숫자 자리수까지 검색) 예시\n",
        "# \\d Matches any single digit character from 0 to 9.\n",
        "\n",
        "import re\n",
        "\n",
        "text = \"The numbers are 12345678999, 12345, 987, and 56789.\"\n",
        "pattern = r\"\\d{3,5}\"  # 3자리에서 5자리 숫자가 반복되는 패턴을 찾음\n",
        "\n",
        "matches = re.findall(pattern, text)\n",
        "\n",
        "for i in matches:\n",
        "    print(\"Match:\", i)"
      ],
      "metadata": {
        "colab": {
          "base_uri": "https://localhost:8080/"
        },
        "id": "avYqOIZ7-lsU",
        "outputId": "c2804979-4720-476c-e202-4ec9e18b5ac1"
      },
      "execution_count": null,
      "outputs": [
        {
          "output_type": "stream",
          "name": "stdout",
          "text": [
            "Match: 12345\n",
            "Match: 67899\n",
            "Match: 12345\n",
            "Match: 987\n",
            "Match: 56789\n"
          ]
        }
      ]
    },
    {
      "cell_type": "code",
      "source": [
        "import re\n",
        "\n",
        "text = \"The word 'hello' is repeated many times: hello hello hello hello hello\"\n",
        "pattern = r\"(hello ){2,}\"\n",
        "\n",
        "matches = re.findall(pattern, text)\n",
        "\n",
        "for i in matches:\n",
        "    print(\"Match:\", i)"
      ],
      "metadata": {
        "id": "RcauGCBp5bR0"
      },
      "execution_count": null,
      "outputs": []
    },
    {
      "cell_type": "code",
      "source": [
        "#9. {숫자, } (뜻: {숫자,} 구문을 사용하면 최소한 숫자 번 이상 나타나는 패턴을 검색할 수 있음) 예시\n",
        "# Be aware of white spaces.\n",
        "\n",
        "import re\n",
        "\n",
        "text = \"The word 'hello' is repeated many times: hello hello hello hello hello\"\n",
        "pattern = r\"(hello ){2,}\"  # 'hello'가 두 번 이상 반복되는 패턴을 찾음. 여기서는 hello hello hello hello hello라는 패턴이 1 번 있어서 hello가 출력됨\n",
        "\n",
        "matches = re.findall(pattern, text)\n",
        "\n",
        "for i in matches:\n",
        "    print(\"Match:\", i)"
      ],
      "metadata": {
        "colab": {
          "base_uri": "https://localhost:8080/"
        },
        "id": "X_AiGne7AFaG",
        "outputId": "649dd531-93e1-4ed2-a987-dde41e15b954"
      },
      "execution_count": null,
      "outputs": [
        {
          "output_type": "stream",
          "name": "stdout",
          "text": [
            "Match: hello \n"
          ]
        }
      ]
    },
    {
      "cell_type": "code",
      "source": [
        "import re\n",
        "\n",
        "text = \"The word 'hello' is repeated many times: hellohellohellohellohello hellohellohellohellohello hellohellohellohellohello\"\n",
        "pattern = r\"(hello){2,}\"\n",
        "\n",
        "matches = re.findall(pattern, text)\n",
        "\n",
        "for i in matches:\n",
        "    print(\"Match:\", i)"
      ],
      "metadata": {
        "id": "p3Y2LVrI6gvb"
      },
      "execution_count": null,
      "outputs": []
    },
    {
      "cell_type": "code",
      "source": [
        "import re\n",
        "\n",
        "text = \"The word 'hello' is repeated many times: hellohellohellohellohello hellohellohellohellohello hellohellohellohellohello\"\n",
        "pattern = r\"(hello){2,}\"\n",
        "\n",
        "matches = re.findall(pattern, text)\n",
        "\n",
        "for i in matches:\n",
        "    print(\"Match:\", i)"
      ],
      "metadata": {
        "id": "diWCO7ZY66Pe"
      },
      "execution_count": null,
      "outputs": []
    },
    {
      "cell_type": "code",
      "source": [
        "#9a. 💣💊COMPARE\n",
        "\n",
        "import re\n",
        "\n",
        "text = \"The word 'hello' is repeated many times: hellohellohellohellohello hellohellohellohellohello hellohellohellohellohello hellohellohellohellohello\"\n",
        "pattern = r\"(hello){2,}\"  # 'hello'가 두 번 이상 반복되는 패턴을 찾음. 여기서는 hellohellohellohellohello라는 패턴이 4 번 있어서 hello가 4회 출력됨\n",
        "\n",
        "matches = re.findall(pattern, text)\n",
        "\n",
        "for i in matches:\n",
        "    print(\"Match:\", i)"
      ],
      "metadata": {
        "colab": {
          "base_uri": "https://localhost:8080/"
        },
        "id": "c0KkOU2XSSrh",
        "outputId": "5e896ec6-c6dd-4fab-ba3d-b50a712ef5c6"
      },
      "execution_count": 1,
      "outputs": [
        {
          "output_type": "stream",
          "name": "stdout",
          "text": [
            "Match: hello\n",
            "Match: hello\n",
            "Match: hello\n",
            "Match: hello\n"
          ]
        }
      ]
    },
    {
      "cell_type": "code",
      "source": [
        "# 10. [ ]  (뜻: [ ]는 [ ]대괄호 안의 요소들 중 한 개의 요소와 일치)\n",
        "\n",
        "text = \"The price is $100.\"\n",
        "pattern = r\"[1234567890]\"\n",
        "# 숫자 하나를 나타내는 문자 클래스 [ ]: 위 문자열을 대상으로 [ ] 패턴을 사용하면 문자열 내에서 \"1\", \"0\", \"0\"이 각각 한 번씩 매치된다.\n",
        "#[ ] 패턴은 숫자를 한 개 씩 찾아내는 데 사용될 수 있다.\n",
        "\n",
        "matches = re.findall(pattern, text)\n",
        "\n",
        "for i in matches:\n",
        "    print(\"Match:\", i)"
      ],
      "metadata": {
        "id": "xQDtVmDkXcyB",
        "outputId": "4cb77a44-2697-4ff3-e930-6a43d995a923",
        "colab": {
          "base_uri": "https://localhost:8080/"
        }
      },
      "execution_count": null,
      "outputs": [
        {
          "output_type": "stream",
          "name": "stdout",
          "text": [
            "Match: 1\n",
            "Match: 0\n",
            "Match: 0\n"
          ]
        }
      ]
    },
    {
      "cell_type": "code",
      "source": [
        "# 10a. [\\d]  (뜻: [\\d]는 [ ]대괄호 안의 문자들 중 한 개의 숫자와 일치) 예시\n",
        "\n",
        "text = \"The price is $100.\"\n",
        "pattern = r\"[\\d]\"\n",
        "# 숫자 하나를 나타내는 문자 클래스: 위 문자열을 대상으로 [ ] 패턴을 사용하면 문자열 내에서 \"1\", \"0\", \"0\"이 각각 한 번씩 매치된다.\n",
        "#[ ] 패턴에서 \\d 는 0~9까지의 한자리 수 정수를 나타내고, [ ] 패턴은 숫자를 한 개 씩 찾아내는 데 사용될 수 있다.\n",
        "\n",
        "matches = re.findall(pattern, text)\n",
        "\n",
        "for i in matches:\n",
        "    print(\"Match:\", i)"
      ],
      "metadata": {
        "id": "0TxHrUwUCEZx",
        "outputId": "77759385-6d05-4755-8c8b-a23a66b88ea1",
        "colab": {
          "base_uri": "https://localhost:8080/"
        }
      },
      "execution_count": null,
      "outputs": [
        {
          "output_type": "stream",
          "name": "stdout",
          "text": [
            "Match: 1\n",
            "Match: 0\n",
            "Match: 0\n"
          ]
        }
      ]
    },
    {
      "cell_type": "code",
      "source": [
        "text = \"The price is $100.\"\n",
        "pattern = r\"[es]\"\n",
        "\n",
        "matches = re.findall(pattern, text)\n",
        "\n",
        "for i in matches:\n",
        "    print(\"Match:\", i)"
      ],
      "metadata": {
        "colab": {
          "base_uri": "https://localhost:8080/"
        },
        "id": "H43XGvGhAO0Q",
        "outputId": "0b1d0f40-56a6-45ea-906f-270381c130dc"
      },
      "execution_count": 3,
      "outputs": [
        {
          "output_type": "stream",
          "name": "stdout",
          "text": [
            "Match: e\n",
            "Match: e\n",
            "Match: s\n"
          ]
        }
      ]
    },
    {
      "cell_type": "code",
      "source": [
        "# 10b. 💊COMPARE\n",
        "\n",
        "text = \"The price is $100.\"\n",
        "pattern = r\"[es]\"\n",
        "# 숫자 하나를 나타내는 문자 클래스: 위 문자열에서 이 패턴을 사용하면 문자열 내에서 \"1\", \"0\", \"0\"이 각각 한 번씩 매치된다.\n",
        "# 그리고, 문자들 중 either 'e', 't', or 'z'이 발견되면 이 패턴은 각 문자를 나온 횟수대로 모두 찾아내는 데 사용될 수 있다.\n",
        "\n",
        "matches = re.findall(pattern, text)\n",
        "\n",
        "for i in matches:\n",
        "    print(\"Match:\", i)"
      ],
      "metadata": {
        "id": "PBsEpZ5nbTlF",
        "outputId": "af6c32b1-46c2-4f22-bc18-ae2cd5ed40d5",
        "colab": {
          "base_uri": "https://localhost:8080/"
        }
      },
      "execution_count": null,
      "outputs": [
        {
          "output_type": "stream",
          "name": "stdout",
          "text": [
            "Match: e\n",
            "Match: e\n",
            "Match: s\n"
          ]
        }
      ]
    },
    {
      "cell_type": "code",
      "source": [
        "text = \"The price is $100.\"\n",
        "pattern = r\"[etz\\d]\"\n",
        "\n",
        "matches = re.findall(pattern, text)\n",
        "\n",
        "for i in matches:\n",
        "    print(\"Match:\", i)"
      ],
      "metadata": {
        "colab": {
          "base_uri": "https://localhost:8080/"
        },
        "id": "oQ-YwZ_A9o07",
        "outputId": "694296cf-01a8-462b-9223-5eb598cbd85b"
      },
      "execution_count": 2,
      "outputs": [
        {
          "output_type": "stream",
          "name": "stdout",
          "text": [
            "Match: e\n",
            "Match: e\n",
            "Match: 1\n",
            "Match: 0\n",
            "Match: 0\n"
          ]
        }
      ]
    },
    {
      "cell_type": "code",
      "source": [
        "# 10c. 💊COMPARE\n",
        "\n",
        "text = \"The price is $100.\"\n",
        "pattern = r\"[etz\\d]\"\n",
        "# 숫자 하나를 나타내는 문자 클래스: 위 문자열에서 이 패턴을 사용하면 문자열 내에서 \"1\", \"0\", \"0\"이 각각 한 번씩 매치된다.\n",
        "# 그리고, 문자들 중 either 'e', 't', or 'z'이 발견되면 이 패턴은 각 문자를 나온 횟수대로 모두 찾아내는 데 사용될 수 있다.\n",
        "\n",
        "matches = re.findall(pattern, text)\n",
        "\n",
        "for i in matches:\n",
        "    print(\"Match:\", i)"
      ],
      "metadata": {
        "id": "zuU5jA1xWQZp",
        "outputId": "ca9ac9ab-e390-4246-ed0d-23e9d36fbd65",
        "colab": {
          "base_uri": "https://localhost:8080/"
        }
      },
      "execution_count": null,
      "outputs": [
        {
          "output_type": "stream",
          "name": "stdout",
          "text": [
            "Match: e\n",
            "Match: e\n",
            "Match: 1\n",
            "Match: 0\n",
            "Match: 0\n"
          ]
        }
      ]
    },
    {
      "cell_type": "code",
      "source": [
        "import re\n",
        "\n",
        "text = \"I have an apple and a monkey in the kitchen.\"\n",
        "pattern = r\"[amk]\"\n",
        "\n",
        "matches = re.findall(pattern, text)\n",
        "\n",
        "for i in matches:\n",
        "  print(\"Match\" , i)"
      ],
      "metadata": {
        "id": "_YwGbSa4-sjE"
      },
      "execution_count": null,
      "outputs": []
    },
    {
      "cell_type": "code",
      "source": [
        "# 10d. [amk] (뜻: [ ]는 [ ]대괄호 안의 문자들 중 한 개의 문자와 매치) 예시\n",
        "\n",
        "import re\n",
        "\n",
        "text = \"I have an apple and a monkey in the kitchen.\"\n",
        "pattern = r\"[amk]\"  # 'a', 'm', 또는 'k' 중 하나의 문자를 찾음\n",
        "\n",
        "matches = re.findall(pattern, text) #re 모듈의 findall 함수를 호출. 이 함수는 문자열(text)에서 정규 표현식 패턴(pattern)과 일치하는 모든 부분을 찾아내어 리스트로 반환.\n",
        "#matches: re.findall() 함수의 결과인 일치하는 부분들이 저장되는 변수. 이 변수에는 text 문자열에서 \"a\", \"m\", 또는 \"k\"와 일치하는 모든 부분이 리스트 형태로 저장.\n",
        "#위의 코드에서 matches 리스트에는 \"a\", \"a\", \"m\", \"a\", \"k\", \"a\", \"m\", \"k\"와 같이 \"a\", \"m\", \"k\"와 일치하는 문자들이 저장\n",
        "\n",
        "for i in matches:     #for match in matches: 루프를 통해 matches 리스트의 각 아이템을 순회하며, 각 일치하는 문자를 출력\n",
        "    print(\"Match:\", i)"
      ],
      "metadata": {
        "colab": {
          "base_uri": "https://localhost:8080/"
        },
        "id": "AfRu35aJE9Jh",
        "outputId": "acad17bb-474f-4d28-e196-72c282c43871"
      },
      "execution_count": null,
      "outputs": [
        {
          "output_type": "stream",
          "name": "stdout",
          "text": [
            "Match: a\n",
            "Match: a\n",
            "Match: a\n",
            "Match: a\n",
            "Match: a\n",
            "Match: m\n",
            "Match: k\n",
            "Match: k\n"
          ]
        }
      ]
    },
    {
      "cell_type": "code",
      "source": [
        "# 10e. 👏\n",
        "#💊 Alert: [ ]는 [ ]대괄호 안의 문자들 중 한 개의 요소/문자/숫자와 일치하는 정규표현식이지만, for statement와 결합해야지만 각각의 요소를 찾아낼 수 있다.\n",
        "\n",
        "import re\n",
        "\n",
        "text = \"The price is $100.\"\n",
        "\n",
        "pattern1 = r'\\d'\n",
        "pattern2 = r\"[1234567890]\"\n",
        "pattern3 = r'[\\d]'\n",
        "\n",
        "#🌀💊 The following variables (pattern4 & pattern5) are for a sequence of numbers. Don't get confused.\n",
        "pattern4 = r'123456789'\n",
        "pattern5 = r'1,2,3,4,5,6,7,8,9'\n",
        "\n",
        "print('Pattern1:', pattern1)\n",
        "print('\\n')\n",
        "print('Pattern2:', pattern2)\n",
        "print('\\n')\n",
        "print('Pattern3:', pattern3)\n",
        "print('\\n')\n",
        "print('Pattern4:', pattern4)\n",
        "print('\\n')\n",
        "print('Pattern5:', pattern5)\n",
        "print('\\n')\n",
        "\n",
        "matches = re.findall(pattern1, text)\n",
        "for i in matches:\n",
        "    print(\"Match1:\", i)\n",
        "\n",
        "matches = re.findall(pattern2, text)\n",
        "for i in matches:\n",
        "    print(\"Match2:\", i)\n",
        "\n",
        "matches = re.findall(pattern3, text)\n",
        "for i in matches:\n",
        "    print(\"Match3:\", i)\n",
        "\n",
        "matches = re.findall(pattern4, text)\n",
        "for i in matches:\n",
        "    print(\"Match4:\", i)\n",
        "\n",
        "matches = re.findall(pattern5, text)\n",
        "for i in matches:\n",
        "    print(\"Match5:\", i)"
      ],
      "metadata": {
        "colab": {
          "base_uri": "https://localhost:8080/"
        },
        "id": "3G1nH3o39ZSj",
        "outputId": "8709304e-7234-4338-b8bb-c01fa8631cf6"
      },
      "execution_count": null,
      "outputs": [
        {
          "output_type": "stream",
          "name": "stdout",
          "text": [
            "Pattern1: \\d\n",
            "\n",
            "\n",
            "Pattern2: [1234567890]\n",
            "\n",
            "\n",
            "Pattern3: [\\d]\n",
            "\n",
            "\n",
            "Pattern4: 123456789\n",
            "\n",
            "\n",
            "Pattern5: 1,2,3,4,5,6,7,8,9\n",
            "\n",
            "\n",
            "Match1: 1\n",
            "Match1: 0\n",
            "Match1: 0\n",
            "Match2: 1\n",
            "Match2: 0\n",
            "Match2: 0\n",
            "Match3: 1\n",
            "Match3: 0\n",
            "Match3: 0\n"
          ]
        }
      ]
    },
    {
      "cell_type": "code",
      "source": [
        "#10f. 🌀💊 Comprehensive understanding of [ ] when it comes with digits and spelling strings.\n",
        "\n",
        "# (a) \\d (i.e., {0,9}, 0123456789) does not necessarily need [ ] if it comes with for statement, but you don't need nothing to lose by using [\\d].\n",
        "# (b) Spelling strings need [ ] if you want to result in each spelling string individually. For statement is not enough to get what you want.\n",
        "\n",
        "import re\n",
        "\n",
        "text = \"The price is $100.\"\n",
        "\n",
        "pattern1 = r\"\\d\"\n",
        "\n",
        "print(pattern1)\n",
        "\n",
        "pattern2 = r\"es\"\n",
        "\n",
        "print(pattern1)\n",
        "print('\\n')\n",
        "print(pattern2)\n",
        "print('\\n')\n",
        "\n",
        "\n",
        "matches1 = re.findall(pattern1, text)\n",
        "for i in matches1:\n",
        "    print(\"Match1:\", i)\n",
        "\n",
        "\n",
        "#matches2 = re.findall(pattern2, text)\n",
        "#for i in matches2:\n",
        "    #print(\"Match2:\", i)\n"
      ],
      "metadata": {
        "id": "V2fDjU_bUHqv",
        "outputId": "bbfcc7f4-e80f-43db-83ce-21395514ef1a",
        "colab": {
          "base_uri": "https://localhost:8080/"
        }
      },
      "execution_count": 4,
      "outputs": [
        {
          "output_type": "stream",
          "name": "stdout",
          "text": [
            "\\d\n",
            "\\d\n",
            "\n",
            "\n",
            "es\n",
            "\n",
            "\n",
            "Match1: 1\n",
            "Match1: 0\n",
            "Match1: 0\n"
          ]
        }
      ]
    },
    {
      "cell_type": "code",
      "source": [
        "import re\n",
        "\n",
        "text = \"The quick brown fox jumps over the lazy dog.\"\n",
        "pattern = r\"[a-z]\"\n",
        "print(pattern)\n",
        "\n",
        "matches = re.findall(pattern, text)\n",
        "print(matches)\n",
        "\n",
        "for i in matches:\n",
        "    print(\"Match:\", i)"
      ],
      "metadata": {
        "colab": {
          "base_uri": "https://localhost:8080/"
        },
        "id": "BFjpZAm8CRxg",
        "outputId": "dc0438aa-782b-48a8-866a-7d5ba6d552d9"
      },
      "execution_count": 6,
      "outputs": [
        {
          "output_type": "stream",
          "name": "stdout",
          "text": [
            "[a-z]\n",
            "['h', 'e', 'q', 'u', 'i', 'c', 'k', 'b', 'r', 'o', 'w', 'n', 'f', 'o', 'x', 'j', 'u', 'm', 'p', 's', 'o', 'v', 'e', 'r', 't', 'h', 'e', 'l', 'a', 'z', 'y', 'd', 'o', 'g']\n",
            "Match: h\n",
            "Match: e\n",
            "Match: q\n",
            "Match: u\n",
            "Match: i\n",
            "Match: c\n",
            "Match: k\n",
            "Match: b\n",
            "Match: r\n",
            "Match: o\n",
            "Match: w\n",
            "Match: n\n",
            "Match: f\n",
            "Match: o\n",
            "Match: x\n",
            "Match: j\n",
            "Match: u\n",
            "Match: m\n",
            "Match: p\n",
            "Match: s\n",
            "Match: o\n",
            "Match: v\n",
            "Match: e\n",
            "Match: r\n",
            "Match: t\n",
            "Match: h\n",
            "Match: e\n",
            "Match: l\n",
            "Match: a\n",
            "Match: z\n",
            "Match: y\n",
            "Match: d\n",
            "Match: o\n",
            "Match: g\n"
          ]
        }
      ]
    },
    {
      "cell_type": "code",
      "source": [
        "#11. [a-z] (뜻: 'a'부터 'z'까지의 모든 소문자 글자와 일치) 예시\n",
        "\n",
        "import re\n",
        "\n",
        "text = \"The quick brown fox jumps over the lazy dog.\"\n",
        "pattern = r\"[a-z]\"  # 소문자 알파벳에 일치하는 패턴\n",
        "\n",
        "matches = re.findall(pattern, text)\n",
        "\n",
        "for i in matches:\n",
        "    print(\"Match:\", i)"
      ],
      "metadata": {
        "colab": {
          "base_uri": "https://localhost:8080/"
        },
        "id": "EKoaGHqBUNvz",
        "outputId": "ab5b5ae5-8e75-4120-a38d-5f653e90c05e"
      },
      "execution_count": null,
      "outputs": [
        {
          "output_type": "stream",
          "name": "stdout",
          "text": [
            "Match: h\n",
            "Match: e\n",
            "Match: q\n",
            "Match: u\n",
            "Match: i\n",
            "Match: c\n",
            "Match: k\n",
            "Match: b\n",
            "Match: r\n",
            "Match: o\n",
            "Match: w\n",
            "Match: n\n",
            "Match: f\n",
            "Match: o\n",
            "Match: x\n",
            "Match: j\n",
            "Match: u\n",
            "Match: m\n",
            "Match: p\n",
            "Match: s\n",
            "Match: o\n",
            "Match: v\n",
            "Match: e\n",
            "Match: r\n",
            "Match: t\n",
            "Match: h\n",
            "Match: e\n",
            "Match: l\n",
            "Match: a\n",
            "Match: z\n",
            "Match: y\n",
            "Match: d\n",
            "Match: o\n",
            "Match: g\n"
          ]
        }
      ]
    },
    {
      "cell_type": "code",
      "source": [
        "#12. [A-Z] ('a'부터 'z'까지의 모든 대문자 글자와 일치) 예시\n",
        "\n",
        "import re\n",
        "\n",
        "text = \"\\\"The book titles are 'The Aesop for Children', 'Harry Potter', and 'Pride and Prejudice',\\\" said Amelia.\"\n",
        "pattern = r\"[A-Z]\"  # 대문자 알파벳에 일치하는 패턴\n",
        "\n",
        "matches = re.findall(pattern, text)\n",
        "\n",
        "for i in matches:\n",
        "    print(\"Match:\", i)"
      ],
      "metadata": {
        "colab": {
          "base_uri": "https://localhost:8080/"
        },
        "id": "Yjhd70m5UYA9",
        "outputId": "714fe56c-2797-4fcc-8d94-24af179ab9db"
      },
      "execution_count": null,
      "outputs": [
        {
          "output_type": "stream",
          "name": "stdout",
          "text": [
            "Match: T\n",
            "Match: T\n",
            "Match: A\n",
            "Match: C\n",
            "Match: H\n",
            "Match: P\n",
            "Match: P\n",
            "Match: P\n",
            "Match: A\n"
          ]
        }
      ]
    },
    {
      "cell_type": "code",
      "source": [
        "import re\n",
        "\n",
        "text = \"New York is a wonderful city.\"\n",
        "print(text)\n",
        "print('\\n')\n",
        "\n",
        "pattern = r\"[a-zA-Z]\"\n",
        "print(text)\n",
        "print('\\n')\n",
        "\n",
        "matches = re.findall(pattern, text)\n",
        "print(matches)\n",
        "print('\\n')\n",
        "\n",
        "for i in matches:\n",
        "  print(\"Match\" , i)"
      ],
      "metadata": {
        "colab": {
          "base_uri": "https://localhost:8080/"
        },
        "id": "Prx4E7hBDsLD",
        "outputId": "bdf94414-f0e4-46e5-857e-17fa6af71ef8"
      },
      "execution_count": 7,
      "outputs": [
        {
          "output_type": "stream",
          "name": "stdout",
          "text": [
            "New York is a wonderful city.\n",
            "\n",
            "\n",
            "New York is a wonderful city.\n",
            "\n",
            "\n",
            "['N', 'e', 'w', 'Y', 'o', 'r', 'k', 'i', 's', 'a', 'w', 'o', 'n', 'd', 'e', 'r', 'f', 'u', 'l', 'c', 'i', 't', 'y']\n",
            "\n",
            "\n",
            "Match N\n",
            "Match e\n",
            "Match w\n",
            "Match Y\n",
            "Match o\n",
            "Match r\n",
            "Match k\n",
            "Match i\n",
            "Match s\n",
            "Match a\n",
            "Match w\n",
            "Match o\n",
            "Match n\n",
            "Match d\n",
            "Match e\n",
            "Match r\n",
            "Match f\n",
            "Match u\n",
            "Match l\n",
            "Match c\n",
            "Match i\n",
            "Match t\n",
            "Match y\n"
          ]
        }
      ]
    },
    {
      "cell_type": "code",
      "source": [
        "#13. [a-zA-Z] (뜻:  알파벳(대소문자 구분 없이) 모든 문자와 일치) 예시\n",
        "\n",
        "import re\n",
        "\n",
        "text = \"New York is a wonderful city.\"\n",
        "pattern = r\"[a-zA-Z]\"  # 알파벳(대소문자 구분 없이) 모든 문자를 찾을 때 사용\n",
        "\n",
        "matches = re.findall(pattern, text)\n",
        "\n",
        "for i in matches:\n",
        "    print(\"Match:\", i)"
      ],
      "metadata": {
        "colab": {
          "base_uri": "https://localhost:8080/"
        },
        "id": "nGHMPctWUv7W",
        "outputId": "ed9c9a11-e50a-4b09-d01d-74c0879a1ea1"
      },
      "execution_count": null,
      "outputs": [
        {
          "output_type": "stream",
          "name": "stdout",
          "text": [
            "Match: N\n",
            "Match: e\n",
            "Match: w\n",
            "Match: Y\n",
            "Match: o\n",
            "Match: r\n",
            "Match: k\n",
            "Match: i\n",
            "Match: s\n",
            "Match: a\n",
            "Match: w\n",
            "Match: o\n",
            "Match: n\n",
            "Match: d\n",
            "Match: e\n",
            "Match: r\n",
            "Match: f\n",
            "Match: u\n",
            "Match: l\n",
            "Match: c\n",
            "Match: i\n",
            "Match: t\n",
            "Match: y\n"
          ]
        }
      ]
    },
    {
      "cell_type": "code",
      "source": [
        "import re\n",
        "\n",
        "text = \"A total of 149 episodes of The Aesop for Children.\"\n",
        "pattern = r\"[0-9]\"\n",
        "\n",
        "matches = re.findall(pattern, text)\n",
        "\n",
        "for i in matches:\n",
        "    print(\"Match:\", i)"
      ],
      "metadata": {
        "colab": {
          "base_uri": "https://localhost:8080/"
        },
        "id": "ANGHykA6FJte",
        "outputId": "986cb490-bfc6-48c4-8ef1-bc4a8b10d24b"
      },
      "execution_count": 8,
      "outputs": [
        {
          "output_type": "stream",
          "name": "stdout",
          "text": [
            "Match: 1\n",
            "Match: 4\n",
            "Match: 9\n"
          ]
        }
      ]
    },
    {
      "cell_type": "code",
      "source": [
        "#14. [0-9] (뜻: 모든 숫자 (정수 형태)와 일치) 일치\n",
        "\n",
        "import re\n",
        "\n",
        "text = \"A total of 149 episodes of The Aesop for Children.\"\n",
        "pattern = r\"[0-9]\"  #숫자를 찾을 때 사용\n",
        "\n",
        "matches = re.findall(pattern, text)\n",
        "\n",
        "for i in matches:\n",
        "    print(\"Match:\", i)"
      ],
      "metadata": {
        "colab": {
          "base_uri": "https://localhost:8080/"
        },
        "id": "AQL3FTEwVrRK",
        "outputId": "5ee1cfa7-bb7f-4eff-87ac-6d07cf0867e1"
      },
      "execution_count": null,
      "outputs": [
        {
          "output_type": "stream",
          "name": "stdout",
          "text": [
            "Match: 1\n",
            "Match: 4\n",
            "Match: 9\n"
          ]
        }
      ]
    },
    {
      "cell_type": "code",
      "source": [
        "import re\n",
        "\n",
        "text = \"In mathematics, 3.14 is a decimal approximation of the mathematical constant π (pi).\"\n",
        "pattern = r\"[0-9]\"\n",
        "\n",
        "matches = re.findall(pattern, text)\n",
        "\n",
        "for i in matches:\n",
        "    print(\"Match:\", i)"
      ],
      "metadata": {
        "id": "LL0rGvuKFVhY"
      },
      "execution_count": null,
      "outputs": []
    },
    {
      "cell_type": "code",
      "source": [
        "#14a. 💣💊COMPARE\n",
        "\n",
        "import re\n",
        "\n",
        "text = \"In mathematics, 3.14 is a decimal approximation of the mathematical constant π (pi).\"\n",
        "pattern = r\"[0-9]\"  #숫자를 찾을 때 사용\n",
        "\n",
        "matches = re.findall(pattern, text)\n",
        "\n",
        "for i in matches:\n",
        "    print(\"Match:\", i)"
      ],
      "metadata": {
        "id": "A-5Mm7PTYf-D",
        "outputId": "a8a103fb-b015-4862-e49e-aa96a62c831e",
        "colab": {
          "base_uri": "https://localhost:8080/"
        }
      },
      "execution_count": null,
      "outputs": [
        {
          "output_type": "stream",
          "name": "stdout",
          "text": [
            "Match: 3\n",
            "Match: 1\n",
            "Match: 4\n"
          ]
        }
      ]
    },
    {
      "cell_type": "code",
      "source": [
        "#15. [a-zA-Z0-9] (뜻: 대문자 소문자 구분없이 알파벳과 숫자를 포함하는 모든 문자와 일치) 예시\n",
        "import re\n",
        "\n",
        "text = \"24 Hours a Day, 7 Days a Week, & 365 Days a Year!\"\n",
        "pattern = r\"[a-zA-Z0-9]\"  #알파벳(대소문자 구분 없이)과 숫자를 포함하는 모든 문자를 찾을 때 사용. 기호는 포함 안됨.\n",
        "\n",
        "matches = re.findall(pattern, text)\n",
        "\n",
        "for i in matches:\n",
        "    print(\"Match:\", i)"
      ],
      "metadata": {
        "colab": {
          "base_uri": "https://localhost:8080/"
        },
        "id": "8whPpXJTU6aU",
        "outputId": "0e7daf7a-d4bf-4f1f-9cc0-b4daab135dc4"
      },
      "execution_count": null,
      "outputs": [
        {
          "output_type": "stream",
          "name": "stdout",
          "text": [
            "Match: 2\n",
            "Match: 4\n",
            "Match: H\n",
            "Match: o\n",
            "Match: u\n",
            "Match: r\n",
            "Match: s\n",
            "Match: a\n",
            "Match: D\n",
            "Match: a\n",
            "Match: y\n",
            "Match: 7\n",
            "Match: D\n",
            "Match: a\n",
            "Match: y\n",
            "Match: s\n",
            "Match: a\n",
            "Match: W\n",
            "Match: e\n",
            "Match: e\n",
            "Match: k\n",
            "Match: 3\n",
            "Match: 6\n",
            "Match: 5\n",
            "Match: D\n",
            "Match: a\n",
            "Match: y\n",
            "Match: s\n",
            "Match: a\n",
            "Match: Y\n",
            "Match: e\n",
            "Match: a\n",
            "Match: r\n"
          ]
        }
      ]
    },
    {
      "cell_type": "code",
      "source": [
        "#16. [^a-zA-Z0-9] (소문자, 대문자 및 숫자를 제외한 모든 문자와 일치)\n",
        "import re\n",
        "\n",
        "text = \"24 Hours a Day,\\n7 Days a Week,\\n & \\t 365 Days a Year!\"\n",
        "\n",
        "pattern = r\"[^a-zA-Z0-9]\"  #알파벳(대소문자 구분 없이)과 숫자를 제외한 모든 문자를 찾을 때 사용 (e.g., white space, punctuations, escape characters (e.g., \\n, \\t), etc.)\n",
        "\n",
        "matches = re.findall(pattern, text)\n",
        "\n",
        "for i in matches:\n",
        "    print(\"Match:\", i)"
      ],
      "metadata": {
        "colab": {
          "base_uri": "https://localhost:8080/"
        },
        "id": "p1FWxclyV7Rh",
        "outputId": "d5b13a83-3d6e-42f3-b677-32b67fe1c8c8"
      },
      "execution_count": null,
      "outputs": [
        {
          "output_type": "stream",
          "name": "stdout",
          "text": [
            "Match:  \n",
            "Match:  \n",
            "Match:  \n",
            "Match: ,\n",
            "Match: \n",
            "\n",
            "Match:  \n",
            "Match:  \n",
            "Match:  \n",
            "Match: ,\n",
            "Match: \n",
            "\n",
            "Match:  \n",
            "Match: &\n",
            "Match:  \n",
            "Match: \t\n",
            "Match:  \n",
            "Match:  \n",
            "Match:  \n",
            "Match:  \n",
            "Match: !\n"
          ]
        }
      ]
    },
    {
      "cell_type": "code",
      "source": [
        "import re\n",
        "\n",
        "text = \"The color can be either red, green, or blue.\"\n",
        "pattern = r\"(red|blue)\"\n",
        "\n",
        "matches = re.findall(pattern, text)\n",
        "\n",
        "for i in matches:\n",
        "    print(\"Match:\", i)"
      ],
      "metadata": {
        "id": "0v8BuwkXGhw5"
      },
      "execution_count": null,
      "outputs": []
    },
    {
      "cell_type": "code",
      "source": [
        "#17. |  (뜻: or 와 일치) 예시 [Get students' script modified in line 5 ('red or blue' to 'red, green, or blue) & line 6 'either red|blue' to '(red|blue)' in line]\n",
        "\n",
        "import re\n",
        "\n",
        "text = \"The color can be either red, green, or blue.\"\n",
        "pattern = r\"(red|blue)\"  # \"either red\" 또는 \"blue\"에 일치하는 패턴\n",
        "\n",
        "matches = re.findall(pattern, text)\n",
        "\n",
        "for i in matches:\n",
        "    print(\"Match:\", i)"
      ],
      "metadata": {
        "colab": {
          "base_uri": "https://localhost:8080/"
        },
        "id": "sgtQucMwWL98",
        "outputId": "a90d7f51-57c1-49da-f4df-d6b40836314f"
      },
      "execution_count": null,
      "outputs": [
        {
          "output_type": "stream",
          "name": "stdout",
          "text": [
            "Match: red\n",
            "Match: blue\n"
          ]
        }
      ]
    },
    {
      "cell_type": "code",
      "source": [
        "import re\n",
        "\n",
        "text = \"It cost me $715.45 and more.\"\n",
        "\n",
        "pattern1 = r\"more.$\"\n",
        "\n",
        "matches1 = re.findall(pattern1, text)\n",
        "\n",
        "for i in matches1:\n",
        "  print(\"Match1:\", i)\n",
        "\n",
        "  pattern2 = r\"\\$+7\"\n",
        "\n",
        "  matches2 = re.findall(pattern2, text)\n",
        "\n",
        "for i in matches2:\n",
        "  print(\"Match2\", i)"
      ],
      "metadata": {
        "id": "H0Yh1bsBG5lE"
      },
      "execution_count": null,
      "outputs": []
    },
    {
      "cell_type": "code",
      "source": [
        "#18. Understanding difference Escape \\ and Meta characters. e.g., r\"\\$\" vw. r\"$\"\"\n",
        "\n",
        "import re\n",
        "\n",
        "text = \"It cost me $715.45 and more.\"\n",
        "\n",
        "pattern1 = r\"more.$\"\n",
        "\n",
        "matches1 = re.findall(pattern1, text)\n",
        "\n",
        "for i in matches1:\n",
        "  print(\"Match1:\", i)\n",
        "\n",
        "\n",
        "pattern2 = r\"\\$*7\"\n",
        "\n",
        "matches2 = re.findall(pattern2, text)\n",
        "\n",
        "for i in matches2:\n",
        "  print(\"Match2\", i)\n",
        "\n",
        "\n"
      ],
      "metadata": {
        "id": "jRv_soTMM1CJ",
        "outputId": "6d017f20-a754-438d-c6da-5befd1693a65",
        "colab": {
          "base_uri": "https://localhost:8080/"
        }
      },
      "execution_count": null,
      "outputs": [
        {
          "output_type": "stream",
          "name": "stdout",
          "text": [
            "Match1: more.\n",
            "Match2 $7\n"
          ]
        }
      ]
    },
    {
      "cell_type": "markdown",
      "source": [
        "#**<font color = 'red'> _More on RE_**"
      ],
      "metadata": {
        "id": "ESEzerU1NBpM"
      }
    },
    {
      "cell_type": "markdown",
      "source": [
        "<font color = 'blue'> **정규 표현식 문법에는 역 슬래쉬(\\)를 이용하여 자주 쓰이는 문자 규칙들이 있다.**</font>\n",
        "\n",
        "|Character Rules|Meaning|\n",
        "|--|--|\n",
        "|\\  |  역 슬래쉬 문자 자체를 의미.이스케이프 문자로 사용|\n",
        "|\\d |  모든 숫자(any numbers)를 의미. [0-9]와 의미가 동일|\n",
        "|\\D |  숫자를 제외한 모든 문자를 의미. [^0-9]와 의미가 동일|\n",
        "|\\s |  공백을 의미합니다. [ \\t\\n\\r\\f\\v]와 의미가 동일.|\n",
        "|\\S |  공백을 제외한 문자를 의미합니다. [^ \\t\\n\\r\\f\\v]와 의미가 동일.|\n",
        "|\\w |  문자 또는 숫자(any charcters or numbers)를 의미합니다. [a-zA-Z0-9]와 의미가 동일.|\n",
        "|\\W |  문자 또는 숫자가 아닌 문자를 의미. [^a-zA-Z0-9]와 의미가 동일.|"
      ],
      "metadata": {
        "id": "cP40ceDaID6I"
      }
    },
    {
      "cell_type": "markdown",
      "source": [
        "### 정규 표현식(re)에서 back slash \\ 는 이스케이프 문자로 사용되며, 메타 문자 자체를 일반 문자로 인식하도록 함.\n",
        "- 추후 참고를 위한 노트: 정규 표현식에서 \\s, \\f, \\v는 공백 문자를 나타내는 이스케이프 시퀀스다. 이들은 다음과 같은 의미를 갖는다:\n",
        "  - \\s는 정규 표현식에서 공백 문자(whitespace character)를 나타낸다. 공백 문자에는 스페이스(space), 탭(tab), 개행(newline), 캐리지 리턴(carriage return), 세로 탭(vertical tab), 폼 피드(form feed) 등이 포함된다. 이를 통해 문자열에서 공백 문자를 찾거나 매치할 수 있다.\n",
        "\n"
      ],
      "metadata": {
        "id": "ltll_jRv4ETE"
      }
    },
    {
      "cell_type": "code",
      "source": [
        "#19. 정규 표현식에서 백슬래시(\\)는 이스케이프 문자로 사용되며, 특수 문자를 나타내거나 메타 문자 자체를 일반 문자로 인식하도록 함.\n",
        "#백슬래시를 사용하여 특수 문자를 매칭할 수 있다. 예를 들어, \\.은 실제 점 문자(.)를 매치\n",
        "\n",
        "import re\n",
        "\n",
        "text = \"Hello, world.\\n This is test #5.\"\n",
        "pattern = r\"\\.\"  # 실제 Period . 문자를 매치\n",
        "\n",
        "matches = re.findall(pattern, text)\n",
        "\n",
        "for i in matches:\n",
        "    print(\"Match:\", i)"
      ],
      "metadata": {
        "colab": {
          "base_uri": "https://localhost:8080/"
        },
        "id": "6nyJV7_03i47",
        "outputId": "89b17177-6daf-4343-c7e4-6616ae162123"
      },
      "execution_count": null,
      "outputs": [
        {
          "output_type": "stream",
          "name": "stdout",
          "text": [
            "Match: .\n",
            "Match: .\n"
          ]
        }
      ]
    },
    {
      "cell_type": "code",
      "source": [
        "#19.a 💣💊 COMPARE. The following example is more advanced from #1.\n",
        "\n",
        "import re\n",
        "\n",
        "text = \"Hello, world.\\n This is test #5.\"\n",
        "pattern = r\".\"  # Period . 문자를 매치\n",
        "#(cf., r'.' for 한개의 임의의 문자(예시: 대문자, 소문자, 숫자, white space, punctuations, symbols).\n",
        "# special charecters including meta charcters는 . 한개의 임의의 문자에 포함되지 않음.)\n",
        "\n",
        "matches = re.findall(pattern, text)\n",
        "\n",
        "for i in matches:\n",
        "    print(\"Match:\", i)"
      ],
      "metadata": {
        "id": "zS5JfoVPihFk",
        "outputId": "4c4da339-699d-42a2-fb75-cee35ec99fef",
        "colab": {
          "base_uri": "https://localhost:8080/"
        }
      },
      "execution_count": null,
      "outputs": [
        {
          "output_type": "stream",
          "name": "stdout",
          "text": [
            "Match: H\n",
            "Match: e\n",
            "Match: l\n",
            "Match: l\n",
            "Match: o\n",
            "Match: ,\n",
            "Match:  \n",
            "Match: w\n",
            "Match: o\n",
            "Match: r\n",
            "Match: l\n",
            "Match: d\n",
            "Match: .\n",
            "Match:  \n",
            "Match: T\n",
            "Match: h\n",
            "Match: i\n",
            "Match: s\n",
            "Match:  \n",
            "Match: i\n",
            "Match: s\n",
            "Match:  \n",
            "Match: t\n",
            "Match: e\n",
            "Match: s\n",
            "Match: t\n",
            "Match:  \n",
            "Match: #\n",
            "Match: 5\n",
            "Match: .\n"
          ]
        }
      ]
    },
    {
      "cell_type": "code",
      "source": [
        "#20. 정규 표현식에서 백슬래시(\\)는 이스케이프 문자로 사용되며, 특수 문자를 나타내거나 메타 문자 자체를 일반 문자로 인식하도록 함.\n",
        "#백슬래시를 사용하여 특수 문자를 매칭할 수 있다. 예를 들어, \\$은 실제 dollar sign($)를 매치\n",
        "\n",
        "import re\n",
        "\n",
        "text = \"The price is $100.\"\n",
        "pattern = r\"\\$\"  # 달러 기호를 매치\n",
        "\n",
        "matches = re.findall(pattern, text)\n",
        "\n",
        "for i in matches:\n",
        "    print(\"Match:\", i)"
      ],
      "metadata": {
        "colab": {
          "base_uri": "https://localhost:8080/"
        },
        "id": "pUHq2DTm4mgC",
        "outputId": "560b50e0-519c-4534-953c-4d608690322b"
      },
      "execution_count": null,
      "outputs": [
        {
          "output_type": "stream",
          "name": "stdout",
          "text": [
            "Match: $\n"
          ]
        }
      ]
    },
    {
      "cell_type": "code",
      "source": [
        "#21. '\\d' represents 0 to 9.\n",
        "import re\n",
        "\n",
        "text = \"The price is $100.\"\n",
        "pattern = r\"\\d\"\n",
        "\n",
        "matches = re.findall(pattern, text)\n",
        "\n",
        "for i in matches:\n",
        "    print(\"Match:\", i)"
      ],
      "metadata": {
        "id": "bLg7Rq73e6p7",
        "outputId": "4ebf389f-ef58-46e9-d86e-61aac4598490",
        "colab": {
          "base_uri": "https://localhost:8080/"
        }
      },
      "execution_count": null,
      "outputs": [
        {
          "output_type": "stream",
          "name": "stdout",
          "text": [
            "Match: 1\n",
            "Match: 0\n",
            "Match: 0\n"
          ]
        }
      ]
    },
    {
      "cell_type": "code",
      "source": [
        "#21a 💣💊COMPARE\n",
        "\n",
        "#cf., 💊 만약 \"100\"이라는 문자열 전체에 대한 하나의 일치를 원한다면 r\"\\d+\"와 같이 + 메타 문자(meta character +)를 사용하여 숫자가 <하나 이상> 연속해서 일치하도록 패턴을 지정해야 함.\n",
        "\n",
        "\n",
        "import re\n",
        "\n",
        "text1 = \"The price is $100 and the number pi is approximately 3.14.\"\n",
        "pattern1 = r'\\d+'\n",
        "\n",
        "text2 = \"The number pi is approximately 3.14159265358979323846 and you will hear a lot about it in Math class from 1st Grade to the 12th Grade.\"\n",
        "pattern2 = r\"\\d+\\.\\d+\"  # 메타 문자(+)를 사용하여 숫자가 하나 이상 연속해서 일치하도록 패턴을 지정.\n",
        "\n",
        "matches1 = re.findall(pattern1, text1)\n",
        "matches2 = re.findall(pattern2, text2)\n",
        "\n",
        "print(matches1) #새로 추가 as of 4/30/24\n",
        "for i in matches1:\n",
        "    print(\"Match1:\", i)\n",
        "\n",
        "print('\\n') #새로 추가 as of 4/30/24\n",
        "\n",
        "print(matches2)\n",
        "for i in matches2:\n",
        "    print(\"Match2:\", i)"
      ],
      "metadata": {
        "colab": {
          "base_uri": "https://localhost:8080/"
        },
        "id": "njhXD--2LhSs",
        "outputId": "a9afbe2a-cb62-4518-8171-30606b74bb65"
      },
      "execution_count": null,
      "outputs": [
        {
          "output_type": "stream",
          "name": "stdout",
          "text": [
            "['100', '3', '14']\n",
            "Match1: 100\n",
            "Match1: 3\n",
            "Match1: 14\n",
            "\n",
            "\n",
            "['3.14159265358979323846']\n",
            "Match2: 3.14159265358979323846\n"
          ]
        }
      ]
    },
    {
      "cell_type": "code",
      "source": [
        "# 22. \\D 예시\n",
        "\n",
        "import re\n",
        "\n",
        "text = \"The price is $100.\"\n",
        "pattern = r\"\\D\"  # 숫자가 아닌 문자(기호 포함)에 일치\n",
        "\n",
        "matches = re.findall(pattern, text)\n",
        "print(matches)\n",
        "\n",
        "for i in matches:\n",
        "    print(\"Match:\", i)"
      ],
      "metadata": {
        "colab": {
          "base_uri": "https://localhost:8080/"
        },
        "id": "dJenR0g8JJ4K",
        "outputId": "ab78b056-eec9-476e-b0ea-501c40e2ac73"
      },
      "execution_count": null,
      "outputs": [
        {
          "output_type": "stream",
          "name": "stdout",
          "text": [
            "['T', 'h', 'e', ' ', 'p', 'r', 'i', 'c', 'e', ' ', 'i', 's', ' ', '$', '.']\n",
            "Match: T\n",
            "Match: h\n",
            "Match: e\n",
            "Match:  \n",
            "Match: p\n",
            "Match: r\n",
            "Match: i\n",
            "Match: c\n",
            "Match: e\n",
            "Match:  \n",
            "Match: i\n",
            "Match: s\n",
            "Match:  \n",
            "Match: $\n",
            "Match: .\n"
          ]
        }
      ]
    },
    {
      "cell_type": "code",
      "source": [
        "# 23. \\s 예시\n",
        "\n",
        "import re\n",
        "\n",
        "text = \"Hello   World\"\n",
        "pattern = r\"\\s\"  # 공백 문자에 일치\n",
        "\n",
        "matches = re.findall(pattern, text)\n",
        "print(matches)\n",
        "\n",
        "for match in matches:\n",
        "    print(\"Match:\", match)"
      ],
      "metadata": {
        "colab": {
          "base_uri": "https://localhost:8080/"
        },
        "id": "-YAo4yI-JRdk",
        "outputId": "20624dab-db3d-4bba-de66-84fae1cc6b6c"
      },
      "execution_count": null,
      "outputs": [
        {
          "output_type": "stream",
          "name": "stdout",
          "text": [
            "[' ', ' ', ' ']\n",
            "Match:  \n",
            "Match:  \n",
            "Match:  \n"
          ]
        }
      ]
    },
    {
      "cell_type": "code",
      "source": [
        "#24.\\S 예시\n",
        "import re\n",
        "\n",
        "text = \"Hello   World\"\n",
        "pattern = r\"\\S\"  # 공백 문자가 아닌 문자에 일치\n",
        "\n",
        "matches = re.findall(pattern, text)\n",
        "print(matches) #새로 추가 as of 4/30/24\n",
        "\n",
        "for match in matches:\n",
        "    print(\"Match:\", match)"
      ],
      "metadata": {
        "colab": {
          "base_uri": "https://localhost:8080/"
        },
        "id": "MAf8sGWKJXVo",
        "outputId": "37197404-8da0-473f-bfba-2a72a71538f4"
      },
      "execution_count": null,
      "outputs": [
        {
          "output_type": "stream",
          "name": "stdout",
          "text": [
            "['H', 'e', 'l', 'l', 'o', 'W', 'o', 'r', 'l', 'd']\n",
            "Match: H\n",
            "Match: e\n",
            "Match: l\n",
            "Match: l\n",
            "Match: o\n",
            "Match: W\n",
            "Match: o\n",
            "Match: r\n",
            "Match: l\n",
            "Match: d\n"
          ]
        }
      ]
    },
    {
      "cell_type": "code",
      "source": [
        "#25. \\w 예시\n",
        "import re\n",
        "\n",
        "text = \"Python is _awesome_!\"\n",
        "pattern = r\"\\w\"  # an alphanumeric character 일치. cf. an underscores included for 'r\"\\w\". However, punctuations such as period, exclamation mark, etc. are NOT included.\n",
        "\n",
        "matches = re.findall(pattern, text)\n",
        "print(matches) #새로 추가 as of 4/30/24\n",
        "\n",
        "for match in matches:\n",
        "    print(\"Match:\", match)"
      ],
      "metadata": {
        "colab": {
          "base_uri": "https://localhost:8080/"
        },
        "id": "dmn0l30UJfKf",
        "outputId": "a4b68d90-1fe3-4ece-e8f5-5641ce429386"
      },
      "execution_count": null,
      "outputs": [
        {
          "output_type": "stream",
          "name": "stdout",
          "text": [
            "['P', 'y', 't', 'h', 'o', 'n', 'i', 's', '_', 'a', 'w', 'e', 's', 'o', 'm', 'e', '_']\n",
            "Match: P\n",
            "Match: y\n",
            "Match: t\n",
            "Match: h\n",
            "Match: o\n",
            "Match: n\n",
            "Match: i\n",
            "Match: s\n",
            "Match: _\n",
            "Match: a\n",
            "Match: w\n",
            "Match: e\n",
            "Match: s\n",
            "Match: o\n",
            "Match: m\n",
            "Match: e\n",
            "Match: _\n"
          ]
        }
      ]
    },
    {
      "cell_type": "code",
      "source": [
        "#26. \\w+ 예시\n",
        "\n",
        "import re\n",
        "\n",
        "text = \"Python is awesome!\"\n",
        "pattern = r\"\\w+\"  #\"단어 문자\"를 나타냅니다. \"단어 문자\"는 알파벳 (대문자 및 소문자), 숫자 및 밑줄 (_)을 포함합니다. +: 이것은 하나 이상의 연속된 문자를 나타냅니다. 따라서 \\w+는 하나 이상의 연속된 \"단어 문자\"를 찾는 패턴\n",
        "\n",
        "matches = re.findall(pattern, text) #\"Python\", \"is\", \"awesome\"는 모두 하나 이상의 연속된 \"단어 문자\"로 이루어져 있으므로 이 정규표현식 패턴에 일치\n",
        "print(matches) #새로 추가 as of 4/30/24\n",
        "\n",
        "for match in matches:\n",
        "    print(\"Match:\", match)"
      ],
      "metadata": {
        "colab": {
          "base_uri": "https://localhost:8080/"
        },
        "id": "rQJHkVf1LSi8",
        "outputId": "52357fa9-04ed-4147-a280-e90a1961e8e7"
      },
      "execution_count": null,
      "outputs": [
        {
          "output_type": "stream",
          "name": "stdout",
          "text": [
            "['Python', 'is', 'awesome']\n",
            "Match: Python\n",
            "Match: is\n",
            "Match: awesome\n"
          ]
        }
      ]
    },
    {
      "cell_type": "code",
      "source": [
        "#27. 백슬래시를 사용하여 특수한 문자 클래스를 생성할 수 있음. 예를 들어, \\d는 숫자를 매치하고, \\s는 공백 문자를 매치, \\w+는 하나 이상의 alphnumeric character including underscores\n",
        "\n",
        "import re\n",
        "\n",
        "text = \"123 Main Street and 5 Avenue \"\n",
        "pattern = r\"\\d\\s\\w+\"  # 숫자, 공백, 단어를 매치 (하나의 숫자(\\d), 공백 문자(\\s) 하나 이상의 문자(\\w+)) <\"+\"는 이 sign 앞에 것이 1회 이상 반복되는 것을 뜻함>\n",
        "\n",
        "matches = re.findall(pattern, text)\n",
        "print(matches) #새로 추가 as of 4/30/24\n",
        "\n",
        "for i in matches:\n",
        "    print(\"Match:\", i)"
      ],
      "metadata": {
        "colab": {
          "base_uri": "https://localhost:8080/"
        },
        "id": "WVVXDwOS5B5U",
        "outputId": "f9a5d5b7-caed-4e12-d474-e8d78ab9792a"
      },
      "execution_count": null,
      "outputs": [
        {
          "output_type": "stream",
          "name": "stdout",
          "text": [
            "['3 Main', '5 Avenue']\n",
            "Match: 3 Main\n",
            "Match: 5 Avenue\n"
          ]
        }
      ]
    },
    {
      "cell_type": "code",
      "source": [
        "#27a. 백슬래시를 사용하여 특수한 문자 클래스를 생성할 수 있음. 예를 들어, \\d+는 일련의 연속된 숫자를 매치하고, \\s는 공백 문자를 매치, \\w+는 하나 이상의 alphnumeric character including underscores\n",
        "\n",
        "import re\n",
        "\n",
        "text = \"123 Main Street and 5 Avenue \"\n",
        "pattern = r\"\\d+\\s\\w+\"  # 숫자, 공백, 단어를 매치 (하나의 숫자(\\d), 공백 문자(\\s) 하나 이상의 문자(\\w+)) <\"+\"는 이 sign 앞에 것이 1회 이상 반복되는 것을 뜻함>\n",
        "\n",
        "matches = re.findall(pattern, text)\n",
        "print(matches)\n",
        "\n",
        "for i in matches:\n",
        "    print(\"Match:\", i)\n"
      ],
      "metadata": {
        "id": "1NbEtRhPt71N",
        "outputId": "72f922f5-a4e2-4aec-a63b-1ef0714d030d",
        "colab": {
          "base_uri": "https://localhost:8080/"
        }
      },
      "execution_count": null,
      "outputs": [
        {
          "output_type": "stream",
          "name": "stdout",
          "text": [
            "['123 Main', '5 Avenue']\n",
            "Match: 123 Main\n",
            "Match: 5 Avenue\n"
          ]
        }
      ]
    },
    {
      "cell_type": "code",
      "source": [
        "# 27b 💣💊COMPARE\n",
        "\n",
        "import re\n",
        "\n",
        "text = \"123 _Main_ Street_ and 5th Avenue \"\n",
        "pattern = r\"\\d\\s\\w+\"  # 숫자, 공백, 단어를 매치 (하나의 숫자(\\d), 공백 문자(\\s) 하나 이상의 단어 문자(\\w+)) <+ sign 앞에 alphanumeric characters 1회 이상 반복>\n",
        "\n",
        "matches = re.findall(pattern, text)\n",
        "print(matches) #\n",
        "\n",
        "for i in matches:\n",
        "  print(\"Match:\", i)"
      ],
      "metadata": {
        "colab": {
          "base_uri": "https://localhost:8080/"
        },
        "id": "fCBZj9n06MYZ",
        "outputId": "6e0c62eb-a025-4255-b466-617e075622e7"
      },
      "execution_count": null,
      "outputs": [
        {
          "output_type": "stream",
          "name": "stdout",
          "text": [
            "Match: 3 _Main_\n"
          ]
        }
      ]
    },
    {
      "cell_type": "code",
      "source": [
        "# 27c 💣💊COMPARE\n",
        "\n",
        "import re\n",
        "\n",
        "text = \"123 _Main_ Street_ and 5th Avenue \"\n",
        "pattern = r\"\\d+\\s\\w+\"  # 숫자, 공백, 단어를 매치 (하나의 숫자(\\d), 공백 문자(\\s) 하나 이상의 단어 문자(\\w+)) <+ sign 앞에 alphanumeric characters 1회 이상 반복>\n",
        "\n",
        "matches = re.findall(pattern, text)\n",
        "print(matches) #새로 추가 as of 4/30/24\n",
        "\n",
        "for i in matches:\n",
        "  print(\"Match:\", i)"
      ],
      "metadata": {
        "id": "Yp1e1EA6wYST",
        "outputId": "bbc268e5-8dc9-4581-d990-859f944ed76e",
        "colab": {
          "base_uri": "https://localhost:8080/"
        }
      },
      "execution_count": null,
      "outputs": [
        {
          "output_type": "stream",
          "name": "stdout",
          "text": [
            "['123 _Main_']\n",
            "Match: 123 _Main_\n"
          ]
        }
      ]
    },
    {
      "cell_type": "markdown",
      "source": [
        "\n",
        ">\n",
        "2️⃣ 정규표현식 모듈 함수 ⤵️\n",
        "정규표현식 모듈에서 지원하는 함수는 아래와 같다.\n",
        "\n",
        "모듈 함수      설명\n",
        "re.compile()  정규표현식을 컴파일하는 함수다. 다시 말해, 파이썬에게 전해주는 역할을 한다. 찾고자 하는 패턴이 빈번한 경우에는 미리 컴파일 해놓고 사용하면 속도와 편의성면에서 유리하다. (e.g., >> r = re.compile(“ab{2,4}c”)\n",
        "\n",
        "  - In Python, compiling a regular expression means converting a regular expression pattern into a regular expression object. This compiled object can then be used for various operations, such as searching, matching, or replacing text in strings more efficiently. Compiling a regular expression pattern can offer performance benefits when you need to use the same pattern multiple times in your code.\n",
        "    - 파이썬에서 정규 표현식을 컴파일하는 것은 **정규 표현식 패턴을 정규 표현식 객체로 변환**하는 것을 의미한다. 이 컴파일된 객체는 문자열에서 검색, 매칭 또는 텍스트 교체와 같은 다양한 작업에 효율적으로 사용할 수 있다. 정규 표현식 패턴을 컴파일하면 코드에서 동일한 패턴을 여러 번 사용해야 할 때 성능상 이점을 제공할 수 있다.\n",
        "\n",
        "- re.search()   문자열 전체에 대해서 정규표현식과 매치되는지를 검색\n",
        "-re.match()   문자열의 처음이 정규표현식과 매치되는지를 검색\n",
        "-re.split()      정규 표현식을 기준으로 문자열을 분리하여 리스트로 리턴\n",
        "-re.findall()    문자열에서 정규 표현식과 매치되는 모든 경우의 문자열을 찾아서 리스트로 리턴. 만약 매치되는 문자열이 없다면 빈 리스트가 리턴\n",
        "-re.finditer()  문자열에서 정규 표현식과 매치되는 모든 경우의 문자열에 대한 이터레이터 객체를 리턴\n",
        "-re.sub()        문자열에서 정규 표현식과 일치하는 부분에 대해서 다른 문자열로 대체"
      ],
      "metadata": {
        "id": "qc55o_lFrJhw"
      }
    },
    {
      "cell_type": "markdown",
      "source": [
        "###<font color = 'green'> **re.compile( ) 예시**"
      ],
      "metadata": {
        "id": "YQdCi_xC3MIu"
      }
    },
    {
      "cell_type": "markdown",
      "source": [
        "###**regular expression을 사용한 다음 코드의 설명**\n",
        "\n",
        "shortword = re.compile(r'\\W*\\b\\w{1,3}\\b')\n",
        "\n",
        "  - 이 코드의 목적은 정규 표현식을 사용하여 주어진 텍스트에서 세 글자 이하의 짧은 단어를 찾아내는 것이다.\n",
        "\n",
        "  - 여기에서 정규 표현식 re.compile(r'\\W*\\b\\w{1,3}\\b')은 다음과 같은 요소로 구성된다:\n",
        "\n",
        "    - re.compile(): 이 부분은 정규 표현식을 컴파일하는 함수를 호출한다. 이 함수를 사용하면 정규 표현식을 미리 컴파일하여 재사용할 수 있다.\n",
        "\n",
        "    - r'\\W*\\b\\w{1,3}\\b': 이 부분이 실제 정규 표현식 패턴을 나타낸다. 여기에서 각 부분을 설명하면 다음과 같다.\n",
        "\n",
        "      - \\W*: \\W는 특수 문자가 아닌 문자(영문자, 숫자, 언더스코어)와 일치하는 것을 나타내며, *는 바로 앞의 패턴이 0회 이상 반복됨을 의미한다. 따라서 \\W*는 0회 이상의 특수 문자가 있는 부분을 의미한다. 이것은 짧은 단어 앞뒤에 있는 특수 문자나 공백을 처리하기 위한 부분이다.\n",
        "\n",
        "      - \\b: \\b는 단어 경계를 나타내며, 단어의 시작 또는 끝과 일치한다.\n",
        "\n",
        "      - \\w{1,3}: \\w는 워드 문자(알파벳, 숫자, 언더스코어)와 일치하는 것을 나타낸다. {1,3}는 앞의 패턴인 워드 문자가 1회에서 3회까지 반복됨을 의미한다. 따라서 \\w{1,3}는 1~3글자의 단어를 찾는다.\n",
        "\n",
        "      -\\b: 다시 한 번 \\b를 사용하여 단어 경계를 나타낸다.\n",
        "\n",
        "이렇게 정규 표현식을 조합하면 특수 문자와 공백을 포함하지 않고 1~3글자의 단어를 찾아낼 수 있다. 이 코드를 사용하면 텍스트에서 짧은 단어를 필터링하거나 추출하는 데 유용하게 활용할 수 있다."
      ],
      "metadata": {
        "id": "uaB5KnB33JiY"
      }
    }
  ]
}