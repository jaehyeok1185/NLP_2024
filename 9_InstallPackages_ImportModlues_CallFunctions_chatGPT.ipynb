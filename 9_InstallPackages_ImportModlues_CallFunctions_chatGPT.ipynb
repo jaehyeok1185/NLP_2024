{
  "nbformat": 4,
  "nbformat_minor": 0,
  "metadata": {
    "colab": {
      "provenance": [],
      "include_colab_link": true
    },
    "kernelspec": {
      "name": "python3",
      "display_name": "Python 3"
    },
    "language_info": {
      "name": "python"
    }
  },
  "cells": [
    {
      "cell_type": "markdown",
      "metadata": {
        "id": "view-in-github",
        "colab_type": "text"
      },
      "source": [
        "<a href=\"https://colab.research.google.com/github/jaehyeok1185/NLP_2024/blob/main/9_InstallPackages_ImportModlues_CallFunctions_chatGPT.ipynb\" target=\"_parent\"><img src=\"https://colab.research.google.com/assets/colab-badge.svg\" alt=\"Open In Colab\"/></a>"
      ]
    },
    {
      "cell_type": "markdown",
      "source": [
        "# 🎁 Python Library\n",
        "  - Python modues 을 계층적인 디렉토리 형태로 구성\n",
        "  - **!pip**: Package manager\n",
        "  - **!pip install <font color = 'red'> NameLibrary**\n",
        "> A <font color = 'red'> **Python library**</font> refers to a collection of modules or functions that provide specific functionality, often focused on a particular domain or purpose. Libraries can be used to extend the capabilities of Python by providing pre-written code that can be imported and used in your own programs. Examples of popular Python libraries include NumPy for numerical computing, pandas for data manipulation and analysis, and requests for making HTTP requests. On the other hand, a <font color = 'blue'> **Python package**</font> is a way of organizing related modules into a directory hierarchy. A package is essentially a directory that contains one or more Python module files, along with an optional __init__.py file that signifies it as a package. Packages help to organize and structure large codebases by grouping related functionality together. They can also contain sub-packages, creating a nested structure.\n",
        "\n",
        "# 🎒🎒 Python Modules\n",
        "  - Python functions 로 구성\n",
        "  - **from 페키지이름 import 모듈이름**\n",
        "  - **import** **페키지.모듈이름 <font color='green'>[외부 페키지 경우]**</font>\n",
        "  - **import 모듈이름 <font color='purple'>[Python 내장 페키지 경우]**</font>\n",
        "  - **import 모듈이름 as Abbreviation**\n",
        "\n",
        "\n",
        "# 🏀 ⚽ ⚾ 🎾 Python functions\n",
        "  - 외부 모듈에 있는 함수\n",
        "  - import 모듈이름.함수이름()\n",
        "  - from 모듈이름 import 함수이름\n",
        "\n",
        "### For you information, check out **Python Module Index**\n",
        "* [Visit Colab documentation]((https://docs.python.org/3/py-modindex.html)\n",
        "\n"
      ],
      "metadata": {
        "id": "aCsaIGXK73ms"
      }
    },
    {
      "cell_type": "markdown",
      "source": [
        "아래 내용 추가하여 편집 as of 10SEP24\n",
        "\n",
        "Nltk 자연어 텍스트 분석\n",
        "\n",
        "---\n",
        "\n",
        "\n",
        "Lexical-diversity 어휘 다양성 평가\n",
        "Corpus-toolkit 코퍼스 분석\n",
        "gensim 통계적 기계 학습 기반 비지도 주제 모델링, 문서 인덱싱, 유사성에 의한 검색 word2vec\n",
        "Numpy 입력된 자료에 대한 연산 처리\n",
        "Matplot 데이터 시각화 (예시: 2D & 3D  그래픽 생성\n",
        "Pandas 데이터 프레임으로 자료를 처리 및 분석\n",
        "scikit-learn 데이터 마이닝, 예측 가능한 데이터 분석으로 기계학습 구현\n",
        "Textstat 텍스트의 가독성. 복잡성, 난이도 수준 평가\n",
        "Vader (Valence aware dictionary and sentiment reasoner) 감성 분석\n",
        "\n",
        "(B) Ptyhon 모듈 및 클래스\n",
        "Punkt: 문장 혹은 단어 토큰화를 위해 사전 학습된 모델. 비지도 학습 모델로, 구두점, 특수문자 등을 구분하여 토큰화 실행. 여러 언어에 범용 사용.\n",
        "Re: Python 제공 표준 모듈. 정규식 함수 통해 효율적인 텍스트 처리 작업\n",
        "Word2vec: Gensim 라이브러리의 models 모듈에 속한 클래스, 임베딩을 생성하여 단어 간의 의미적 관계를 파악하는 데 사용. 의미분석, 유사성 평가"
      ],
      "metadata": {
        "id": "jOcAJ5opdhkm"
      }
    },
    {
      "cell_type": "markdown",
      "source": [
        "##<font color = 'purple'> **👀 Install Python Libraries** ⤵️"
      ],
      "metadata": {
        "id": "nR3MiBaAM--d"
      }
    },
    {
      "cell_type": "code",
      "source": [
        "#@markdown 🐹 👀 🐾 The **Pandas** is a popular open-source library for data manipulation and analysis. It offers data structures like **Series and DataFrame for handling structured data**. With powerful functionalities, it enables tasks such as <font color = 'red'>**indexing, filtering, grouping, and merging data**</font>. Pandas supports various file formats and integrates well with other libraries like NumPy and Matplotlib. It provides an intuitive and efficient way to work with large datasets in Python.\n",
        "\n",
        "!pip install pandas"
      ],
      "metadata": {
        "id": "9olyrXb-H-mq",
        "cellView": "form"
      },
      "execution_count": null,
      "outputs": []
    },
    {
      "cell_type": "code",
      "source": [
        "#@markdown 🐹 👀 🐾 The **scikit-learn**, often referred to as sklearn, is a widely used **machine learning library**. It provides a comprehensive collection of tools and algorithms for various machine learning tasks such as <font color = 'red'>**classification, regression, clustering, and dimensionality reduction**</font>. With a consistent and user-friendly API, scikit-learn simplifies the process of building machine learning models. It supports data preprocessing, feature selection, model evaluation, and model tuning. The library also offers helpful utilities for handling datasets and implementing machine learning workflows. Overall, scikit-learn is a valuable resource for both beginners and experienced practitioners in the field of machine learning.\n",
        "\n",
        "!pip install scikit-learn #corpus-toolkit 패키지에 하이픈 있음"
      ],
      "metadata": {
        "id": "sD-yK0LIICxj",
        "cellView": "form"
      },
      "execution_count": null,
      "outputs": []
    },
    {
      "cell_type": "code",
      "source": [
        "#@markdown 🐹 👀 🐾 The **Matplotlib** is a popular plotting library for Python. It provides a flexible and comprehensive set of tools for creating various types of plots and visualizations. With a simple and intuitive interface, Matplotlib allows customization of plot appearance, axes, labels, and styles. It supports <font color = 'red'>**line plots, scatter plots, bar charts, histograms**</font>, and more. Matplotlib *integrates well with NumPy and Pandas for data manipulation and analysis*. It is widely used for data exploration, presentation, and publication-quality visualizations in scientific computing and data analysis.\n",
        "\n",
        "!pip install matplot"
      ],
      "metadata": {
        "id": "Yo1rFBHOIOrA",
        "cellView": "form"
      },
      "execution_count": null,
      "outputs": []
    },
    {
      "cell_type": "code",
      "source": [
        "#@markdown 🐹 👀 🐾 The **NLTK** (Natural Language Toolkit) is a powerful library for natural language processing (NLP) tasks. It provides tools and resources for tasks like <font color = 'red'>**tokenization, stemming, tagging, parsing, and sentiment analysis**</font>. NLTK offers a wide range of corpora and lexical resources for linguistic analysis. It supports **text classification, text generation, and language modeling**. NLTK includes pre-trained models and algorithms for various NLP tasks, making it suitable for both beginners and advanced users in the field of NLP. Overall, NLTK is a valuable resource for working with *human language data and performing NLP tasks in Python*.\n",
        "\n",
        "!pip install nltk"
      ],
      "metadata": {
        "cellView": "form",
        "id": "LKUrjZgzza9Q"
      },
      "execution_count": null,
      "outputs": []
    },
    {
      "cell_type": "code",
      "source": [
        "#@markdown 🐹 👀 🐾 **Corpus-toolkit** package grew out of courses in corpus linguistics and learner corpus research. The toolkit attempts to balance simplicity of use, broad application, and scalability. Common corpus analyses such as <font color = 'red'>**the calculation of word and n-gram frequency and range, keyness, and collocation**</font> are included. In addition, more advanced analyses such as the **identification of dependency bigrams (e.g., verb-direct object combinations) and their frequency, range, and strength of association** are also included.\n",
        "\n",
        "!pip install corpus-toolkit #corpus-toolkit 패키지에 하이픈 있음"
      ],
      "metadata": {
        "id": "aFjO_wBAH5Ql",
        "collapsed": true,
        "outputId": "849c1bf6-a02f-4cd1-849b-9275c95e5489",
        "colab": {
          "base_uri": "https://localhost:8080/"
        }
      },
      "execution_count": 1,
      "outputs": [
        {
          "output_type": "stream",
          "name": "stdout",
          "text": [
            "Collecting corpus-toolkit\n",
            "  Downloading corpus_toolkit-0.32-py3-none-any.whl.metadata (20 kB)\n",
            "Downloading corpus_toolkit-0.32-py3-none-any.whl (1.7 MB)\n",
            "\u001b[2K   \u001b[90m━━━━━━━━━━━━━━━━━━━━━━━━━━━━━━━━━━━━━━━━\u001b[0m \u001b[32m1.7/1.7 MB\u001b[0m \u001b[31m9.4 MB/s\u001b[0m eta \u001b[36m0:00:00\u001b[0m\n",
            "\u001b[?25hInstalling collected packages: corpus-toolkit\n",
            "Successfully installed corpus-toolkit-0.32\n"
          ]
        }
      ]
    },
    {
      "cell_type": "markdown",
      "source": [
        "## **<font color = 'brown'> Student's activity** ⤵️\n",
        "\n",
        "### Exercise for <font color = 'red'> installing nltk package, importing its module, and calling its functions\n",
        "\n",
        "**NLTK: Python library**\n",
        "* You are correct! When using **Google Colab**, certain libraries, including **NLTK**, are **pre-installed and available for immediate use** without the need for additional installation. This is because Colab provides a pre-configured environment with several popular libraries and modules already installed, allowing you to import and use them directly in your code. So, in the case of using Colab, you can indeed use the NLTK module without explicitly installing the NLTK library.\n",
        ">\n",
        "* NLTK의 기능을 제대로 사용하기 위해서는 NLTK Data라는 여러 데이터를 추가적으로 설치해야 한다.\n",
        ">\n",
        "* 이를 위해서 파이썬 코드 내에서 import nltk 이후에 nltk.download()라는 코드를 수행하여 설치한다.\n",
        ">\n",
        "* **Reference**\n",
        "  * [wikidocs](https://wikidocs.net/22488)\n"
      ],
      "metadata": {
        "id": "SL1F8WCDKvoN"
      }
    },
    {
      "cell_type": "code",
      "execution_count": 3,
      "metadata": {
        "id": "5TPWVgk272SH",
        "outputId": "5bad4fd8-22a0-43ca-8a5f-908358ccc779",
        "colab": {
          "base_uri": "https://localhost:8080/"
        }
      },
      "outputs": [
        {
          "output_type": "stream",
          "name": "stdout",
          "text": [
            "Requirement already satisfied: nltk in /usr/local/lib/python3.10/dist-packages (3.8.1)\n",
            "Requirement already satisfied: click in /usr/local/lib/python3.10/dist-packages (from nltk) (8.1.7)\n",
            "Requirement already satisfied: joblib in /usr/local/lib/python3.10/dist-packages (from nltk) (1.4.2)\n",
            "Requirement already satisfied: regex>=2021.8.3 in /usr/local/lib/python3.10/dist-packages (from nltk) (2024.9.11)\n",
            "Requirement already satisfied: tqdm in /usr/local/lib/python3.10/dist-packages (from nltk) (4.66.5)\n"
          ]
        }
      ],
      "source": [
        "!pip install nltk #This step can be skipped since it is pre-installed on Google Colab."
      ]
    },
    {
      "cell_type": "code",
      "source": [
        "import nltk\n",
        "from nltk.tokenize import word_tokenize, sent_tokenize\n",
        "nltk.download(\"punkt\")"
      ],
      "metadata": {
        "id": "7dBxHVDoIub9",
        "collapsed": true,
        "outputId": "3577b44a-74a3-44cb-f332-00c655facad6",
        "colab": {
          "base_uri": "https://localhost:8080/"
        }
      },
      "execution_count": 2,
      "outputs": [
        {
          "output_type": "stream",
          "name": "stderr",
          "text": [
            "[nltk_data] Downloading package punkt to /root/nltk_data...\n",
            "[nltk_data]   Unzipping tokenizers/punkt.zip.\n"
          ]
        },
        {
          "output_type": "execute_result",
          "data": {
            "text/plain": [
              "True"
            ]
          },
          "metadata": {},
          "execution_count": 2
        }
      ]
    },
    {
      "cell_type": "code",
      "source": [
        "import nltk\n",
        "from nltk.tokenize import word_tokenize, sent_tokenize\n",
        "nltk.download(\"punkt\")"
      ],
      "metadata": {
        "id": "DTaV767L-144",
        "outputId": "ecc60489-c5e1-4a59-c0f4-2bcda3c58ee2",
        "colab": {
          "base_uri": "https://localhost:8080/"
        }
      },
      "execution_count": 4,
      "outputs": [
        {
          "output_type": "stream",
          "name": "stderr",
          "text": [
            "[nltk_data] Downloading package punkt to /root/nltk_data...\n",
            "[nltk_data]   Package punkt is already up-to-date!\n"
          ]
        },
        {
          "output_type": "execute_result",
          "data": {
            "text/plain": [
              "True"
            ]
          },
          "metadata": {},
          "execution_count": 4
        }
      ]
    },
    {
      "cell_type": "markdown",
      "source": [
        "## **<font color = 'brown'> Student's activity** ⤵️\n",
        "\n",
        "### Exercise for <font color = 'red'> *importing os module and calling its functions*\n",
        "\n",
        "   -The **os module is a built-in module in Python**, meaning it is available by default in any Python installation. You don't need to install it separately or use any package manager. The os module provides functions for interacting with the operating system, such as accessing files and directories, managing processes, and other system-related tasks. You can import and use the os module in your Python programs without any additional installation steps."
      ],
      "metadata": {
        "id": "hioxpHpfQLjP"
      }
    },
    {
      "cell_type": "code",
      "source": [
        "import os                 #Python built-in os module 불러 들이기\n",
        "os.mkdir (\"txtfolder\")    #os 모듈과 mkdir 함수 사이에 period 있음. Check \"txtfolder\" under Files of Colab."
      ],
      "metadata": {
        "id": "8PxL2p05WDin",
        "collapsed": true,
        "outputId": "463c36ad-4c8b-4f89-b2af-6e37ecc12d1e",
        "colab": {
          "base_uri": "https://localhost:8080/",
          "height": 166
        }
      },
      "execution_count": 7,
      "outputs": [
        {
          "output_type": "error",
          "ename": "FileExistsError",
          "evalue": "[Errno 17] File exists: 'txtfolder'",
          "traceback": [
            "\u001b[0;31m---------------------------------------------------------------------------\u001b[0m",
            "\u001b[0;31mFileExistsError\u001b[0m                           Traceback (most recent call last)",
            "\u001b[0;32m<ipython-input-7-762894d8d2f9>\u001b[0m in \u001b[0;36m<cell line: 2>\u001b[0;34m()\u001b[0m\n\u001b[1;32m      1\u001b[0m \u001b[0;32mimport\u001b[0m \u001b[0mos\u001b[0m                 \u001b[0;31m#Python built-in os module 불러 들이기\u001b[0m\u001b[0;34m\u001b[0m\u001b[0;34m\u001b[0m\u001b[0m\n\u001b[0;32m----> 2\u001b[0;31m \u001b[0mos\u001b[0m\u001b[0;34m.\u001b[0m\u001b[0mmkdir\u001b[0m \u001b[0;34m(\u001b[0m\u001b[0;34m\"txtfolder\"\u001b[0m\u001b[0;34m)\u001b[0m    \u001b[0;31m#os 모듈과 mkdir 함수 사이에 period 있음. Check \"txtfolder\" under Files of Colab.\u001b[0m\u001b[0;34m\u001b[0m\u001b[0;34m\u001b[0m\u001b[0m\n\u001b[0m",
            "\u001b[0;31mFileExistsError\u001b[0m: [Errno 17] File exists: 'txtfolder'"
          ]
        }
      ]
    },
    {
      "cell_type": "code",
      "source": [
        "import os\n",
        "os.mkdir (\"txtfolder2\")\n",
        "os.mkdir (\"testfolder2\")"
      ],
      "metadata": {
        "collapsed": true,
        "id": "lmitTRx7ATq0"
      },
      "execution_count": 11,
      "outputs": []
    },
    {
      "cell_type": "code",
      "source": [
        "!pip install nltk\n",
        "test = \"Python programming is a high-level, interpreted programming language known for its simplicity and readability. It emphasizes code readability with its clean syntax, making it easier to write and understand. Python supports multiple programming paradigms, including procedural, object-oriented, and functional programming. It has a vast standard library and a thriving ecosystem of third-party libraries and frameworks, making it suitable for various domains such as web development, data analysis, machine learning, and automation. Python's versatility, ease of use, and extensive community support have contributed to its popularity among developers of all skill levels.\"\n",
        "from nltk.tokenize import sent_tokenize\n",
        "sentence = sent_tokenize(test)\n",
        "print('문장 토큰화: %s' %sentence)\n"
      ],
      "metadata": {
        "id": "b0VovEVr2dFo",
        "collapsed": true,
        "outputId": "d8225575-9b5a-4662-e900-905aa2bc25b7",
        "colab": {
          "base_uri": "https://localhost:8080/"
        }
      },
      "execution_count": 12,
      "outputs": [
        {
          "output_type": "stream",
          "name": "stdout",
          "text": [
            "Requirement already satisfied: nltk in /usr/local/lib/python3.10/dist-packages (3.8.1)\n",
            "Requirement already satisfied: click in /usr/local/lib/python3.10/dist-packages (from nltk) (8.1.7)\n",
            "Requirement already satisfied: joblib in /usr/local/lib/python3.10/dist-packages (from nltk) (1.4.2)\n",
            "Requirement already satisfied: regex>=2021.8.3 in /usr/local/lib/python3.10/dist-packages (from nltk) (2024.9.11)\n",
            "Requirement already satisfied: tqdm in /usr/local/lib/python3.10/dist-packages (from nltk) (4.66.5)\n",
            "문장 토큰화: ['Python programming is a high-level, interpreted programming language known for its simplicity and readability.', 'It emphasizes code readability with its clean syntax, making it easier to write and understand.', 'Python supports multiple programming paradigms, including procedural, object-oriented, and functional programming.', 'It has a vast standard library and a thriving ecosystem of third-party libraries and frameworks, making it suitable for various domains such as web development, data analysis, machine learning, and automation.', \"Python's versatility, ease of use, and extensive community support have contributed to its popularity among developers of all skill levels.\"]\n"
          ]
        }
      ]
    },
    {
      "cell_type": "code",
      "source": [
        "!plp install nitk\n",
        "text = \"Python programming is a high-level, interpreted programming language known for its simplicity and readability. It emphasizes code readability with its clean syntax, making it easier to write and understand. Python supports multiple programming paradigms, including procedural, object-oriented, and functional programming. It has a vast standard library and a thriving ecosystem of third-party libraries and frameworks, making it suitable for various domains such as web development, data analysis, machine learning, and automation. Python's versatility, ease of use, and extensive community support have contributed to its popularity among developers of all skill levels.\"\n",
        "from nltk.tokenize import sent_tokenize\n",
        "sentence = sent_tokenize(text)\n",
        "print('문장 토큰화: %s' %sentence)"
      ],
      "metadata": {
        "collapsed": true,
        "id": "Mudqj4dxBrxB",
        "outputId": "622e1384-60ba-486c-a989-0f55951036c1",
        "colab": {
          "base_uri": "https://localhost:8080/"
        }
      },
      "execution_count": 13,
      "outputs": [
        {
          "output_type": "stream",
          "name": "stdout",
          "text": [
            "/bin/bash: line 1: plp: command not found\n",
            "문장 토큰화: ['Python programming is a high-level, interpreted programming language known for its simplicity and readability.', 'It emphasizes code readability with its clean syntax, making it easier to write and understand.', 'Python supports multiple programming paradigms, including procedural, object-oriented, and functional programming.', 'It has a vast standard library and a thriving ecosystem of third-party libraries and frameworks, making it suitable for various domains such as web development, data analysis, machine learning, and automation.', \"Python's versatility, ease of use, and extensive community support have contributed to its popularity among developers of all skill levels.\"]\n"
          ]
        }
      ]
    },
    {
      "cell_type": "code",
      "source": [
        "#@markdown 🐹 👀 🐾 **Lexical-diversity** library is a Python package that provides tools and functions for analyzing the lexical diversity of text.  i) <font color = 'red'>**Type-Token Ratio (TTR)**</font> measures the proportion of unique words (types) in a text compared to the total number of words (tokens). It provides insights into vocabulary richness. ii)  <font color = 'red'>**Moving Standardized Type-Token Ratio (MSTTR)**</font> is a dynamic measure of lexical diversity that takes into account a moving window of text, allowing you to assess diversity over smaller sections of text. iii)  <font color = 'red'>**Moving Average Type-Token Ration (MATTR)**</font> calculates the Type-Token Ratio (TTR) within a sliding window as it moves through the text, and then computes the average of these TTR values over the entire text. The formula for MATTR: MATTR = (1 / N) * ∑(TTR_i).\n",
        "\n",
        "#@markdown 🐹 👀 🐾 Total number of words / Total number of type\n",
        "\n",
        "!pip install lexical-diversity"
      ],
      "metadata": {
        "id": "VBD9lDWz0Eoj",
        "outputId": "3b244d86-7d29-4a30-e904-97dade886e55",
        "colab": {
          "base_uri": "https://localhost:8080/"
        }
      },
      "execution_count": 14,
      "outputs": [
        {
          "output_type": "stream",
          "name": "stdout",
          "text": [
            "Collecting lexical-diversity\n",
            "  Downloading lexical_diversity-0.1.1-py3-none-any.whl.metadata (4.1 kB)\n",
            "Downloading lexical_diversity-0.1.1-py3-none-any.whl (117 kB)\n",
            "\u001b[?25l   \u001b[90m━━━━━━━━━━━━━━━━━━━━━━━━━━━━━━━━━━━━━━━━\u001b[0m \u001b[32m0.0/117.8 kB\u001b[0m \u001b[31m?\u001b[0m eta \u001b[36m-:--:--\u001b[0m\r\u001b[2K   \u001b[91m━━━━━━━━━━━━━━━━━━━━━━━━\u001b[0m\u001b[90m╺\u001b[0m\u001b[90m━━━━━━━━━━━━━━━\u001b[0m \u001b[32m71.7/117.8 kB\u001b[0m \u001b[31m2.1 MB/s\u001b[0m eta \u001b[36m0:00:01\u001b[0m\r\u001b[2K   \u001b[90m━━━━━━━━━━━━━━━━━━━━━━━━━━━━━━━━━━━━━━━━\u001b[0m \u001b[32m117.8/117.8 kB\u001b[0m \u001b[31m2.1 MB/s\u001b[0m eta \u001b[36m0:00:00\u001b[0m\n",
            "\u001b[?25hInstalling collected packages: lexical-diversity\n",
            "Successfully installed lexical-diversity-0.1.1\n"
          ]
        }
      ]
    },
    {
      "cell_type": "code",
      "source": [
        "#@markdown **Lexical-diversity** library is a Python package that provides tools and functions for analyzing the lexical diversity of text.  i) <font color = 'red'>**Type-Token Ratio (TTR)**</font> measures the proportion of unique words (types) in a text compared to the total number of words (tokens). It provides insights into vocabulary richness. ii)  <font color = 'red'>**Moving Standardized Type-Token Ratio (MSTTR)**</font> is a dynamic measure of lexical diversity that takes into account a moving window of text, allowing you to assess diversity over smaller sections of text. iii)  <font color = 'red'>**Moving Average Type-Token Ration (MATTR)**</font> calculates the Type-Token Ratio (TTR) within a sliding window as it moves through the text, and then computes the average of these TTR values over the entire text. The formula for MATTR: MATTR = (1 / N) * ∑(TTR_i).\n",
        "\n",
        "#@markdown  Total number of words / Total number of type\n",
        "\n",
        "!pip install lexical-diversity"
      ],
      "metadata": {
        "id": "Dn4iejlgE71m",
        "outputId": "113bd199-ea27-4c25-efbf-2bc93d8b9136",
        "colab": {
          "base_uri": "https://localhost:8080/"
        }
      },
      "execution_count": 15,
      "outputs": [
        {
          "output_type": "stream",
          "name": "stdout",
          "text": [
            "Requirement already satisfied: lexical-diversity in /usr/local/lib/python3.10/dist-packages (0.1.1)\n"
          ]
        }
      ]
    },
    {
      "cell_type": "markdown",
      "source": [
        "### ⛔ **Shall we write a scrip?**"
      ],
      "metadata": {
        "id": "Q76RwDl81-0U"
      }
    },
    {
      "cell_type": "markdown",
      "source": [
        "##**[Sign up chat GPT](https://chat.openai.com)**\n",
        "\n",
        "After you have created a chat GPT account, visit **[minjung's github page](https://raw.githubusercontent.com/ms624atyale/Temp_Data/main/TheAesop4Children_1stEpisode.txt)** and copy the content of the _TheAesop4Children_1stEpisode.txt_ file.\n",
        "\n",
        "1. Ask chatGPT to write a python script for lexical diversity, TTR, using the following text, \"COPY & PASTE YOUR TEXT.\"\n",
        "\n",
        "\n",
        "2. Ask again chatGPT to include the list of text, tokens, and types (i.e., unique words).\n",
        "\n",
        "3. Ask again to include converting tokens to lowercase.\n",
        "\n",
        "4. Ask again, does higher vlaue of TTR indicate either greater or lower variability of lexical use?"
      ],
      "metadata": {
        "id": "5ugkxTU69GS9"
      }
    },
    {
      "cell_type": "markdown",
      "source": [
        "### 1. Ask chatGPT to write a python script for lexical diversity, TTR, using the following text, \"COPY & PASTE YOUR TEXT.\""
      ],
      "metadata": {
        "id": "4hnHrakwLUab"
      }
    },
    {
      "cell_type": "code",
      "source": [
        "# Define the text\n",
        "text = \"\"\"There was once a little Kid whose growing horns made him think he was a grown-up Billy Goat and able to take care of himself. So one evening when the flock started home from the pasture and his mother called, the Kid paid no heed and kept right on nibbling the tender grass. A little later when he lifted his head, the flock was gone. He was all alone. The sun was sinking. Long shadows came creeping over the ground. A chilly little wind came creeping with them making scary noises in the grass. The Kid shivered as he thought of the terrible Wolf. Then he started wildly over the field, bleating for his mother. But not half-way, near a clump of trees, there was the Wolf! The Kid knew there was little hope for him. “Please, Mr. Wolf,” he said trembling, “I know you are going to eat me. But first please pipe me a tune, for I want to dance and be merry as long as I can.“The Wolf liked the idea of a little music before eating, so he struck up a merry tune and the Kid leaped and frisked gaily. Meanwhile, the flock was moving slowly homeward. In the still evening air the Wolf's piping carried far. The Shepherd Dogs pricked up their ears. They recognized the song the Wolf sings before a feast, and in a moment they were racing back to the pasture. The Wolf's song ended suddenly, and as he ran, with the Dogs at his heels, he called himself a fool for turning piper to please a Kid, when he should have stuck to his butcher's trade. Do not let anything turn you from your purpose.\"\"\"\n",
        "\n",
        "# Tokenize the text into words (split by whitespace and punctuation)\n",
        "words = text.split()\n",
        "\n",
        "# Calculate TTR (Type-Token Ratio)\n",
        "unique_words = set(words)\n",
        "ttr = len(unique_words) / len(words)\n",
        "\n",
        "# Print the TTR\n",
        "print(\"Type-Token Ratio (TTR):\", ttr)"
      ],
      "metadata": {
        "id": "iPPOr3lc9lVM",
        "outputId": "36438e34-f01f-413e-8308-201b3710256e",
        "colab": {
          "base_uri": "https://localhost:8080/"
        }
      },
      "execution_count": null,
      "outputs": [
        {
          "output_type": "stream",
          "name": "stdout",
          "text": [
            "Type-Token Ratio (TTR): 0.6267605633802817\n"
          ]
        }
      ]
    },
    {
      "cell_type": "markdown",
      "source": [
        "## 2. Ask again chatGPT to include the list of text, tokens, and types (i.e., unique words)."
      ],
      "metadata": {
        "id": "9gcC9G-APzEl"
      }
    },
    {
      "cell_type": "code",
      "source": [
        "# Define the text\n",
        "text = \"\"\"There was once a little Kid whose growing horns made him think he was a grown-up Billy Goat and able to take care of himself. So one evening when the flock started home from the pasture and his mother called, the Kid paid no heed and kept right on nibbling the tender grass. A little later when he lifted his head, the flock was gone. He was all alone. The sun was sinking. Long shadows came creeping over the ground. A chilly little wind came creeping with them making scary noises in the grass. The Kid shivered as he thought of the terrible Wolf. Then he started wildly over the field, bleating for his mother. But not half-way, near a clump of trees, there was the Wolf! The Kid knew there was little hope for him. “Please, Mr. Wolf,” he said trembling, “I know you are going to eat me. But first please pipe me a tune, for I want to dance and be merry as long as I can.“The Wolf liked the idea of a little music before eating, so he struck up a merry tune and the Kid leaped and frisked gaily. Meanwhile, the flock was moving slowly homeward. In the still evening air the Wolf's piping carried far. The Shepherd Dogs pricked up their ears. They recognized the song the Wolf sings before a feast, and in a moment they were racing back to the pasture. The Wolf's song ended suddenly, and as he ran, with the Dogs at his heels, he called himself a fool for turning piper to please a Kid, when he should have stuck to his butcher's trade. Do not let anything turn you from your purpose.\"\"\"\n",
        "\n",
        "# Tokenize the text into words (split by whitespace and punctuation)\n",
        "words = text.split()\n",
        "\n",
        "# Calculate TTR (Type-Token Ratio)\n",
        "unique_words = set(words)\n",
        "ttr = len(unique_words) / len(words)\n",
        "\n",
        "# Print the TTR, list of tokens, and list of unique words (types)\n",
        "print(\"Type-Token Ratio (TTR):\", ttr)\n",
        "print(\"Tokens:\", words)\n",
        "print(\"Unique words (Types):\", sorted(unique_words))"
      ],
      "metadata": {
        "id": "hH-xklk3_RRs",
        "outputId": "ecd408fa-8840-40de-d9be-a364fbe3f43f",
        "colab": {
          "base_uri": "https://localhost:8080/"
        }
      },
      "execution_count": null,
      "outputs": [
        {
          "output_type": "stream",
          "name": "stdout",
          "text": [
            "Type-Token Ratio (TTR): 0.6267605633802817\n",
            "Tokens: ['There', 'was', 'once', 'a', 'little', 'Kid', 'whose', 'growing', 'horns', 'made', 'him', 'think', 'he', 'was', 'a', 'grown-up', 'Billy', 'Goat', 'and', 'able', 'to', 'take', 'care', 'of', 'himself.', 'So', 'one', 'evening', 'when', 'the', 'flock', 'started', 'home', 'from', 'the', 'pasture', 'and', 'his', 'mother', 'called,', 'the', 'Kid', 'paid', 'no', 'heed', 'and', 'kept', 'right', 'on', 'nibbling', 'the', 'tender', 'grass.', 'A', 'little', 'later', 'when', 'he', 'lifted', 'his', 'head,', 'the', 'flock', 'was', 'gone.', 'He', 'was', 'all', 'alone.', 'The', 'sun', 'was', 'sinking.', 'Long', 'shadows', 'came', 'creeping', 'over', 'the', 'ground.', 'A', 'chilly', 'little', 'wind', 'came', 'creeping', 'with', 'them', 'making', 'scary', 'noises', 'in', 'the', 'grass.', 'The', 'Kid', 'shivered', 'as', 'he', 'thought', 'of', 'the', 'terrible', 'Wolf.', 'Then', 'he', 'started', 'wildly', 'over', 'the', 'field,', 'bleating', 'for', 'his', 'mother.', 'But', 'not', 'half-way,', 'near', 'a', 'clump', 'of', 'trees,', 'there', 'was', 'the', 'Wolf!', 'The', 'Kid', 'knew', 'there', 'was', 'little', 'hope', 'for', 'him.', '“Please,', 'Mr.', 'Wolf,”', 'he', 'said', 'trembling,', '“I', 'know', 'you', 'are', 'going', 'to', 'eat', 'me.', 'But', 'first', 'please', 'pipe', 'me', 'a', 'tune,', 'for', 'I', 'want', 'to', 'dance', 'and', 'be', 'merry', 'as', 'long', 'as', 'I', 'can.“The', 'Wolf', 'liked', 'the', 'idea', 'of', 'a', 'little', 'music', 'before', 'eating,', 'so', 'he', 'struck', 'up', 'a', 'merry', 'tune', 'and', 'the', 'Kid', 'leaped', 'and', 'frisked', 'gaily.', 'Meanwhile,', 'the', 'flock', 'was', 'moving', 'slowly', 'homeward.', 'In', 'the', 'still', 'evening', 'air', 'the', \"Wolf's\", 'piping', 'carried', 'far.', 'The', 'Shepherd', 'Dogs', 'pricked', 'up', 'their', 'ears.', 'They', 'recognized', 'the', 'song', 'the', 'Wolf', 'sings', 'before', 'a', 'feast,', 'and', 'in', 'a', 'moment', 'they', 'were', 'racing', 'back', 'to', 'the', 'pasture.', 'The', \"Wolf's\", 'song', 'ended', 'suddenly,', 'and', 'as', 'he', 'ran,', 'with', 'the', 'Dogs', 'at', 'his', 'heels,', 'he', 'called', 'himself', 'a', 'fool', 'for', 'turning', 'piper', 'to', 'please', 'a', 'Kid,', 'when', 'he', 'should', 'have', 'stuck', 'to', 'his', \"butcher's\", 'trade.', 'Do', 'not', 'let', 'anything', 'turn', 'you', 'from', 'your', 'purpose.']\n",
            "Unique words (Types): ['A', 'Billy', 'But', 'Do', 'Dogs', 'Goat', 'He', 'I', 'In', 'Kid', 'Kid,', 'Long', 'Meanwhile,', 'Mr.', 'Shepherd', 'So', 'The', 'Then', 'There', 'They', 'Wolf', 'Wolf!', \"Wolf's\", 'Wolf,”', 'Wolf.', 'a', 'able', 'air', 'all', 'alone.', 'and', 'anything', 'are', 'as', 'at', 'back', 'be', 'before', 'bleating', \"butcher's\", 'called', 'called,', 'came', 'can.“The', 'care', 'carried', 'chilly', 'clump', 'creeping', 'dance', 'ears.', 'eat', 'eating,', 'ended', 'evening', 'far.', 'feast,', 'field,', 'first', 'flock', 'fool', 'for', 'frisked', 'from', 'gaily.', 'going', 'gone.', 'grass.', 'ground.', 'growing', 'grown-up', 'half-way,', 'have', 'he', 'head,', 'heed', 'heels,', 'him', 'him.', 'himself', 'himself.', 'his', 'home', 'homeward.', 'hope', 'horns', 'idea', 'in', 'kept', 'knew', 'know', 'later', 'leaped', 'let', 'lifted', 'liked', 'little', 'long', 'made', 'making', 'me', 'me.', 'merry', 'moment', 'mother', 'mother.', 'moving', 'music', 'near', 'nibbling', 'no', 'noises', 'not', 'of', 'on', 'once', 'one', 'over', 'paid', 'pasture', 'pasture.', 'pipe', 'piper', 'piping', 'please', 'pricked', 'purpose.', 'racing', 'ran,', 'recognized', 'right', 'said', 'scary', 'shadows', 'shivered', 'should', 'sings', 'sinking.', 'slowly', 'so', 'song', 'started', 'still', 'struck', 'stuck', 'suddenly,', 'sun', 'take', 'tender', 'terrible', 'the', 'their', 'them', 'there', 'they', 'think', 'thought', 'to', 'trade.', 'trees,', 'trembling,', 'tune', 'tune,', 'turn', 'turning', 'up', 'want', 'was', 'were', 'when', 'whose', 'wildly', 'wind', 'with', 'you', 'your', '“I', '“Please,']\n"
          ]
        }
      ]
    },
    {
      "cell_type": "markdown",
      "source": [
        "# 3. Ask again to include converting tokens to lowercase."
      ],
      "metadata": {
        "id": "Lc5gV9DWP4Qj"
      }
    },
    {
      "cell_type": "code",
      "source": [
        "# Define a function to tokenize and convert to lowercase\n",
        "def tokenize_and_lower(text):\n",
        "    # Tokenize the text into words (split by whitespace and punctuation)\n",
        "    words = text.split()\n",
        "    # Convert words to lowercase\n",
        "    words_lower = [word.lower() for word in words]\n",
        "    return words_lower\n",
        "\n",
        "# Define the text\n",
        "text = \"\"\"There was once a little Kid whose growing horns made him think he was a grown-up Billy Goat and able to take care of himself. So one evening when the flock started home from the pasture and his mother called, the Kid paid no heed and kept right on nibbling the tender grass. A little later when he lifted his head, the flock was gone. He was all alone. The sun was sinking. Long shadows came creeping over the ground. A chilly little wind came creeping with them making scary noises in the grass. The Kid shivered as he thought of the terrible Wolf. Then he started wildly over the field, bleating for his mother. But not half-way, near a clump of trees, there was the Wolf! The Kid knew there was little hope for him. “Please, Mr. Wolf,” he said trembling, “I know you are going to eat me. But first please pipe me a tune, for I want to dance and be merry as long as I can.“ The Wolf liked the idea of a little music before eating, so he struck up a merry tune and the Kid leaped and frisked gaily. Meanwhile, the flock was moving slowly homeward. In the still evening air the Wolf's piping carried far. The Shepherd Dogs pricked up their ears. They recognized the song the Wolf sings before a feast, and in a moment they were racing back to the pasture. The Wolf's song ended suddenly, and as he ran, with the Dogs at his heels, he called himself a fool for turning piper to please a Kid, when he should have stuck to his butcher's trade. Do not let anything turn you from your purpose.\"\"\"\n",
        "\n",
        "# Get the tokens in lowercase\n",
        "tokens_lower = tokenize_and_lower(text)\n",
        "\n",
        "# Calculate TTR (Type-Token Ratio)\n",
        "unique_words = set(tokens_lower)\n",
        "ttr = len(unique_words) / len(tokens_lower)\n",
        "\n",
        "# Print the TTR, list of tokens, and list of unique words (types)\n",
        "print(\"Type-Token Ratio (TTR):\", ttr)\n",
        "print(\"Tokens in Lowercase:\", tokens_lower)\n",
        "print(\"Unique words (Types):\", sorted(unique_words))"
      ],
      "metadata": {
        "id": "k88w62oEJx2w",
        "outputId": "d0cb2c2d-965a-49c8-c0cd-78488c178920",
        "colab": {
          "base_uri": "https://localhost:8080/"
        }
      },
      "execution_count": null,
      "outputs": [
        {
          "output_type": "stream",
          "name": "stdout",
          "text": [
            "Type-Token Ratio (TTR): 0.5964912280701754\n",
            "Tokens in Lowercase: ['there', 'was', 'once', 'a', 'little', 'kid', 'whose', 'growing', 'horns', 'made', 'him', 'think', 'he', 'was', 'a', 'grown-up', 'billy', 'goat', 'and', 'able', 'to', 'take', 'care', 'of', 'himself.', 'so', 'one', 'evening', 'when', 'the', 'flock', 'started', 'home', 'from', 'the', 'pasture', 'and', 'his', 'mother', 'called,', 'the', 'kid', 'paid', 'no', 'heed', 'and', 'kept', 'right', 'on', 'nibbling', 'the', 'tender', 'grass.', 'a', 'little', 'later', 'when', 'he', 'lifted', 'his', 'head,', 'the', 'flock', 'was', 'gone.', 'he', 'was', 'all', 'alone.', 'the', 'sun', 'was', 'sinking.', 'long', 'shadows', 'came', 'creeping', 'over', 'the', 'ground.', 'a', 'chilly', 'little', 'wind', 'came', 'creeping', 'with', 'them', 'making', 'scary', 'noises', 'in', 'the', 'grass.', 'the', 'kid', 'shivered', 'as', 'he', 'thought', 'of', 'the', 'terrible', 'wolf.', 'then', 'he', 'started', 'wildly', 'over', 'the', 'field,', 'bleating', 'for', 'his', 'mother.', 'but', 'not', 'half-way,', 'near', 'a', 'clump', 'of', 'trees,', 'there', 'was', 'the', 'wolf!', 'the', 'kid', 'knew', 'there', 'was', 'little', 'hope', 'for', 'him.', '“please,', 'mr.', 'wolf,”', 'he', 'said', 'trembling,', '“i', 'know', 'you', 'are', 'going', 'to', 'eat', 'me.', 'but', 'first', 'please', 'pipe', 'me', 'a', 'tune,', 'for', 'i', 'want', 'to', 'dance', 'and', 'be', 'merry', 'as', 'long', 'as', 'i', 'can.“', 'the', 'wolf', 'liked', 'the', 'idea', 'of', 'a', 'little', 'music', 'before', 'eating,', 'so', 'he', 'struck', 'up', 'a', 'merry', 'tune', 'and', 'the', 'kid', 'leaped', 'and', 'frisked', 'gaily.', 'meanwhile,', 'the', 'flock', 'was', 'moving', 'slowly', 'homeward.', 'in', 'the', 'still', 'evening', 'air', 'the', \"wolf's\", 'piping', 'carried', 'far.', 'the', 'shepherd', 'dogs', 'pricked', 'up', 'their', 'ears.', 'they', 'recognized', 'the', 'song', 'the', 'wolf', 'sings', 'before', 'a', 'feast,', 'and', 'in', 'a', 'moment', 'they', 'were', 'racing', 'back', 'to', 'the', 'pasture.', 'the', \"wolf's\", 'song', 'ended', 'suddenly,', 'and', 'as', 'he', 'ran,', 'with', 'the', 'dogs', 'at', 'his', 'heels,', 'he', 'called', 'himself', 'a', 'fool', 'for', 'turning', 'piper', 'to', 'please', 'a', 'kid,', 'when', 'he', 'should', 'have', 'stuck', 'to', 'his', \"butcher's\", 'trade.', 'do', 'not', 'let', 'anything', 'turn', 'you', 'from', 'your', 'purpose.']\n",
            "Unique words (Types): ['a', 'able', 'air', 'all', 'alone.', 'and', 'anything', 'are', 'as', 'at', 'back', 'be', 'before', 'billy', 'bleating', 'but', \"butcher's\", 'called', 'called,', 'came', 'can.“', 'care', 'carried', 'chilly', 'clump', 'creeping', 'dance', 'do', 'dogs', 'ears.', 'eat', 'eating,', 'ended', 'evening', 'far.', 'feast,', 'field,', 'first', 'flock', 'fool', 'for', 'frisked', 'from', 'gaily.', 'goat', 'going', 'gone.', 'grass.', 'ground.', 'growing', 'grown-up', 'half-way,', 'have', 'he', 'head,', 'heed', 'heels,', 'him', 'him.', 'himself', 'himself.', 'his', 'home', 'homeward.', 'hope', 'horns', 'i', 'idea', 'in', 'kept', 'kid', 'kid,', 'knew', 'know', 'later', 'leaped', 'let', 'lifted', 'liked', 'little', 'long', 'made', 'making', 'me', 'me.', 'meanwhile,', 'merry', 'moment', 'mother', 'mother.', 'moving', 'mr.', 'music', 'near', 'nibbling', 'no', 'noises', 'not', 'of', 'on', 'once', 'one', 'over', 'paid', 'pasture', 'pasture.', 'pipe', 'piper', 'piping', 'please', 'pricked', 'purpose.', 'racing', 'ran,', 'recognized', 'right', 'said', 'scary', 'shadows', 'shepherd', 'shivered', 'should', 'sings', 'sinking.', 'slowly', 'so', 'song', 'started', 'still', 'struck', 'stuck', 'suddenly,', 'sun', 'take', 'tender', 'terrible', 'the', 'their', 'them', 'then', 'there', 'they', 'think', 'thought', 'to', 'trade.', 'trees,', 'trembling,', 'tune', 'tune,', 'turn', 'turning', 'up', 'want', 'was', 'were', 'when', 'whose', 'wildly', 'wind', 'with', 'wolf', 'wolf!', \"wolf's\", 'wolf,”', 'wolf.', 'you', 'your', '“i', '“please,']\n"
          ]
        }
      ]
    },
    {
      "cell_type": "markdown",
      "source": [
        "# 4. Ask again, does higher vlaue of TTR indicate either greater or lower variability of lexical use?"
      ],
      "metadata": {
        "id": "re2gErgHQDUO"
      }
    },
    {
      "cell_type": "markdown",
      "source": [
        "Answer from chat GPT: <font color = 'purple'> A higher value of TTR (Type-Token Ratio) typically indicates greater variability of lexical use. TTR measures the diversity of words in a given text. When TTR is higher, it means that there are more unique words (types) relative to the total number of words (tokens), suggesting a wider range of vocabulary and more diverse lexical usage in the text. In contrast, a lower TTR indicates that a smaller set of words is repeated more frequently, suggesting less diversity and greater repetition of words. So, a higher TTR is associated with a more varied lexical repertoire."
      ],
      "metadata": {
        "id": "B5euKG5JLG3u"
      }
    },
    {
      "cell_type": "markdown",
      "source": [
        "# ⚽ 🏀 ⚾ **NOW BACK TO WRITING SCRIPTS**"
      ],
      "metadata": {
        "id": "CQJFI1ubv8DI"
      }
    },
    {
      "cell_type": "markdown",
      "source": [
        "# **👀 <font color = 'red'> Do it yourself first!**  \n",
        "- ✅ Now **accomodate importing url** from your repository of Temp_Data on your github account **to** your current jupiter notebook on Colab, and calculate TTR again.\n",
        ">\n",
        "- ✅ You should estimate TTR with tokens converted lowercase!!!"
      ],
      "metadata": {
        "id": "3DttpqN3_nI5"
      }
    },
    {
      "cell_type": "code",
      "source": [
        "def tokenize_and_lower(text):\n",
        "    # Tokenize the text into words (split by whitespace and punctuation)\n",
        "    words = text.split()\n",
        "    # Convert words to lowercase\n",
        "    words_lower = [word.lower() for word in words]\n",
        "    return words_lower\n",
        "\n",
        "import urllib.request\n",
        "url = \"https://raw.githubusercontent.com/ms624atyale/Temp_Data/main/TheAesop4Children_1stEpisode.txt\"\n",
        "response = urllib.request.urlopen(url)\n",
        "content = response.read().decode('utf-8')\n",
        "print(content)\n",
        "\n",
        "# Get the tokens in lowercase\n",
        "tokens_lower = tokenize_and_lower(content)\n",
        "\n",
        "# Calculate TTR (Type-Token Ratio)\n",
        "unique_words = set(tokens_lower)\n",
        "ttr = len(unique_words) / len(tokens_lower)\n",
        "\n",
        "# Print the TTR, list of tokens, and list of unique words (types)\n",
        "print(\"Type-Token Ratio (TTR):\", ttr)\n",
        "print(\"Tokens in Lowercase:\", tokens_lower)\n",
        "print(\"Unique words (Types):\", sorted(unique_words))\n"
      ],
      "metadata": {
        "id": "ECO8UP8rC2Ji",
        "outputId": "e301f966-44b6-4f1c-eef0-bfd9be3a865e",
        "colab": {
          "base_uri": "https://localhost:8080/"
        }
      },
      "execution_count": null,
      "outputs": [
        {
          "output_type": "stream",
          "name": "stdout",
          "text": [
            "There was once a little Kid whose growing horns made him think he was a grown-up Billy Goat and able to take care of himself. So one evening when the flock started home from the pasture and his mother called, the Kid paid no heed and kept right on nibbling the tender grass. A little later when he lifted his head, the flock was gone. He was all alone. The sun was sinking. Long shadows came creeping over the ground. A chilly little wind came creeping with them making scary noises in the grass. The Kid shivered as he thought of the terrible Wolf. Then he started wildly over the field, bleating for his mother. But not half-way, near a clump of trees, there was the Wolf! The Kid knew there was little hope for him. “Please, Mr. Wolf,” he said trembling, “I know you are going to eat me. But first please pipe me a tune, for I want to dance and be merry as long as I can.“The Wolf liked the idea of a little music before eating, so he struck up a merry tune and the Kid leaped and frisked gaily. Meanwhile, the flock was moving slowly homeward. In the still evening air the Wolf's piping carried far. The Shepherd Dogs pricked up their ears. They recognized the song the Wolf sings before a feast, and in a moment they were racing back to the pasture. The Wolf's song ended suddenly, and as he ran, with the Dogs at his heels, he called himself a fool for turning piper to please a Kid, when he should have stuck to his butcher's trade. Do not let anything turn you from your purpose.\n",
            "Type-Token Ratio (TTR): 0.5985915492957746\n",
            "Tokens in Lowercase: ['there', 'was', 'once', 'a', 'little', 'kid', 'whose', 'growing', 'horns', 'made', 'him', 'think', 'he', 'was', 'a', 'grown-up', 'billy', 'goat', 'and', 'able', 'to', 'take', 'care', 'of', 'himself.', 'so', 'one', 'evening', 'when', 'the', 'flock', 'started', 'home', 'from', 'the', 'pasture', 'and', 'his', 'mother', 'called,', 'the', 'kid', 'paid', 'no', 'heed', 'and', 'kept', 'right', 'on', 'nibbling', 'the', 'tender', 'grass.', 'a', 'little', 'later', 'when', 'he', 'lifted', 'his', 'head,', 'the', 'flock', 'was', 'gone.', 'he', 'was', 'all', 'alone.', 'the', 'sun', 'was', 'sinking.', 'long', 'shadows', 'came', 'creeping', 'over', 'the', 'ground.', 'a', 'chilly', 'little', 'wind', 'came', 'creeping', 'with', 'them', 'making', 'scary', 'noises', 'in', 'the', 'grass.', 'the', 'kid', 'shivered', 'as', 'he', 'thought', 'of', 'the', 'terrible', 'wolf.', 'then', 'he', 'started', 'wildly', 'over', 'the', 'field,', 'bleating', 'for', 'his', 'mother.', 'but', 'not', 'half-way,', 'near', 'a', 'clump', 'of', 'trees,', 'there', 'was', 'the', 'wolf!', 'the', 'kid', 'knew', 'there', 'was', 'little', 'hope', 'for', 'him.', '“please,', 'mr.', 'wolf,”', 'he', 'said', 'trembling,', '“i', 'know', 'you', 'are', 'going', 'to', 'eat', 'me.', 'but', 'first', 'please', 'pipe', 'me', 'a', 'tune,', 'for', 'i', 'want', 'to', 'dance', 'and', 'be', 'merry', 'as', 'long', 'as', 'i', 'can.“the', 'wolf', 'liked', 'the', 'idea', 'of', 'a', 'little', 'music', 'before', 'eating,', 'so', 'he', 'struck', 'up', 'a', 'merry', 'tune', 'and', 'the', 'kid', 'leaped', 'and', 'frisked', 'gaily.', 'meanwhile,', 'the', 'flock', 'was', 'moving', 'slowly', 'homeward.', 'in', 'the', 'still', 'evening', 'air', 'the', \"wolf's\", 'piping', 'carried', 'far.', 'the', 'shepherd', 'dogs', 'pricked', 'up', 'their', 'ears.', 'they', 'recognized', 'the', 'song', 'the', 'wolf', 'sings', 'before', 'a', 'feast,', 'and', 'in', 'a', 'moment', 'they', 'were', 'racing', 'back', 'to', 'the', 'pasture.', 'the', \"wolf's\", 'song', 'ended', 'suddenly,', 'and', 'as', 'he', 'ran,', 'with', 'the', 'dogs', 'at', 'his', 'heels,', 'he', 'called', 'himself', 'a', 'fool', 'for', 'turning', 'piper', 'to', 'please', 'a', 'kid,', 'when', 'he', 'should', 'have', 'stuck', 'to', 'his', \"butcher's\", 'trade.', 'do', 'not', 'let', 'anything', 'turn', 'you', 'from', 'your', 'purpose.']\n",
            "Unique words (Types): ['a', 'able', 'air', 'all', 'alone.', 'and', 'anything', 'are', 'as', 'at', 'back', 'be', 'before', 'billy', 'bleating', 'but', \"butcher's\", 'called', 'called,', 'came', 'can.“the', 'care', 'carried', 'chilly', 'clump', 'creeping', 'dance', 'do', 'dogs', 'ears.', 'eat', 'eating,', 'ended', 'evening', 'far.', 'feast,', 'field,', 'first', 'flock', 'fool', 'for', 'frisked', 'from', 'gaily.', 'goat', 'going', 'gone.', 'grass.', 'ground.', 'growing', 'grown-up', 'half-way,', 'have', 'he', 'head,', 'heed', 'heels,', 'him', 'him.', 'himself', 'himself.', 'his', 'home', 'homeward.', 'hope', 'horns', 'i', 'idea', 'in', 'kept', 'kid', 'kid,', 'knew', 'know', 'later', 'leaped', 'let', 'lifted', 'liked', 'little', 'long', 'made', 'making', 'me', 'me.', 'meanwhile,', 'merry', 'moment', 'mother', 'mother.', 'moving', 'mr.', 'music', 'near', 'nibbling', 'no', 'noises', 'not', 'of', 'on', 'once', 'one', 'over', 'paid', 'pasture', 'pasture.', 'pipe', 'piper', 'piping', 'please', 'pricked', 'purpose.', 'racing', 'ran,', 'recognized', 'right', 'said', 'scary', 'shadows', 'shepherd', 'shivered', 'should', 'sings', 'sinking.', 'slowly', 'so', 'song', 'started', 'still', 'struck', 'stuck', 'suddenly,', 'sun', 'take', 'tender', 'terrible', 'the', 'their', 'them', 'then', 'there', 'they', 'think', 'thought', 'to', 'trade.', 'trees,', 'trembling,', 'tune', 'tune,', 'turn', 'turning', 'up', 'want', 'was', 'were', 'when', 'whose', 'wildly', 'wind', 'with', 'wolf', 'wolf!', \"wolf's\", 'wolf,”', 'wolf.', 'you', 'your', '“i', '“please,']\n"
          ]
        }
      ]
    },
    {
      "cell_type": "markdown",
      "source": [
        "# **👀 <font color = 'red'> Now you are going to do...**  \n",
        "- Find an article on a web page of your choice.\n",
        "- This time, visit **[www.npr.org](https://www.npr.org/2023/11/08/1211483883/olympics-russia-israel-gaza-sanctions-ioc)** for class activity.\n",
        "- visit **[Arts and Sciences of Washington University](https://ealc.wustl.edu/news/folktales-cultural-literacy)**for your class activity."
      ],
      "metadata": {
        "id": "M3mpBoU6H8wj"
      }
    },
    {
      "cell_type": "markdown",
      "source": [
        "### 🍋 <font color = 'brown'> **Copy and paste the html from the NPR link above.**"
      ],
      "metadata": {
        "id": "ft18ujmg6AFa"
      }
    },
    {
      "cell_type": "code",
      "source": [
        "text = \"\"\"\n",
        "When violence in Israel and Gaza escalated after last month's terror attack by Hamas, the International Olympic Committee (IOC) issued a statement warning against \"discriminatory behavior\" against Israeli athletes competing around the world.\n",
        "\n",
        "\"[A]thletes cannot be held responsible for the actions of their governments,\" an IOC spokesperson told the German Press Agency, promising \"swift action\" if incidents occur.\n",
        "\n",
        "Russian officials reacted angrily to the IOC's stance toward Israel, noting that in October the Russian Olympic Committee was suspended for actions taken in occupied regions of eastern Ukraine.\n",
        "\n",
        "\"This is, of course, outrageous,\" said Russian Foreign Minister Sergey Lavrov, in an interview posted on Telegram. \"Once again we see an example of the bias and ineptitude of the International Olympic Committee, which time and again proves its political bent.\"\n",
        "\"\"\"\n",
        "\n",
        "count = len(text)\n",
        "print(count)\n",
        "print('The text of the article:', text)"
      ],
      "metadata": {
        "id": "O1J7lu0wulp8",
        "outputId": "817bfb4e-7ac2-498a-b39a-aeb6010a0f85",
        "colab": {
          "base_uri": "https://localhost:8080/"
        }
      },
      "execution_count": null,
      "outputs": [
        {
          "output_type": "stream",
          "name": "stdout",
          "text": [
            "874\n",
            "The text of the article: \n",
            "When violence in Israel and Gaza escalated after last month's terror attack by Hamas, the International Olympic Committee (IOC) issued a statement warning against \"discriminatory behavior\" against Israeli athletes competing around the world.\n",
            "\n",
            "\"[A]thletes cannot be held responsible for the actions of their governments,\" an IOC spokesperson told the German Press Agency, promising \"swift action\" if incidents occur.\n",
            "\n",
            "Russian officials reacted angrily to the IOC's stance toward Israel, noting that in October the Russian Olympic Committee was suspended for actions taken in occupied regions of eastern Ukraine.\n",
            "\n",
            "\"This is, of course, outrageous,\" said Russian Foreign Minister Sergey Lavrov, in an interview posted on Telegram. \"Once again we see an example of the bias and ineptitude of the International Olympic Committee, which time and again proves its political bent.\"\n",
            "\n"
          ]
        }
      ]
    },
    {
      "cell_type": "markdown",
      "source": [
        "### 🍋🍋 <font color = 'brown'> **Replace \\n with a white space and compare the length of the string between code cell [28] and code cell [31].**⤵️"
      ],
      "metadata": {
        "id": "DNpuqFRI7T2J"
      }
    },
    {
      "cell_type": "code",
      "source": [
        "text = \"\"\"\n",
        "When violence in Israel and Gaza escalated after last month's terror attack by Hamas, the International Olympic Committee (IOC) issued a statement warning against \"discriminatory behavior\" against Israeli athletes competing around the world.\n",
        "\n",
        "\"[A]thletes cannot be held responsible for the actions of their governments,\" an IOC spokesperson told the German Press Agency, promising \"swift action\" if incidents occur.\n",
        "\n",
        "Russian officials reacted angrily to the IOC's stance toward Israel, noting that in October the Russian Olympic Committee was suspended for actions taken in occupied regions of eastern Ukraine.\n",
        "\n",
        "\"This is, of course, outrageous,\" said Russian Foreign Minister Sergey Lavrov, in an interview posted on Telegram. \"Once again we see an example of the bias and ineptitude of the International Olympic Committee, which time and again proves its political bent.\"\n",
        "\"\"\"\n",
        "\n",
        "text_nl = text.replace('\\n', ' ')\n",
        "\n",
        "count = len(text)\n",
        "print(count)\n",
        "print('The text of the article:', text_nl)"
      ],
      "metadata": {
        "id": "hWgyo_QIvfti",
        "outputId": "22a2cc5b-0d6d-44d1-8f72-fbf51263db3f",
        "colab": {
          "base_uri": "https://localhost:8080/"
        }
      },
      "execution_count": null,
      "outputs": [
        {
          "output_type": "stream",
          "name": "stdout",
          "text": [
            "874\n",
            "The text of the article:  When violence in Israel and Gaza escalated after last month's terror attack by Hamas, the International Olympic Committee (IOC) issued a statement warning against \"discriminatory behavior\" against Israeli athletes competing around the world.  \"[A]thletes cannot be held responsible for the actions of their governments,\" an IOC spokesperson told the German Press Agency, promising \"swift action\" if incidents occur.  Russian officials reacted angrily to the IOC's stance toward Israel, noting that in October the Russian Olympic Committee was suspended for actions taken in occupied regions of eastern Ukraine.  \"This is, of course, outrageous,\" said Russian Foreign Minister Sergey Lavrov, in an interview posted on Telegram. \"Once again we see an example of the bias and ineptitude of the International Olympic Committee, which time and again proves its political bent.\" \n"
          ]
        }
      ]
    },
    {
      "cell_type": "markdown",
      "source": [
        "### 🍋🍋🍋 <font color = 'red'> **Some passages from NPR**"
      ],
      "metadata": {
        "id": "2cb9bQhk7eKE"
      }
    },
    {
      "cell_type": "code",
      "source": [
        "#@markdown ### 🍎 Write a script for TTL as you copy and paste html format in the text.\n",
        "\n",
        "\n",
        "# Define a function to tokenize and convert to lowercase\n",
        "def tokenize_and_lower(text):\n",
        "    # Tokenize the text into words (split by whitespace and punctuation)\n",
        "    words = text.split()\n",
        "    # Convert words to lowercase\n",
        "    words_lower = [word.lower() for word in words]\n",
        "    return words_lower\n",
        "\n",
        "# Define the text as you copy and paste something from an internet webstie.\n",
        "text = \"\"\"\n",
        "When violence in Israel and Gaza escalated after last month's terror attack by Hamas, the International Olympic Committee (IOC) issued a statement warning against \"discriminatory behavior\" against Israeli athletes competing around the world.\n",
        "\n",
        "\"[A]thletes cannot be held responsible for the actions of their governments,\" an IOC spokesperson told the German Press Agency, promising \"swift action\" if incidents occur.\n",
        "\n",
        "Russian officials reacted angrily to the IOC's stance toward Israel, noting that in October the Russian Olympic Committee was suspended for actions taken in occupied regions of eastern Ukraine.\n",
        "\n",
        "\"This is, of course, outrageous,\" said Russian Foreign Minister Sergey Lavrov, in an interview posted on Telegram. \"Once again we see an example of the bias and ineptitude of the International Olympic Committee, which time and again proves its political bent.\"\n",
        "\"\"\"\n",
        "\n",
        "# Get the tokens in lowercase\n",
        "tokens_lower = tokenize_and_lower(text)\n",
        "\n",
        "# Calculate TTR (Type-Token Ratio)\n",
        "unique_words = set(tokens_lower)\n",
        "ttr = len(unique_words) / len(tokens_lower)\n",
        "\n",
        "# Print the TTR, list of tokens, and list of unique words (types)\n",
        "print(\"Type-Token Ratio (TTR):\", ttr)\n",
        "print(\"Unique words (Types):\", sorted(unique_words))\n",
        "print(\"Tokens in Lowercase:\", tokens_lower)"
      ],
      "metadata": {
        "id": "L3hnINcDRaZi",
        "outputId": "1b55773a-8e0a-4620-a812-0909d56d38ad",
        "colab": {
          "base_uri": "https://localhost:8080/"
        }
      },
      "execution_count": null,
      "outputs": [
        {
          "output_type": "stream",
          "name": "stdout",
          "text": [
            "Type-Token Ratio (TTR): 0.78125\n",
            "Unique words (Types): ['\"[a]thletes', '\"discriminatory', '\"once', '\"swift', '\"this', '(ioc)', 'a', 'action\"', 'actions', 'after', 'again', 'against', 'agency,', 'an', 'and', 'angrily', 'around', 'athletes', 'attack', 'be', 'behavior\"', 'bent.\"', 'bias', 'by', 'cannot', 'committee', 'committee,', 'competing', 'course,', 'eastern', 'escalated', 'example', 'for', 'foreign', 'gaza', 'german', 'governments,\"', 'hamas,', 'held', 'if', 'in', 'incidents', 'ineptitude', 'international', 'interview', 'ioc', \"ioc's\", 'is,', 'israel', 'israel,', 'israeli', 'issued', 'its', 'last', 'lavrov,', 'minister', \"month's\", 'noting', 'occupied', 'occur.', 'october', 'of', 'officials', 'olympic', 'on', 'outrageous,\"', 'political', 'posted', 'press', 'promising', 'proves', 'reacted', 'regions', 'responsible', 'russian', 'said', 'see', 'sergey', 'spokesperson', 'stance', 'statement', 'suspended', 'taken', 'telegram.', 'terror', 'that', 'the', 'their', 'time', 'to', 'told', 'toward', 'ukraine.', 'violence', 'warning', 'was', 'we', 'when', 'which', 'world.']\n",
            "Tokens in Lowercase: ['when', 'violence', 'in', 'israel', 'and', 'gaza', 'escalated', 'after', 'last', \"month's\", 'terror', 'attack', 'by', 'hamas,', 'the', 'international', 'olympic', 'committee', '(ioc)', 'issued', 'a', 'statement', 'warning', 'against', '\"discriminatory', 'behavior\"', 'against', 'israeli', 'athletes', 'competing', 'around', 'the', 'world.', '\"[a]thletes', 'cannot', 'be', 'held', 'responsible', 'for', 'the', 'actions', 'of', 'their', 'governments,\"', 'an', 'ioc', 'spokesperson', 'told', 'the', 'german', 'press', 'agency,', 'promising', '\"swift', 'action\"', 'if', 'incidents', 'occur.', 'russian', 'officials', 'reacted', 'angrily', 'to', 'the', \"ioc's\", 'stance', 'toward', 'israel,', 'noting', 'that', 'in', 'october', 'the', 'russian', 'olympic', 'committee', 'was', 'suspended', 'for', 'actions', 'taken', 'in', 'occupied', 'regions', 'of', 'eastern', 'ukraine.', '\"this', 'is,', 'of', 'course,', 'outrageous,\"', 'said', 'russian', 'foreign', 'minister', 'sergey', 'lavrov,', 'in', 'an', 'interview', 'posted', 'on', 'telegram.', '\"once', 'again', 'we', 'see', 'an', 'example', 'of', 'the', 'bias', 'and', 'ineptitude', 'of', 'the', 'international', 'olympic', 'committee,', 'which', 'time', 'and', 'again', 'proves', 'its', 'political', 'bent.\"']\n"
          ]
        }
      ]
    },
    {
      "cell_type": "markdown",
      "source": [
        "### 🍋🍋🍋🍋 <font color = 'red'> **Some passages from Washington University I**"
      ],
      "metadata": {
        "id": "i0RnlBpk8lwF"
      }
    },
    {
      "cell_type": "code",
      "source": [
        "# Define a function to tokenize and convert to lowercase\n",
        "def tokenize_and_lower(text):\n",
        "    # Replace newline characters with white space\n",
        "    text = text.replace(\"\\n\", \" \")\n",
        "    # Tokenize the text into words (split by whitespace and punctuation)\n",
        "    words = text.split()\n",
        "    # Convert words to lowercase\n",
        "    words_lower = [word.lower() for word in words]\n",
        "    return words_lower\n",
        "\n",
        "# Define the text as you copy and paste something from an internet webstie.\n",
        "text1 = \"\"\"\n",
        "Mimi Kim, teaching professor of Korean language, is the co-author of a new Korean language textbook that uses folktales as a springboard for language learning.\n",
        "The 21 stories that make up Tigers, Fairies, and Gods: Enchanting Folktales from Korea progress through increasingly challenging levels of diction and vocabulary while developing students’ cultural literacy.\\n\n",
        "Every semester, Mimi Kim asks her Korean language students at WashU to write their own Korean-style folktales. She says that folktales are “rich in cultural context, and so they provide a very effective backdrop for discussions about cultural practices and perspectives. Students really get into our discussions about commonalities and differences between Korean folktales and the stories that they grew up with in their own communities.” Kim sees cultural literacy as a key tool for the language classroom. Tigers, Fairies, and Gods grew out of that idea.\\n\n",
        "The book is an unusually rich visual object, with vibrant illustrations done in a style that is evocative of Korean animation. Kim and her co-author, Angela Lee-Smith of Yale University, use visual and linguistic cues to engage with students’ cultural knowledge. In “Sister Sun and Brother Moon,” for example, a brother and sister encounter a tiger in their mother’s clothing in a scene that might evoke echoes of “Little Red Riding Hood” for readers who grew up with the Grimm brothers’ tales.\n",
        "That kind of cross-cultural comparison is exactly what we hope for in humanities education, Kim says. “By learning a new language you gain a richer understanding of cultural differences and similarities,” she says. “Folktales are a natural tool for that work. They just needed to be put together in a way that was more useful for students.”\n",
        "\"\"\"\n",
        "\n",
        "count1 = len(text1)\n",
        "print(count1)\n",
        "\n",
        "text2 = text1.replace('\\n', ' ')\n",
        "count2 = len(text2)\n",
        "print(count2)\n",
        "\n",
        "print('The text of the article:', text1)\n",
        "\n",
        "#🍰 Get the tokens in lowercase\n",
        "tokens_lower = tokenize_and_lower(text1)\n",
        "\n",
        "#🍰🍰 The functon set(tokens_lower) converts the list of lowercase tokens into a set, which automatically removes any duplicate words.\n",
        "#The resulting set, unique_words, contains only the unique words (types) from the text.\n",
        "unique_words = set(tokens_lower)\n",
        "\n",
        "#🍰🍰🍰 Calculate TTR (Type-Token Ratio)\n",
        "ttr = len(unique_words) / len(tokens_lower)\n",
        "\n",
        "# Print the TTR, list of tokens, and list of unique words (types)\n",
        "print(\"Type-Token Ratio (TTR):\", ttr)\n",
        "print(\"Tokens in Lowercase:\", tokens_lower)\n",
        "print(\"Unique words (Types):\", sorted(unique_words))"
      ],
      "metadata": {
        "id": "g401WvvRlH8N",
        "outputId": "f02cc773-0c54-4f12-e9d1-1afbc24c2815",
        "colab": {
          "base_uri": "https://localhost:8080/"
        }
      },
      "execution_count": null,
      "outputs": [
        {
          "output_type": "stream",
          "name": "stdout",
          "text": [
            "1764\n",
            "1764\n",
            "The text of the article: \n",
            "Mimi Kim, teaching professor of Korean language, is the co-author of a new Korean language textbook that uses folktales as a springboard for language learning.\n",
            "The 21 stories that make up Tigers, Fairies, and Gods: Enchanting Folktales from Korea progress through increasingly challenging levels of diction and vocabulary while developing students’ cultural literacy.\n",
            "\n",
            "Every semester, Mimi Kim asks her Korean language students at WashU to write their own Korean-style folktales. She says that folktales are “rich in cultural context, and so they provide a very effective backdrop for discussions about cultural practices and perspectives. Students really get into our discussions about commonalities and differences between Korean folktales and the stories that they grew up with in their own communities.” Kim sees cultural literacy as a key tool for the language classroom. Tigers, Fairies, and Gods grew out of that idea.\n",
            "\n",
            "The book is an unusually rich visual object, with vibrant illustrations done in a style that is evocative of Korean animation. Kim and her co-author, Angela Lee-Smith of Yale University, use visual and linguistic cues to engage with students’ cultural knowledge. In “Sister Sun and Brother Moon,” for example, a brother and sister encounter a tiger in their mother’s clothing in a scene that might evoke echoes of “Little Red Riding Hood” for readers who grew up with the Grimm brothers’ tales.\n",
            "That kind of cross-cultural comparison is exactly what we hope for in humanities education, Kim says. “By learning a new language you gain a richer understanding of cultural differences and similarities,” she says. “Folktales are a natural tool for that work. They just needed to be put together in a way that was more useful for students.”\n",
            "\n",
            "Type-Token Ratio (TTR): 0.5985663082437276\n",
            "Tokens in Lowercase: ['mimi', 'kim,', 'teaching', 'professor', 'of', 'korean', 'language,', 'is', 'the', 'co-author', 'of', 'a', 'new', 'korean', 'language', 'textbook', 'that', 'uses', 'folktales', 'as', 'a', 'springboard', 'for', 'language', 'learning.', 'the', '21', 'stories', 'that', 'make', 'up', 'tigers,', 'fairies,', 'and', 'gods:', 'enchanting', 'folktales', 'from', 'korea', 'progress', 'through', 'increasingly', 'challenging', 'levels', 'of', 'diction', 'and', 'vocabulary', 'while', 'developing', 'students’', 'cultural', 'literacy.', 'every', 'semester,', 'mimi', 'kim', 'asks', 'her', 'korean', 'language', 'students', 'at', 'washu', 'to', 'write', 'their', 'own', 'korean-style', 'folktales.', 'she', 'says', 'that', 'folktales', 'are', '“rich', 'in', 'cultural', 'context,', 'and', 'so', 'they', 'provide', 'a', 'very', 'effective', 'backdrop', 'for', 'discussions', 'about', 'cultural', 'practices', 'and', 'perspectives.', 'students', 'really', 'get', 'into', 'our', 'discussions', 'about', 'commonalities', 'and', 'differences', 'between', 'korean', 'folktales', 'and', 'the', 'stories', 'that', 'they', 'grew', 'up', 'with', 'in', 'their', 'own', 'communities.”', 'kim', 'sees', 'cultural', 'literacy', 'as', 'a', 'key', 'tool', 'for', 'the', 'language', 'classroom.', 'tigers,', 'fairies,', 'and', 'gods', 'grew', 'out', 'of', 'that', 'idea.', 'the', 'book', 'is', 'an', 'unusually', 'rich', 'visual', 'object,', 'with', 'vibrant', 'illustrations', 'done', 'in', 'a', 'style', 'that', 'is', 'evocative', 'of', 'korean', 'animation.', 'kim', 'and', 'her', 'co-author,', 'angela', 'lee-smith', 'of', 'yale', 'university,', 'use', 'visual', 'and', 'linguistic', 'cues', 'to', 'engage', 'with', 'students’', 'cultural', 'knowledge.', 'in', '“sister', 'sun', 'and', 'brother', 'moon,”', 'for', 'example,', 'a', 'brother', 'and', 'sister', 'encounter', 'a', 'tiger', 'in', 'their', 'mother’s', 'clothing', 'in', 'a', 'scene', 'that', 'might', 'evoke', 'echoes', 'of', '“little', 'red', 'riding', 'hood”', 'for', 'readers', 'who', 'grew', 'up', 'with', 'the', 'grimm', 'brothers’', 'tales.', 'that', 'kind', 'of', 'cross-cultural', 'comparison', 'is', 'exactly', 'what', 'we', 'hope', 'for', 'in', 'humanities', 'education,', 'kim', 'says.', '“by', 'learning', 'a', 'new', 'language', 'you', 'gain', 'a', 'richer', 'understanding', 'of', 'cultural', 'differences', 'and', 'similarities,”', 'she', 'says.', '“folktales', 'are', 'a', 'natural', 'tool', 'for', 'that', 'work.', 'they', 'just', 'needed', 'to', 'be', 'put', 'together', 'in', 'a', 'way', 'that', 'was', 'more', 'useful', 'for', 'students.”']\n",
            "Unique words (Types): ['21', 'a', 'about', 'an', 'and', 'angela', 'animation.', 'are', 'as', 'asks', 'at', 'backdrop', 'be', 'between', 'book', 'brother', 'brothers’', 'challenging', 'classroom.', 'clothing', 'co-author', 'co-author,', 'commonalities', 'communities.”', 'comparison', 'context,', 'cross-cultural', 'cues', 'cultural', 'developing', 'diction', 'differences', 'discussions', 'done', 'echoes', 'education,', 'effective', 'enchanting', 'encounter', 'engage', 'every', 'evocative', 'evoke', 'exactly', 'example,', 'fairies,', 'folktales', 'folktales.', 'for', 'from', 'gain', 'get', 'gods', 'gods:', 'grew', 'grimm', 'her', 'hood”', 'hope', 'humanities', 'idea.', 'illustrations', 'in', 'increasingly', 'into', 'is', 'just', 'key', 'kim', 'kim,', 'kind', 'knowledge.', 'korea', 'korean', 'korean-style', 'language', 'language,', 'learning', 'learning.', 'lee-smith', 'levels', 'linguistic', 'literacy', 'literacy.', 'make', 'might', 'mimi', 'moon,”', 'more', 'mother’s', 'natural', 'needed', 'new', 'object,', 'of', 'our', 'out', 'own', 'perspectives.', 'practices', 'professor', 'progress', 'provide', 'put', 'readers', 'really', 'red', 'rich', 'richer', 'riding', 'says', 'says.', 'scene', 'sees', 'semester,', 'she', 'similarities,”', 'sister', 'so', 'springboard', 'stories', 'students', 'students.”', 'students’', 'style', 'sun', 'tales.', 'teaching', 'textbook', 'that', 'the', 'their', 'they', 'through', 'tiger', 'tigers,', 'to', 'together', 'tool', 'understanding', 'university,', 'unusually', 'up', 'use', 'useful', 'uses', 'very', 'vibrant', 'visual', 'vocabulary', 'was', 'washu', 'way', 'we', 'what', 'while', 'who', 'with', 'work.', 'write', 'yale', 'you', '“by', '“folktales', '“little', '“rich', '“sister']\n"
          ]
        }
      ]
    },
    {
      "cell_type": "markdown",
      "source": [
        "# 🍋 <font color = 'red'> **Some passages from Washington University II**"
      ],
      "metadata": {
        "id": "Hp-EEMJU88US"
      }
    },
    {
      "cell_type": "code",
      "source": [
        "# Define a function to tokenize and convert to lowercase\n",
        "def tokenize_and_lower(text):\n",
        "    # Replace newline characters with white space\n",
        "    text = text.replace(\"\\n\", \" \")\n",
        "    # Tokenize the text into words (split by whitespace and punctuation)\n",
        "    words = text.split()\n",
        "    # Convert words to lowercase\n",
        "    words_lower = [word.lower() for word in words]\n",
        "    return words_lower\n",
        "\n",
        "# Define the text as you copy and paste something from an internet webstie.\n",
        "text1 = \"\"\"\n",
        "Mimi Kim, teaching professor of Korean language, is the co-author of a new Korean language textbook that uses folktales as a springboard for language learning. The 21 stories that make up Tigers, Fairies, and Gods: Enchanting Folktales from Korea progress through increasingly challenging levels of diction and vocabulary while developing students’ cultural literacy.\\n Every semester, Mimi Kim asks her Korean language students at WashU to write their own Korean-style folktales. She says that folktales are “rich in cultural context, and so they provide a very effective backdrop for discussions about cultural practices and perspectives. Students really get into our discussions about commonalities and differences between Korean folktales and the stories that they grew up with in their own communities.” Kim sees cultural literacy as a key tool for the language classroom. Tigers, Fairies, and Gods grew out of that idea.\\n The book is an unusually rich visual object, with vibrant illustrations done in a style that is evocative of Korean animation. Kim and her co-author, Angela Lee-Smith of Yale University, use visual and linguistic cues to engage with students’ cultural knowledge. In “Sister Sun and Brother Moon,” for example, a brother and sister encounter a tiger in their mother’s clothing in a scene that might evoke echoes of “Little Red Riding Hood” for readers who grew up with the Grimm brothers’ tales. That kind of cross-cultural comparison is exactly what we hope for in humanities education, Kim says. “By learning a new language you gain a richer understanding of cultural differences and similarities,” she says. “Folktales are a natural tool for that work. They just needed to be put together in a way that was more useful for students.”\n",
        "\"\"\"\n",
        "\n",
        "count1 = len(text1)\n",
        "print(count1)\n",
        "\n",
        "text2 = text1.replace('\\n', ' ')\n",
        "count2 = len(text2)\n",
        "print(count2)"
      ],
      "metadata": {
        "id": "t6SklxaW4kEA",
        "outputId": "5792c805-fdfe-4b99-cc1e-c1f308cfb3c7",
        "colab": {
          "base_uri": "https://localhost:8080/"
        }
      },
      "execution_count": null,
      "outputs": [
        {
          "output_type": "stream",
          "name": "stdout",
          "text": [
            "1764\n",
            "1764\n"
          ]
        }
      ]
    },
    {
      "cell_type": "markdown",
      "source": [
        "## 🍎🍎 Write a script for TTL as you use _url_ of your github where you've saved part of webpage using _ms word_ as UTF-8.\n"
      ],
      "metadata": {
        "id": "vKgCkTLEyTlt"
      }
    },
    {
      "cell_type": "code",
      "source": [
        "import urllib.request\n",
        "url = \"https://raw.githubusercontent.com/ms624atyale/Temp_Data/main/Article_about_enchanting_folktakes_from_Korea.txt\"\n",
        "response = urllib.request.urlopen(url)\n",
        "content = response.read().decode('utf-8')\n",
        "\n",
        "print(content)\n",
        "\n",
        "words = content.split()\n",
        "\n",
        "# Calculate TTR (Type-Token Ratio)\n",
        "unique_words = set(words)\n",
        "ttr = len(unique_words) / len(words)\n",
        "\n",
        "# Print the TTR, list of tokens, and list of unique words (types)\n",
        "print(\"Type-Token Ratio (TTR):\", ttr)\n",
        "print(\"Unique words (Types):\", sorted(unique_words))\n",
        "print(\"Tokens:\", words)\n"
      ],
      "metadata": {
        "id": "-S-xxJ6IJCgW",
        "outputId": "8a12c3e3-3cff-4ff3-c598-e4acb3324c66",
        "colab": {
          "base_uri": "https://localhost:8080/"
        }
      },
      "execution_count": null,
      "outputs": [
        {
          "output_type": "stream",
          "name": "stdout",
          "text": [
            "Mimi Kim, teaching professor of Korean language, is the co-author of a new Korean language textbook that uses folktales as a springboard for language learning.\n",
            "The 21 stories that make up Tigers, Fairies, and Gods: Enchanting Folktales from Korea progress through increasingly challenging levels of diction and vocabulary while developing students’ cultural literacy.\\n\n",
            "Every semester, Mimi Kim asks her Korean language students at WashU to write their own Korean-style folktales. She says that folktales are “rich in cultural context, and so they provide a very effective backdrop for discussions about cultural practices and perspectives. Students really get into our discussions about commonalities and differences between Korean folktales and the stories that they grew up with in their own communities.” Kim sees cultural literacy as a key tool for the language classroom. Tigers, Fairies, and Gods grew out of that idea.\\n\n",
            "The book is an unusually rich visual object, with vibrant illustrations done in a style that is evocative of Korean animation. Kim and her co-author, Angela Lee-Smith of Yale University, use visual and linguistic cues to engage with students’ cultural knowledge. In “Sister Sun and Brother Moon,” for example, a brother and sister encounter a tiger in their mother’s clothing in a scene that might evoke echoes of “Little Red Riding Hood” for readers who grew up with the Grimm brothers’ tales.\n",
            "That kind of cross-cultural comparison is exactly what we hope for in humanities education, Kim says. “By learning a new language you gain a richer understanding of cultural differences and similarities,” she says. “Folktales are a natural tool for that work. They just needed to be put together in a way that was more useful for students.”\n",
            "\n",
            "Type-Token Ratio (TTR): 0.6272401433691757\n",
            "Unique words (Types): ['21', 'Angela', 'Brother', 'Enchanting', 'Every', 'Fairies,', 'Folktales', 'Gods', 'Gods:', 'Grimm', 'Hood”', 'In', 'Kim', 'Kim,', 'Korea', 'Korean', 'Korean-style', 'Lee-Smith', 'Mimi', 'Moon,”', 'Red', 'Riding', 'She', 'Students', 'Sun', 'That', 'The', 'They', 'Tigers,', 'University,', 'WashU', 'Yale', 'a', 'about', 'an', 'and', 'animation.', 'are', 'as', 'asks', 'at', 'backdrop', 'be', 'between', 'book', 'brother', 'brothers’', 'challenging', 'classroom.', 'clothing', 'co-author', 'co-author,', 'commonalities', 'communities.”', 'comparison', 'context,', 'cross-cultural', 'cues', 'cultural', 'developing', 'diction', 'differences', 'discussions', 'done', 'echoes', 'education,', 'effective', 'encounter', 'engage', 'evocative', 'evoke', 'exactly', 'example,', 'folktales', 'folktales.', 'for', 'from', 'gain', 'get', 'grew', 'her', 'hope', 'humanities', 'idea.\\\\n', 'illustrations', 'in', 'increasingly', 'into', 'is', 'just', 'key', 'kind', 'knowledge.', 'language', 'language,', 'learning', 'learning.', 'levels', 'linguistic', 'literacy', 'literacy.\\\\n', 'make', 'might', 'more', 'mother’s', 'natural', 'needed', 'new', 'object,', 'of', 'our', 'out', 'own', 'perspectives.', 'practices', 'professor', 'progress', 'provide', 'put', 'readers', 'really', 'rich', 'richer', 'says', 'says.', 'scene', 'sees', 'semester,', 'she', 'similarities,”', 'sister', 'so', 'springboard', 'stories', 'students', 'students.”', 'students’', 'style', 'tales.', 'teaching', 'textbook', 'that', 'the', 'their', 'they', 'through', 'tiger', 'to', 'together', 'tool', 'understanding', 'unusually', 'up', 'use', 'useful', 'uses', 'very', 'vibrant', 'visual', 'vocabulary', 'was', 'way', 'we', 'what', 'while', 'who', 'with', 'work.', 'write', 'you', '“By', '“Folktales', '“Little', '“Sister', '“rich']\n",
            "Tokens: ['Mimi', 'Kim,', 'teaching', 'professor', 'of', 'Korean', 'language,', 'is', 'the', 'co-author', 'of', 'a', 'new', 'Korean', 'language', 'textbook', 'that', 'uses', 'folktales', 'as', 'a', 'springboard', 'for', 'language', 'learning.', 'The', '21', 'stories', 'that', 'make', 'up', 'Tigers,', 'Fairies,', 'and', 'Gods:', 'Enchanting', 'Folktales', 'from', 'Korea', 'progress', 'through', 'increasingly', 'challenging', 'levels', 'of', 'diction', 'and', 'vocabulary', 'while', 'developing', 'students’', 'cultural', 'literacy.\\\\n', 'Every', 'semester,', 'Mimi', 'Kim', 'asks', 'her', 'Korean', 'language', 'students', 'at', 'WashU', 'to', 'write', 'their', 'own', 'Korean-style', 'folktales.', 'She', 'says', 'that', 'folktales', 'are', '“rich', 'in', 'cultural', 'context,', 'and', 'so', 'they', 'provide', 'a', 'very', 'effective', 'backdrop', 'for', 'discussions', 'about', 'cultural', 'practices', 'and', 'perspectives.', 'Students', 'really', 'get', 'into', 'our', 'discussions', 'about', 'commonalities', 'and', 'differences', 'between', 'Korean', 'folktales', 'and', 'the', 'stories', 'that', 'they', 'grew', 'up', 'with', 'in', 'their', 'own', 'communities.”', 'Kim', 'sees', 'cultural', 'literacy', 'as', 'a', 'key', 'tool', 'for', 'the', 'language', 'classroom.', 'Tigers,', 'Fairies,', 'and', 'Gods', 'grew', 'out', 'of', 'that', 'idea.\\\\n', 'The', 'book', 'is', 'an', 'unusually', 'rich', 'visual', 'object,', 'with', 'vibrant', 'illustrations', 'done', 'in', 'a', 'style', 'that', 'is', 'evocative', 'of', 'Korean', 'animation.', 'Kim', 'and', 'her', 'co-author,', 'Angela', 'Lee-Smith', 'of', 'Yale', 'University,', 'use', 'visual', 'and', 'linguistic', 'cues', 'to', 'engage', 'with', 'students’', 'cultural', 'knowledge.', 'In', '“Sister', 'Sun', 'and', 'Brother', 'Moon,”', 'for', 'example,', 'a', 'brother', 'and', 'sister', 'encounter', 'a', 'tiger', 'in', 'their', 'mother’s', 'clothing', 'in', 'a', 'scene', 'that', 'might', 'evoke', 'echoes', 'of', '“Little', 'Red', 'Riding', 'Hood”', 'for', 'readers', 'who', 'grew', 'up', 'with', 'the', 'Grimm', 'brothers’', 'tales.', 'That', 'kind', 'of', 'cross-cultural', 'comparison', 'is', 'exactly', 'what', 'we', 'hope', 'for', 'in', 'humanities', 'education,', 'Kim', 'says.', '“By', 'learning', 'a', 'new', 'language', 'you', 'gain', 'a', 'richer', 'understanding', 'of', 'cultural', 'differences', 'and', 'similarities,”', 'she', 'says.', '“Folktales', 'are', 'a', 'natural', 'tool', 'for', 'that', 'work.', 'They', 'just', 'needed', 'to', 'be', 'put', 'together', 'in', 'a', 'way', 'that', 'was', 'more', 'useful', 'for', 'students.”']\n"
          ]
        }
      ]
    },
    {
      "cell_type": "markdown",
      "source": [
        "#**[A digital humanities project of Enchanting folktakes from Korea](https://ealc.wustl.edu/news/folktales-cultural-literacy)**\n",
        "\n",
        "###**[🍏 혹부리 할아버지](https://www.youtube.com/watch?v=pyPNKS6IjB8&list=PLgJYJCNIVKi1XNC3swicgU-9nRpnf82Lm)**\n",
        "\n",
        "###**[🍒 청개구리](https://www.youtube.com/watch?v=pVBqT0gh37I&list=PLgJYJCNIVKi1XNC3swicgU-9nRpnf82Lm&index=2)**\n",
        "\n",
        "###**[🍉 의좋은 형제](https://www.youtube.com/watch?v=7UpB0t9R4hY&list=PLgJYJCNIVKi1XNC3swicgU-9nRpnf82Lm&index=3)**\n",
        "\n",
        "###**[🍎 호랑이와 곶감](https://www.youtube.com/watch?v=JSfSnjtgnqo&list=PLgJYJCNIVKi1XNC3swicgU-9nRpnf82Lm&index=4)**\n",
        "\n",
        "###**[🍦 소가 된 게으름뱅이](https://www.youtube.com/watch?v=9ku3JSW7Vlw&list=PLgJYJCNIVKi1XNC3swicgU-9nRpnf82Lm&index=5)**\n",
        "\n",
        "###**[🍨 해님 달님](https://www.youtube.com/watch?v=yM5GOtrPzEE&list=PLgJYJCNIVKi1XNC3swicgU-9nRpnf82Lm&index=6)**\n",
        "\n",
        "###**[☕ 금도끼 은도끼](https://www.youtube.com/watch?v=xHzxGLuc6MA&list=PLgJYJCNIVKi1XNC3swicgU-9nRpnf82Lm&index=7)**\n",
        "\n",
        "\n",
        "\n",
        "[Table of contents]\n",
        "\n",
        "Beginning Level\n",
        "1. 청개구리 The Tale of The Green Frog\n",
        "2. 혹부리 할아버지 The Grandfather with The Lump on His Face\n",
        "3. 의좋은 형제 The Friendly Brothers\n",
        "4. 호랑이와 곶감 The Tiger and The Persimmon\n",
        "5. 소가 된 게으름뱅이 The Idler That Became a Cow\n",
        "6. 금도끼 은도끼 The Golden Ax, The Silver Ax\n",
        "7. 해님 달님 Sister Sun and Brother Moon\n",
        "\n",
        "- Intermediate Level-\n",
        "8. 흥부와 놀부 Heungbu and Nolbu\n",
        "9. 단군 이야기 The Tale of Dangun\n",
        "10. 효자 호랑이 The Filial Tiger\n",
        "11. 거울을 처음 본 사람들 Those Who First Looked in the MIrror\n",
        "12. 우렁각시 The Snail Bride\n",
        "13. 젊어지는 샘물 The Stream o Youth\n",
        "14. 은혜 갚은 까치 The Grateful Magpies\n",
        "\n",
        "- Advanced Level -\n",
        "15. 선녀와 나무꾼 The Heavenly Maiden and the Woodcutter\n",
        "16. 콩쥐 팥쥐 Kongjwi and Patjwi\n",
        "17. 토끼의 간 The Rabbit’s Liver\n",
        "18. 견우와 직녀 Gyeon-woo and Jik-nyeo\n",
        "19. 효녀 심청 Shim Chung The Filial Daughter\n",
        "20. 홍길동전 The Story of Hong Gil Dong\n",
        "21. 온달과 평강공주 Ondal and Princess Pyeonggang\n",
        "\n",
        "\n"
      ],
      "metadata": {
        "id": "qDNU9VmbfHAu"
      }
    }
  ]
}